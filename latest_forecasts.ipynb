{
 "cells": [
  {
   "cell_type": "code",
   "execution_count": 1,
   "metadata": {},
   "outputs": [
    {
     "name": "stderr",
     "output_type": "stream",
     "text": [
      "d:\\Python Projects\\Actuarial_NN_Forecasting\\test_env\\lib\\site-packages\\tensorflow\\python\\framework\\dtypes.py:516: FutureWarning: Passing (type, 1) or '1type' as a synonym of type is deprecated; in a future version of numpy, it will be understood as (type, (1,)) / '(1,)type'.\n",
      "  _np_qint8 = np.dtype([(\"qint8\", np.int8, 1)])\n",
      "d:\\Python Projects\\Actuarial_NN_Forecasting\\test_env\\lib\\site-packages\\tensorflow\\python\\framework\\dtypes.py:517: FutureWarning: Passing (type, 1) or '1type' as a synonym of type is deprecated; in a future version of numpy, it will be understood as (type, (1,)) / '(1,)type'.\n",
      "  _np_quint8 = np.dtype([(\"quint8\", np.uint8, 1)])\n",
      "d:\\Python Projects\\Actuarial_NN_Forecasting\\test_env\\lib\\site-packages\\tensorflow\\python\\framework\\dtypes.py:518: FutureWarning: Passing (type, 1) or '1type' as a synonym of type is deprecated; in a future version of numpy, it will be understood as (type, (1,)) / '(1,)type'.\n",
      "  _np_qint16 = np.dtype([(\"qint16\", np.int16, 1)])\n",
      "d:\\Python Projects\\Actuarial_NN_Forecasting\\test_env\\lib\\site-packages\\tensorflow\\python\\framework\\dtypes.py:519: FutureWarning: Passing (type, 1) or '1type' as a synonym of type is deprecated; in a future version of numpy, it will be understood as (type, (1,)) / '(1,)type'.\n",
      "  _np_quint16 = np.dtype([(\"quint16\", np.uint16, 1)])\n",
      "d:\\Python Projects\\Actuarial_NN_Forecasting\\test_env\\lib\\site-packages\\tensorflow\\python\\framework\\dtypes.py:520: FutureWarning: Passing (type, 1) or '1type' as a synonym of type is deprecated; in a future version of numpy, it will be understood as (type, (1,)) / '(1,)type'.\n",
      "  _np_qint32 = np.dtype([(\"qint32\", np.int32, 1)])\n",
      "d:\\Python Projects\\Actuarial_NN_Forecasting\\test_env\\lib\\site-packages\\tensorflow\\python\\framework\\dtypes.py:525: FutureWarning: Passing (type, 1) or '1type' as a synonym of type is deprecated; in a future version of numpy, it will be understood as (type, (1,)) / '(1,)type'.\n",
      "  np_resource = np.dtype([(\"resource\", np.ubyte, 1)])\n",
      "d:\\Python Projects\\Actuarial_NN_Forecasting\\test_env\\lib\\site-packages\\tensorboard\\compat\\tensorflow_stub\\dtypes.py:541: FutureWarning: Passing (type, 1) or '1type' as a synonym of type is deprecated; in a future version of numpy, it will be understood as (type, (1,)) / '(1,)type'.\n",
      "  _np_qint8 = np.dtype([(\"qint8\", np.int8, 1)])\n",
      "d:\\Python Projects\\Actuarial_NN_Forecasting\\test_env\\lib\\site-packages\\tensorboard\\compat\\tensorflow_stub\\dtypes.py:542: FutureWarning: Passing (type, 1) or '1type' as a synonym of type is deprecated; in a future version of numpy, it will be understood as (type, (1,)) / '(1,)type'.\n",
      "  _np_quint8 = np.dtype([(\"quint8\", np.uint8, 1)])\n",
      "d:\\Python Projects\\Actuarial_NN_Forecasting\\test_env\\lib\\site-packages\\tensorboard\\compat\\tensorflow_stub\\dtypes.py:543: FutureWarning: Passing (type, 1) or '1type' as a synonym of type is deprecated; in a future version of numpy, it will be understood as (type, (1,)) / '(1,)type'.\n",
      "  _np_qint16 = np.dtype([(\"qint16\", np.int16, 1)])\n",
      "d:\\Python Projects\\Actuarial_NN_Forecasting\\test_env\\lib\\site-packages\\tensorboard\\compat\\tensorflow_stub\\dtypes.py:544: FutureWarning: Passing (type, 1) or '1type' as a synonym of type is deprecated; in a future version of numpy, it will be understood as (type, (1,)) / '(1,)type'.\n",
      "  _np_quint16 = np.dtype([(\"quint16\", np.uint16, 1)])\n",
      "d:\\Python Projects\\Actuarial_NN_Forecasting\\test_env\\lib\\site-packages\\tensorboard\\compat\\tensorflow_stub\\dtypes.py:545: FutureWarning: Passing (type, 1) or '1type' as a synonym of type is deprecated; in a future version of numpy, it will be understood as (type, (1,)) / '(1,)type'.\n",
      "  _np_qint32 = np.dtype([(\"qint32\", np.int32, 1)])\n",
      "d:\\Python Projects\\Actuarial_NN_Forecasting\\test_env\\lib\\site-packages\\tensorboard\\compat\\tensorflow_stub\\dtypes.py:550: FutureWarning: Passing (type, 1) or '1type' as a synonym of type is deprecated; in a future version of numpy, it will be understood as (type, (1,)) / '(1,)type'.\n",
      "  np_resource = np.dtype([(\"resource\", np.ubyte, 1)])\n",
      "Using TensorFlow backend.\n",
      "d:\\Python Projects\\Actuarial_NN_Forecasting\\test_env\\lib\\site-packages\\tqdm\\auto.py:22: TqdmWarning: IProgress not found. Please update jupyter and ipywidgets. See https://ipywidgets.readthedocs.io/en/stable/user_install.html\n",
      "  from .autonotebook import tqdm as notebook_tqdm\n"
     ]
    }
   ],
   "source": [
    "import os\n",
    "import tensorflow as tf\n",
    "from methods.config import *\n",
    "from methods.clean_data import Data_Prep\n",
    "from methods.build_nn_model import build_model\n",
    "from methods.nn import get_NN_results\n",
    "from methods.var import get_VAR_results\n",
    "from methods.model_results import get_model_details\n",
    "from methods.data_methods import prepare_model_data, remove_outliers, prepare_X\n",
    "from methods.plot import plot_variables, plot_results, cluster_columns\n",
    "from methods.residual_bootstrap import get_prediction_intervals\n",
    "from methods.fund_forecast import reverse_diff\n",
    "import shap"
   ]
  },
  {
   "cell_type": "code",
   "execution_count": 2,
   "metadata": {},
   "outputs": [],
   "source": [
    "variable = \"CPIAUCSL\"  # Select from CPIAUCSL, GS5, RPI and UNRATE"
   ]
  },
  {
   "cell_type": "code",
   "execution_count": 3,
   "metadata": {},
   "outputs": [],
   "source": [
    "END_YEAR = 2019  # Latest model\n",
    "OUTPUT_STEPS = 24  # Max forecast\n",
    "model_details = get_model_details(END_YEAR, variable, OUTPUT_STEPS)\n",
    "look_back_steps = int(model_details[\"look_back_years\"] * 12)\n",
    "number_of_pca = model_details[\"number_of_pca\"]"
   ]
  },
  {
   "cell_type": "markdown",
   "metadata": {},
   "source": [
    "# Train Model"
   ]
  },
  {
   "cell_type": "code",
   "execution_count": 4,
   "metadata": {},
   "outputs": [
    {
     "name": "stdout",
     "output_type": "stream",
     "text": [
      "Variable BOGMBASE not found in transformation dictionary\n"
     ]
    }
   ],
   "source": [
    "data_prep = Data_Prep(LATEST_DATA_PATH, TRANSFORM_PATH)\n",
    "data_prep.transform_to_supervised_learning(\n",
    "    NA_CUTOFF,\n",
    "    [variable],\n",
    "    24,\n",
    "    start=f\"{START_YEAR}-01-01\",\n",
    "    end=f\"2023-01-01\",\n",
    ")\n",
    "dataset = data_prep.supervised_dataset\n",
    "full_dataset = dataset[\"transformed_data\"]"
   ]
  },
  {
   "cell_type": "code",
   "execution_count": 5,
   "metadata": {},
   "outputs": [],
   "source": [
    "data = prepare_model_data(\n",
    "    window=full_dataset,\n",
    "    X_variables=dataset[\"X_variables\"],\n",
    "    Y_variables=dataset[\"Y_variables\"],\n",
    "    val_steps=VAL_STEPS,\n",
    "    look_back=look_back_steps,\n",
    "    test_steps=1,\n",
    "    remove_outlier=REMOVE_OUTLIER,\n",
    "    number_of_pca=number_of_pca,\n",
    "    target_variables=dataset[\"target_variables\"],\n",
    ")\n",
    "\n",
    "data[\"train_X\"] = data[\"train_X\"][len(data[\"train_X\"]) % BATCH_SIZE :]\n",
    "data[\"train_Y\"] = data[\"train_Y\"][len(data[\"train_Y\"]) % BATCH_SIZE :]"
   ]
  },
  {
   "cell_type": "code",
   "execution_count": 6,
   "metadata": {},
   "outputs": [
    {
     "name": "stdout",
     "output_type": "stream",
     "text": [
      "WARNING:tensorflow:From d:\\Python Projects\\Actuarial_NN_Forecasting\\test_env\\lib\\site-packages\\tensorflow\\python\\ops\\init_ops.py:1251: calling VarianceScaling.__init__ (from tensorflow.python.ops.init_ops) with dtype is deprecated and will be removed in a future version.\n",
      "Instructions for updating:\n",
      "Call initializer instance with the dtype argument instead of passing it to the constructor\n",
      "Model: \"sequential\"\n",
      "_________________________________________________________________\n",
      "Layer (type)                 Output Shape              Param #   \n",
      "=================================================================\n",
      "conv1d (Conv1D)              (None, 23, 32)            3936      \n",
      "_________________________________________________________________\n",
      "max_pooling1d (MaxPooling1D) (None, 11, 32)            0         \n",
      "_________________________________________________________________\n",
      "dropout (Dropout)            (None, 11, 32)            0         \n",
      "_________________________________________________________________\n",
      "conv1d_1 (Conv1D)            (None, 10, 96)            6240      \n",
      "_________________________________________________________________\n",
      "max_pooling1d_1 (MaxPooling1 (None, 5, 96)             0         \n",
      "_________________________________________________________________\n",
      "dropout_1 (Dropout)          (None, 5, 96)             0         \n",
      "_________________________________________________________________\n",
      "lstm (LSTM)                  (None, 160)               164480    \n",
      "_________________________________________________________________\n",
      "dropout_2 (Dropout)          (None, 160)               0         \n",
      "_________________________________________________________________\n",
      "dense (Dense)                (None, 24)                3864      \n",
      "=================================================================\n",
      "Total params: 178,520\n",
      "Trainable params: 178,520\n",
      "Non-trainable params: 0\n",
      "_________________________________________________________________\n"
     ]
    }
   ],
   "source": [
    "model = build_model(data, model_details)\n",
    "model.summary()"
   ]
  },
  {
   "cell_type": "code",
   "execution_count": 7,
   "metadata": {},
   "outputs": [
    {
     "name": "stdout",
     "output_type": "stream",
     "text": [
      "WARNING:tensorflow:From d:\\Python Projects\\Actuarial_NN_Forecasting\\test_env\\lib\\site-packages\\tensorflow\\python\\ops\\math_grad.py:1250: add_dispatch_support.<locals>.wrapper (from tensorflow.python.ops.array_ops) is deprecated and will be removed in a future version.\n",
      "Instructions for updating:\n",
      "Use tf.where in 2.0, which has the same broadcast rule as np.where\n"
     ]
    },
    {
     "data": {
      "text/plain": [
       "<tensorflow.python.keras.callbacks.History at 0x15e9a7fa550>"
      ]
     },
     "execution_count": 7,
     "metadata": {},
     "output_type": "execute_result"
    }
   ],
   "source": [
    "model.fit(\n",
    "    x=data[\"train_X\"],\n",
    "    y=data[\"train_Y\"],\n",
    "    verbose=0,\n",
    "    epochs=EPOCHS,\n",
    "    batch_size=BATCH_SIZE,\n",
    "    callbacks=[tf.keras.callbacks.EarlyStopping(\"loss\", patience=5)],\n",
    "    validation_data=(data[\"val_X\"], data[\"val_Y\"]),\n",
    ")"
   ]
  },
  {
   "cell_type": "markdown",
   "metadata": {},
   "source": [
    "# Residual Bootstrapping"
   ]
  },
  {
   "cell_type": "code",
   "execution_count": 8,
   "metadata": {},
   "outputs": [],
   "source": [
    "import numpy as np\n",
    "\n",
    "full_X = np.concatenate((data[\"train_X\"], data[\"val_X\"]), axis=0)\n",
    "full_Y = np.concatenate((data[\"train_Y\"], data[\"val_Y\"]), axis=0)"
   ]
  },
  {
   "cell_type": "code",
   "execution_count": 9,
   "metadata": {},
   "outputs": [],
   "source": [
    "residuals = model.predict(full_X) - full_Y"
   ]
  },
  {
   "cell_type": "code",
   "execution_count": 10,
   "metadata": {},
   "outputs": [],
   "source": [
    "lower_10 = np.percentile(residuals, 5, axis=0)\n",
    "upper_10 = np.percentile(residuals, 95, axis=0)\n",
    "lower_40 = np.percentile(residuals, 20, axis=0)\n",
    "upper_40 = np.percentile(residuals, 80, axis=0)"
   ]
  },
  {
   "cell_type": "markdown",
   "metadata": {},
   "source": [
    "# Predict Latest"
   ]
  },
  {
   "cell_type": "code",
   "execution_count": 11,
   "metadata": {},
   "outputs": [
    {
     "name": "stdout",
     "output_type": "stream",
     "text": [
      "Variable BOGMBASE not found in transformation dictionary\n"
     ]
    }
   ],
   "source": [
    "latest_data_prep = Data_Prep(LATEST_DATA_PATH, TRANSFORM_PATH)\n",
    "latest_data_prep.transform_to_supervised_learning(\n",
    "    NA_CUTOFF,\n",
    "    [variable],\n",
    "    0,\n",
    "    start=f\"{START_YEAR}-01-01\",\n",
    "    end=f\"2023-01-01\",\n",
    ")\n",
    "latest_dataset = latest_data_prep.supervised_dataset\n",
    "latest_full_dataset = latest_dataset[\"transformed_data\"]"
   ]
  },
  {
   "cell_type": "code",
   "execution_count": 12,
   "metadata": {},
   "outputs": [],
   "source": [
    "window = remove_outliers(latest_full_dataset, 0, 0, REMOVE_OUTLIER)\n",
    "X_data = prepare_X(\n",
    "    window, dataset[\"X_variables\"], 0, 1, number_of_pca, dataset[\"target_variables\"]\n",
    ")\n",
    "X = list()\n",
    "for i in range(len(X_data)):\n",
    "    # Find the start of the final window\n",
    "    end_ix = i + look_back_steps\n",
    "    # Check if the end of the final window exceeds the length of dataset\n",
    "    if end_ix > len(X_data):\n",
    "        break\n",
    "    # gather input and output parts of the pattern\n",
    "    seq_x = X_data[i:end_ix]\n",
    "    X.append(seq_x)"
   ]
  },
  {
   "cell_type": "code",
   "execution_count": 13,
   "metadata": {},
   "outputs": [],
   "source": [
    "from numpy import array\n",
    "\n",
    "historical_data = latest_full_dataset[f\"{variable}(t)\"]\n",
    "\n",
    "predicted_series = model.predict(array(X))[-1]\n",
    "predicted_index = pd.date_range(\n",
    "    start=historical_data.index[-1], periods=len(predicted_series) + 1, freq=\"MS\"\n",
    ")[1:]\n",
    "predicted_data = pd.Series(data=predicted_series, index=predicted_index)\n",
    "predict_lower_10 = predicted_data + lower_10\n",
    "predict_lower_40 = predicted_data + lower_40\n",
    "predict_upper_10 = predicted_data + upper_10\n",
    "predict_upper_40 = predicted_data + upper_40"
   ]
  },
  {
   "cell_type": "code",
   "execution_count": 14,
   "metadata": {},
   "outputs": [],
   "source": [
    "def reverse_transform(series, variables_t, variables_t_1):\n",
    "    if variable == \"GS5\" or variable == \"UNRATE\":\n",
    "        data = 1 + np.array(reverse_diff(variables_t, series))[1:] / 100\n",
    "    elif variable == \"RPI\":\n",
    "        data = np.exp(series)\n",
    "    elif variable == \"CPIAUCSL\":\n",
    "        data = np.exp(\n",
    "            reverse_diff(np.log(variables_t) - np.log(variables_t_1), series)\n",
    "        )[1:]\n",
    "    return pd.Series(data=data, index=series.index)"
   ]
  },
  {
   "cell_type": "code",
   "execution_count": 15,
   "metadata": {},
   "outputs": [],
   "source": [
    "reverse_historical_variables_t = data_prep.raw_data[variable].loc[\n",
    "    historical_data.index[1]\n",
    "]\n",
    "reverse_historical_variables_t_1 = data_prep.raw_data[variable].loc[\n",
    "    historical_data.index[0]\n",
    "]\n",
    "reverse_historical_data = reverse_transform(\n",
    "    historical_data[2:],\n",
    "    reverse_historical_variables_t,\n",
    "    reverse_historical_variables_t_1,\n",
    ")"
   ]
  },
  {
   "cell_type": "code",
   "execution_count": 16,
   "metadata": {},
   "outputs": [],
   "source": [
    "def reverse_predicted_data_func(predicted_data):\n",
    "    reverse_predict_variables_t = data_prep.raw_data[variable].loc[\n",
    "        historical_data.index[-1]\n",
    "    ]\n",
    "    reverse_predict_variables_t_1 = data_prep.raw_data[variable].loc[\n",
    "        historical_data.index[-2]\n",
    "    ]\n",
    "    return reverse_transform(\n",
    "        predicted_data, reverse_predict_variables_t, reverse_predict_variables_t_1\n",
    "    )"
   ]
  },
  {
   "cell_type": "code",
   "execution_count": 17,
   "metadata": {},
   "outputs": [],
   "source": [
    "reverse_predicted_data = reverse_predicted_data_func(predicted_data)\n",
    "reverse_predict_lower_10 = reverse_predicted_data_func(predict_lower_10)\n",
    "reverse_predict_lower_40 = reverse_predicted_data_func(predict_lower_40)\n",
    "reverse_predict_upper_10 = reverse_predicted_data_func(predict_upper_10)\n",
    "reverse_predict_upper_40 = reverse_predicted_data_func(predict_upper_40)"
   ]
  },
  {
   "cell_type": "code",
   "execution_count": 18,
   "metadata": {},
   "outputs": [
    {
     "data": {
      "application/vnd.plotly.v1+json": {
       "config": {
        "plotlyServerURL": "https://plot.ly"
       },
       "data": [
        {
         "line": {
          "color": "orange"
         },
         "mode": "lines",
         "name": "Historical",
         "type": "scatter",
         "x": [
          "1960-03-01T00:00:00",
          "1960-04-01T00:00:00",
          "1960-05-01T00:00:00",
          "1960-06-01T00:00:00",
          "1960-07-01T00:00:00",
          "1960-08-01T00:00:00",
          "1960-09-01T00:00:00",
          "1960-10-01T00:00:00",
          "1960-11-01T00:00:00",
          "1960-12-01T00:00:00",
          "1961-01-01T00:00:00",
          "1961-02-01T00:00:00",
          "1961-03-01T00:00:00",
          "1961-04-01T00:00:00",
          "1961-05-01T00:00:00",
          "1961-06-01T00:00:00",
          "1961-07-01T00:00:00",
          "1961-08-01T00:00:00",
          "1961-09-01T00:00:00",
          "1961-10-01T00:00:00",
          "1961-11-01T00:00:00",
          "1961-12-01T00:00:00",
          "1962-01-01T00:00:00",
          "1962-02-01T00:00:00",
          "1962-03-01T00:00:00",
          "1962-04-01T00:00:00",
          "1962-05-01T00:00:00",
          "1962-06-01T00:00:00",
          "1962-07-01T00:00:00",
          "1962-08-01T00:00:00",
          "1962-09-01T00:00:00",
          "1962-10-01T00:00:00",
          "1962-11-01T00:00:00",
          "1962-12-01T00:00:00",
          "1963-01-01T00:00:00",
          "1963-02-01T00:00:00",
          "1963-03-01T00:00:00",
          "1963-04-01T00:00:00",
          "1963-05-01T00:00:00",
          "1963-06-01T00:00:00",
          "1963-07-01T00:00:00",
          "1963-08-01T00:00:00",
          "1963-09-01T00:00:00",
          "1963-10-01T00:00:00",
          "1963-11-01T00:00:00",
          "1963-12-01T00:00:00",
          "1964-01-01T00:00:00",
          "1964-02-01T00:00:00",
          "1964-03-01T00:00:00",
          "1964-04-01T00:00:00",
          "1964-05-01T00:00:00",
          "1964-06-01T00:00:00",
          "1964-07-01T00:00:00",
          "1964-08-01T00:00:00",
          "1964-09-01T00:00:00",
          "1964-10-01T00:00:00",
          "1964-11-01T00:00:00",
          "1964-12-01T00:00:00",
          "1965-01-01T00:00:00",
          "1965-02-01T00:00:00",
          "1965-03-01T00:00:00",
          "1965-04-01T00:00:00",
          "1965-05-01T00:00:00",
          "1965-06-01T00:00:00",
          "1965-07-01T00:00:00",
          "1965-08-01T00:00:00",
          "1965-09-01T00:00:00",
          "1965-10-01T00:00:00",
          "1965-11-01T00:00:00",
          "1965-12-01T00:00:00",
          "1966-01-01T00:00:00",
          "1966-02-01T00:00:00",
          "1966-03-01T00:00:00",
          "1966-04-01T00:00:00",
          "1966-05-01T00:00:00",
          "1966-06-01T00:00:00",
          "1966-07-01T00:00:00",
          "1966-08-01T00:00:00",
          "1966-09-01T00:00:00",
          "1966-10-01T00:00:00",
          "1966-11-01T00:00:00",
          "1966-12-01T00:00:00",
          "1967-01-01T00:00:00",
          "1967-02-01T00:00:00",
          "1967-03-01T00:00:00",
          "1967-04-01T00:00:00",
          "1967-05-01T00:00:00",
          "1967-06-01T00:00:00",
          "1967-07-01T00:00:00",
          "1967-08-01T00:00:00",
          "1967-09-01T00:00:00",
          "1967-10-01T00:00:00",
          "1967-11-01T00:00:00",
          "1967-12-01T00:00:00",
          "1968-01-01T00:00:00",
          "1968-02-01T00:00:00",
          "1968-03-01T00:00:00",
          "1968-04-01T00:00:00",
          "1968-05-01T00:00:00",
          "1968-06-01T00:00:00",
          "1968-07-01T00:00:00",
          "1968-08-01T00:00:00",
          "1968-09-01T00:00:00",
          "1968-10-01T00:00:00",
          "1968-11-01T00:00:00",
          "1968-12-01T00:00:00",
          "1969-01-01T00:00:00",
          "1969-02-01T00:00:00",
          "1969-03-01T00:00:00",
          "1969-04-01T00:00:00",
          "1969-05-01T00:00:00",
          "1969-06-01T00:00:00",
          "1969-07-01T00:00:00",
          "1969-08-01T00:00:00",
          "1969-09-01T00:00:00",
          "1969-10-01T00:00:00",
          "1969-11-01T00:00:00",
          "1969-12-01T00:00:00",
          "1970-01-01T00:00:00",
          "1970-02-01T00:00:00",
          "1970-03-01T00:00:00",
          "1970-04-01T00:00:00",
          "1970-05-01T00:00:00",
          "1970-06-01T00:00:00",
          "1970-07-01T00:00:00",
          "1970-08-01T00:00:00",
          "1970-09-01T00:00:00",
          "1970-10-01T00:00:00",
          "1970-11-01T00:00:00",
          "1970-12-01T00:00:00",
          "1971-01-01T00:00:00",
          "1971-02-01T00:00:00",
          "1971-03-01T00:00:00",
          "1971-04-01T00:00:00",
          "1971-05-01T00:00:00",
          "1971-06-01T00:00:00",
          "1971-07-01T00:00:00",
          "1971-08-01T00:00:00",
          "1971-09-01T00:00:00",
          "1971-10-01T00:00:00",
          "1971-11-01T00:00:00",
          "1971-12-01T00:00:00",
          "1972-01-01T00:00:00",
          "1972-02-01T00:00:00",
          "1972-03-01T00:00:00",
          "1972-04-01T00:00:00",
          "1972-05-01T00:00:00",
          "1972-06-01T00:00:00",
          "1972-07-01T00:00:00",
          "1972-08-01T00:00:00",
          "1972-09-01T00:00:00",
          "1972-10-01T00:00:00",
          "1972-11-01T00:00:00",
          "1972-12-01T00:00:00",
          "1973-01-01T00:00:00",
          "1973-02-01T00:00:00",
          "1973-03-01T00:00:00",
          "1973-04-01T00:00:00",
          "1973-05-01T00:00:00",
          "1973-06-01T00:00:00",
          "1973-07-01T00:00:00",
          "1973-08-01T00:00:00",
          "1973-09-01T00:00:00",
          "1973-10-01T00:00:00",
          "1973-11-01T00:00:00",
          "1973-12-01T00:00:00",
          "1974-01-01T00:00:00",
          "1974-02-01T00:00:00",
          "1974-03-01T00:00:00",
          "1974-04-01T00:00:00",
          "1974-05-01T00:00:00",
          "1974-06-01T00:00:00",
          "1974-07-01T00:00:00",
          "1974-08-01T00:00:00",
          "1974-09-01T00:00:00",
          "1974-10-01T00:00:00",
          "1974-11-01T00:00:00",
          "1974-12-01T00:00:00",
          "1975-01-01T00:00:00",
          "1975-02-01T00:00:00",
          "1975-03-01T00:00:00",
          "1975-04-01T00:00:00",
          "1975-05-01T00:00:00",
          "1975-06-01T00:00:00",
          "1975-07-01T00:00:00",
          "1975-08-01T00:00:00",
          "1975-09-01T00:00:00",
          "1975-10-01T00:00:00",
          "1975-11-01T00:00:00",
          "1975-12-01T00:00:00",
          "1976-01-01T00:00:00",
          "1976-02-01T00:00:00",
          "1976-03-01T00:00:00",
          "1976-04-01T00:00:00",
          "1976-05-01T00:00:00",
          "1976-06-01T00:00:00",
          "1976-07-01T00:00:00",
          "1976-08-01T00:00:00",
          "1976-09-01T00:00:00",
          "1976-10-01T00:00:00",
          "1976-11-01T00:00:00",
          "1976-12-01T00:00:00",
          "1977-01-01T00:00:00",
          "1977-02-01T00:00:00",
          "1977-03-01T00:00:00",
          "1977-04-01T00:00:00",
          "1977-05-01T00:00:00",
          "1977-06-01T00:00:00",
          "1977-07-01T00:00:00",
          "1977-08-01T00:00:00",
          "1977-09-01T00:00:00",
          "1977-10-01T00:00:00",
          "1977-11-01T00:00:00",
          "1977-12-01T00:00:00",
          "1978-01-01T00:00:00",
          "1978-02-01T00:00:00",
          "1978-03-01T00:00:00",
          "1978-04-01T00:00:00",
          "1978-05-01T00:00:00",
          "1978-06-01T00:00:00",
          "1978-07-01T00:00:00",
          "1978-08-01T00:00:00",
          "1978-09-01T00:00:00",
          "1978-10-01T00:00:00",
          "1978-11-01T00:00:00",
          "1978-12-01T00:00:00",
          "1979-01-01T00:00:00",
          "1979-02-01T00:00:00",
          "1979-03-01T00:00:00",
          "1979-04-01T00:00:00",
          "1979-05-01T00:00:00",
          "1979-06-01T00:00:00",
          "1979-07-01T00:00:00",
          "1979-08-01T00:00:00",
          "1979-09-01T00:00:00",
          "1979-10-01T00:00:00",
          "1979-11-01T00:00:00",
          "1979-12-01T00:00:00",
          "1980-01-01T00:00:00",
          "1980-02-01T00:00:00",
          "1980-03-01T00:00:00",
          "1980-04-01T00:00:00",
          "1980-05-01T00:00:00",
          "1980-06-01T00:00:00",
          "1980-07-01T00:00:00",
          "1980-08-01T00:00:00",
          "1980-09-01T00:00:00",
          "1980-10-01T00:00:00",
          "1980-11-01T00:00:00",
          "1980-12-01T00:00:00",
          "1981-01-01T00:00:00",
          "1981-02-01T00:00:00",
          "1981-03-01T00:00:00",
          "1981-04-01T00:00:00",
          "1981-05-01T00:00:00",
          "1981-06-01T00:00:00",
          "1981-07-01T00:00:00",
          "1981-08-01T00:00:00",
          "1981-09-01T00:00:00",
          "1981-10-01T00:00:00",
          "1981-11-01T00:00:00",
          "1981-12-01T00:00:00",
          "1982-01-01T00:00:00",
          "1982-02-01T00:00:00",
          "1982-03-01T00:00:00",
          "1982-04-01T00:00:00",
          "1982-05-01T00:00:00",
          "1982-06-01T00:00:00",
          "1982-07-01T00:00:00",
          "1982-08-01T00:00:00",
          "1982-09-01T00:00:00",
          "1982-10-01T00:00:00",
          "1982-11-01T00:00:00",
          "1982-12-01T00:00:00",
          "1983-01-01T00:00:00",
          "1983-02-01T00:00:00",
          "1983-03-01T00:00:00",
          "1983-04-01T00:00:00",
          "1983-05-01T00:00:00",
          "1983-06-01T00:00:00",
          "1983-07-01T00:00:00",
          "1983-08-01T00:00:00",
          "1983-09-01T00:00:00",
          "1983-10-01T00:00:00",
          "1983-11-01T00:00:00",
          "1983-12-01T00:00:00",
          "1984-01-01T00:00:00",
          "1984-02-01T00:00:00",
          "1984-03-01T00:00:00",
          "1984-04-01T00:00:00",
          "1984-05-01T00:00:00",
          "1984-06-01T00:00:00",
          "1984-07-01T00:00:00",
          "1984-08-01T00:00:00",
          "1984-09-01T00:00:00",
          "1984-10-01T00:00:00",
          "1984-11-01T00:00:00",
          "1984-12-01T00:00:00",
          "1985-01-01T00:00:00",
          "1985-02-01T00:00:00",
          "1985-03-01T00:00:00",
          "1985-04-01T00:00:00",
          "1985-05-01T00:00:00",
          "1985-06-01T00:00:00",
          "1985-07-01T00:00:00",
          "1985-08-01T00:00:00",
          "1985-09-01T00:00:00",
          "1985-10-01T00:00:00",
          "1985-11-01T00:00:00",
          "1985-12-01T00:00:00",
          "1986-01-01T00:00:00",
          "1986-02-01T00:00:00",
          "1986-03-01T00:00:00",
          "1986-04-01T00:00:00",
          "1986-05-01T00:00:00",
          "1986-06-01T00:00:00",
          "1986-07-01T00:00:00",
          "1986-08-01T00:00:00",
          "1986-09-01T00:00:00",
          "1986-10-01T00:00:00",
          "1986-11-01T00:00:00",
          "1986-12-01T00:00:00",
          "1987-01-01T00:00:00",
          "1987-02-01T00:00:00",
          "1987-03-01T00:00:00",
          "1987-04-01T00:00:00",
          "1987-05-01T00:00:00",
          "1987-06-01T00:00:00",
          "1987-07-01T00:00:00",
          "1987-08-01T00:00:00",
          "1987-09-01T00:00:00",
          "1987-10-01T00:00:00",
          "1987-11-01T00:00:00",
          "1987-12-01T00:00:00",
          "1988-01-01T00:00:00",
          "1988-02-01T00:00:00",
          "1988-03-01T00:00:00",
          "1988-04-01T00:00:00",
          "1988-05-01T00:00:00",
          "1988-06-01T00:00:00",
          "1988-07-01T00:00:00",
          "1988-08-01T00:00:00",
          "1988-09-01T00:00:00",
          "1988-10-01T00:00:00",
          "1988-11-01T00:00:00",
          "1988-12-01T00:00:00",
          "1989-01-01T00:00:00",
          "1989-02-01T00:00:00",
          "1989-03-01T00:00:00",
          "1989-04-01T00:00:00",
          "1989-05-01T00:00:00",
          "1989-06-01T00:00:00",
          "1989-07-01T00:00:00",
          "1989-08-01T00:00:00",
          "1989-09-01T00:00:00",
          "1989-10-01T00:00:00",
          "1989-11-01T00:00:00",
          "1989-12-01T00:00:00",
          "1990-01-01T00:00:00",
          "1990-02-01T00:00:00",
          "1990-03-01T00:00:00",
          "1990-04-01T00:00:00",
          "1990-05-01T00:00:00",
          "1990-06-01T00:00:00",
          "1990-07-01T00:00:00",
          "1990-08-01T00:00:00",
          "1990-09-01T00:00:00",
          "1990-10-01T00:00:00",
          "1990-11-01T00:00:00",
          "1990-12-01T00:00:00",
          "1991-01-01T00:00:00",
          "1991-02-01T00:00:00",
          "1991-03-01T00:00:00",
          "1991-04-01T00:00:00",
          "1991-05-01T00:00:00",
          "1991-06-01T00:00:00",
          "1991-07-01T00:00:00",
          "1991-08-01T00:00:00",
          "1991-09-01T00:00:00",
          "1991-10-01T00:00:00",
          "1991-11-01T00:00:00",
          "1991-12-01T00:00:00",
          "1992-01-01T00:00:00",
          "1992-02-01T00:00:00",
          "1992-03-01T00:00:00",
          "1992-04-01T00:00:00",
          "1992-05-01T00:00:00",
          "1992-06-01T00:00:00",
          "1992-07-01T00:00:00",
          "1992-08-01T00:00:00",
          "1992-09-01T00:00:00",
          "1992-10-01T00:00:00",
          "1992-11-01T00:00:00",
          "1992-12-01T00:00:00",
          "1993-01-01T00:00:00",
          "1993-02-01T00:00:00",
          "1993-03-01T00:00:00",
          "1993-04-01T00:00:00",
          "1993-05-01T00:00:00",
          "1993-06-01T00:00:00",
          "1993-07-01T00:00:00",
          "1993-08-01T00:00:00",
          "1993-09-01T00:00:00",
          "1993-10-01T00:00:00",
          "1993-11-01T00:00:00",
          "1993-12-01T00:00:00",
          "1994-01-01T00:00:00",
          "1994-02-01T00:00:00",
          "1994-03-01T00:00:00",
          "1994-04-01T00:00:00",
          "1994-05-01T00:00:00",
          "1994-06-01T00:00:00",
          "1994-07-01T00:00:00",
          "1994-08-01T00:00:00",
          "1994-09-01T00:00:00",
          "1994-10-01T00:00:00",
          "1994-11-01T00:00:00",
          "1994-12-01T00:00:00",
          "1995-01-01T00:00:00",
          "1995-02-01T00:00:00",
          "1995-03-01T00:00:00",
          "1995-04-01T00:00:00",
          "1995-05-01T00:00:00",
          "1995-06-01T00:00:00",
          "1995-07-01T00:00:00",
          "1995-08-01T00:00:00",
          "1995-09-01T00:00:00",
          "1995-10-01T00:00:00",
          "1995-11-01T00:00:00",
          "1995-12-01T00:00:00",
          "1996-01-01T00:00:00",
          "1996-02-01T00:00:00",
          "1996-03-01T00:00:00",
          "1996-04-01T00:00:00",
          "1996-05-01T00:00:00",
          "1996-06-01T00:00:00",
          "1996-07-01T00:00:00",
          "1996-08-01T00:00:00",
          "1996-09-01T00:00:00",
          "1996-10-01T00:00:00",
          "1996-11-01T00:00:00",
          "1996-12-01T00:00:00",
          "1997-01-01T00:00:00",
          "1997-02-01T00:00:00",
          "1997-03-01T00:00:00",
          "1997-04-01T00:00:00",
          "1997-05-01T00:00:00",
          "1997-06-01T00:00:00",
          "1997-07-01T00:00:00",
          "1997-08-01T00:00:00",
          "1997-09-01T00:00:00",
          "1997-10-01T00:00:00",
          "1997-11-01T00:00:00",
          "1997-12-01T00:00:00",
          "1998-01-01T00:00:00",
          "1998-02-01T00:00:00",
          "1998-03-01T00:00:00",
          "1998-04-01T00:00:00",
          "1998-05-01T00:00:00",
          "1998-06-01T00:00:00",
          "1998-07-01T00:00:00",
          "1998-08-01T00:00:00",
          "1998-09-01T00:00:00",
          "1998-10-01T00:00:00",
          "1998-11-01T00:00:00",
          "1998-12-01T00:00:00",
          "1999-01-01T00:00:00",
          "1999-02-01T00:00:00",
          "1999-03-01T00:00:00",
          "1999-04-01T00:00:00",
          "1999-05-01T00:00:00",
          "1999-06-01T00:00:00",
          "1999-07-01T00:00:00",
          "1999-08-01T00:00:00",
          "1999-09-01T00:00:00",
          "1999-10-01T00:00:00",
          "1999-11-01T00:00:00",
          "1999-12-01T00:00:00",
          "2000-01-01T00:00:00",
          "2000-02-01T00:00:00",
          "2000-03-01T00:00:00",
          "2000-04-01T00:00:00",
          "2000-05-01T00:00:00",
          "2000-06-01T00:00:00",
          "2000-07-01T00:00:00",
          "2000-08-01T00:00:00",
          "2000-09-01T00:00:00",
          "2000-10-01T00:00:00",
          "2000-11-01T00:00:00",
          "2000-12-01T00:00:00",
          "2001-01-01T00:00:00",
          "2001-02-01T00:00:00",
          "2001-03-01T00:00:00",
          "2001-04-01T00:00:00",
          "2001-05-01T00:00:00",
          "2001-06-01T00:00:00",
          "2001-07-01T00:00:00",
          "2001-08-01T00:00:00",
          "2001-09-01T00:00:00",
          "2001-10-01T00:00:00",
          "2001-11-01T00:00:00",
          "2001-12-01T00:00:00",
          "2002-01-01T00:00:00",
          "2002-02-01T00:00:00",
          "2002-03-01T00:00:00",
          "2002-04-01T00:00:00",
          "2002-05-01T00:00:00",
          "2002-06-01T00:00:00",
          "2002-07-01T00:00:00",
          "2002-08-01T00:00:00",
          "2002-09-01T00:00:00",
          "2002-10-01T00:00:00",
          "2002-11-01T00:00:00",
          "2002-12-01T00:00:00",
          "2003-01-01T00:00:00",
          "2003-02-01T00:00:00",
          "2003-03-01T00:00:00",
          "2003-04-01T00:00:00",
          "2003-05-01T00:00:00",
          "2003-06-01T00:00:00",
          "2003-07-01T00:00:00",
          "2003-08-01T00:00:00",
          "2003-09-01T00:00:00",
          "2003-10-01T00:00:00",
          "2003-11-01T00:00:00",
          "2003-12-01T00:00:00",
          "2004-01-01T00:00:00",
          "2004-02-01T00:00:00",
          "2004-03-01T00:00:00",
          "2004-04-01T00:00:00",
          "2004-05-01T00:00:00",
          "2004-06-01T00:00:00",
          "2004-07-01T00:00:00",
          "2004-08-01T00:00:00",
          "2004-09-01T00:00:00",
          "2004-10-01T00:00:00",
          "2004-11-01T00:00:00",
          "2004-12-01T00:00:00",
          "2005-01-01T00:00:00",
          "2005-02-01T00:00:00",
          "2005-03-01T00:00:00",
          "2005-04-01T00:00:00",
          "2005-05-01T00:00:00",
          "2005-06-01T00:00:00",
          "2005-07-01T00:00:00",
          "2005-08-01T00:00:00",
          "2005-09-01T00:00:00",
          "2005-10-01T00:00:00",
          "2005-11-01T00:00:00",
          "2005-12-01T00:00:00",
          "2006-01-01T00:00:00",
          "2006-02-01T00:00:00",
          "2006-03-01T00:00:00",
          "2006-04-01T00:00:00",
          "2006-05-01T00:00:00",
          "2006-06-01T00:00:00",
          "2006-07-01T00:00:00",
          "2006-08-01T00:00:00",
          "2006-09-01T00:00:00",
          "2006-10-01T00:00:00",
          "2006-11-01T00:00:00",
          "2006-12-01T00:00:00",
          "2007-01-01T00:00:00",
          "2007-02-01T00:00:00",
          "2007-03-01T00:00:00",
          "2007-04-01T00:00:00",
          "2007-05-01T00:00:00",
          "2007-06-01T00:00:00",
          "2007-07-01T00:00:00",
          "2007-08-01T00:00:00",
          "2007-09-01T00:00:00",
          "2007-10-01T00:00:00",
          "2007-11-01T00:00:00",
          "2007-12-01T00:00:00",
          "2008-01-01T00:00:00",
          "2008-02-01T00:00:00",
          "2008-03-01T00:00:00",
          "2008-04-01T00:00:00",
          "2008-05-01T00:00:00",
          "2008-06-01T00:00:00",
          "2008-07-01T00:00:00",
          "2008-08-01T00:00:00",
          "2008-09-01T00:00:00",
          "2008-10-01T00:00:00",
          "2008-11-01T00:00:00",
          "2008-12-01T00:00:00",
          "2009-01-01T00:00:00",
          "2009-02-01T00:00:00",
          "2009-03-01T00:00:00",
          "2009-04-01T00:00:00",
          "2009-05-01T00:00:00",
          "2009-06-01T00:00:00",
          "2009-07-01T00:00:00",
          "2009-08-01T00:00:00",
          "2009-09-01T00:00:00",
          "2009-10-01T00:00:00",
          "2009-11-01T00:00:00",
          "2009-12-01T00:00:00",
          "2010-01-01T00:00:00",
          "2010-02-01T00:00:00",
          "2010-03-01T00:00:00",
          "2010-04-01T00:00:00",
          "2010-05-01T00:00:00",
          "2010-06-01T00:00:00",
          "2010-07-01T00:00:00",
          "2010-08-01T00:00:00",
          "2010-09-01T00:00:00",
          "2010-10-01T00:00:00",
          "2010-11-01T00:00:00",
          "2010-12-01T00:00:00",
          "2011-01-01T00:00:00",
          "2011-02-01T00:00:00",
          "2011-03-01T00:00:00",
          "2011-04-01T00:00:00",
          "2011-05-01T00:00:00",
          "2011-06-01T00:00:00",
          "2011-07-01T00:00:00",
          "2011-08-01T00:00:00",
          "2011-09-01T00:00:00",
          "2011-10-01T00:00:00",
          "2011-11-01T00:00:00",
          "2011-12-01T00:00:00",
          "2012-01-01T00:00:00",
          "2012-02-01T00:00:00",
          "2012-03-01T00:00:00",
          "2012-04-01T00:00:00",
          "2012-05-01T00:00:00",
          "2012-06-01T00:00:00",
          "2012-07-01T00:00:00",
          "2012-08-01T00:00:00",
          "2012-09-01T00:00:00",
          "2012-10-01T00:00:00",
          "2012-11-01T00:00:00",
          "2012-12-01T00:00:00",
          "2013-01-01T00:00:00",
          "2013-02-01T00:00:00",
          "2013-03-01T00:00:00",
          "2013-04-01T00:00:00",
          "2013-05-01T00:00:00",
          "2013-06-01T00:00:00",
          "2013-07-01T00:00:00",
          "2013-08-01T00:00:00",
          "2013-09-01T00:00:00",
          "2013-10-01T00:00:00",
          "2013-11-01T00:00:00",
          "2013-12-01T00:00:00",
          "2014-01-01T00:00:00",
          "2014-02-01T00:00:00",
          "2014-03-01T00:00:00",
          "2014-04-01T00:00:00",
          "2014-05-01T00:00:00",
          "2014-06-01T00:00:00",
          "2014-07-01T00:00:00",
          "2014-08-01T00:00:00",
          "2014-09-01T00:00:00",
          "2014-10-01T00:00:00",
          "2014-11-01T00:00:00",
          "2014-12-01T00:00:00",
          "2015-01-01T00:00:00",
          "2015-02-01T00:00:00",
          "2015-03-01T00:00:00",
          "2015-04-01T00:00:00",
          "2015-05-01T00:00:00",
          "2015-06-01T00:00:00",
          "2015-07-01T00:00:00",
          "2015-08-01T00:00:00",
          "2015-09-01T00:00:00",
          "2015-10-01T00:00:00",
          "2015-11-01T00:00:00",
          "2015-12-01T00:00:00",
          "2016-01-01T00:00:00",
          "2016-02-01T00:00:00",
          "2016-03-01T00:00:00",
          "2016-04-01T00:00:00",
          "2016-05-01T00:00:00",
          "2016-06-01T00:00:00",
          "2016-07-01T00:00:00",
          "2016-08-01T00:00:00",
          "2016-09-01T00:00:00",
          "2016-10-01T00:00:00",
          "2016-11-01T00:00:00",
          "2016-12-01T00:00:00",
          "2017-01-01T00:00:00",
          "2017-02-01T00:00:00",
          "2017-03-01T00:00:00",
          "2017-04-01T00:00:00",
          "2017-05-01T00:00:00",
          "2017-06-01T00:00:00",
          "2017-07-01T00:00:00",
          "2017-08-01T00:00:00",
          "2017-09-01T00:00:00",
          "2017-10-01T00:00:00",
          "2017-11-01T00:00:00",
          "2017-12-01T00:00:00",
          "2018-01-01T00:00:00",
          "2018-02-01T00:00:00",
          "2018-03-01T00:00:00",
          "2018-04-01T00:00:00",
          "2018-05-01T00:00:00",
          "2018-06-01T00:00:00",
          "2018-07-01T00:00:00",
          "2018-08-01T00:00:00",
          "2018-09-01T00:00:00",
          "2018-10-01T00:00:00",
          "2018-11-01T00:00:00",
          "2018-12-01T00:00:00",
          "2019-01-01T00:00:00",
          "2019-02-01T00:00:00",
          "2019-03-01T00:00:00",
          "2019-04-01T00:00:00",
          "2019-05-01T00:00:00",
          "2019-06-01T00:00:00",
          "2019-07-01T00:00:00",
          "2019-08-01T00:00:00",
          "2019-09-01T00:00:00",
          "2019-10-01T00:00:00",
          "2019-11-01T00:00:00",
          "2019-12-01T00:00:00",
          "2020-01-01T00:00:00",
          "2020-02-01T00:00:00",
          "2020-03-01T00:00:00",
          "2020-05-01T00:00:00",
          "2020-06-01T00:00:00",
          "2020-07-01T00:00:00",
          "2020-08-01T00:00:00",
          "2020-09-01T00:00:00",
          "2020-10-01T00:00:00",
          "2020-11-01T00:00:00",
          "2020-12-01T00:00:00",
          "2021-01-01T00:00:00",
          "2021-02-01T00:00:00",
          "2021-03-01T00:00:00",
          "2021-04-01T00:00:00",
          "2021-05-01T00:00:00",
          "2021-06-01T00:00:00",
          "2021-07-01T00:00:00",
          "2021-08-01T00:00:00",
          "2021-09-01T00:00:00",
          "2021-10-01T00:00:00",
          "2021-11-01T00:00:00",
          "2021-12-01T00:00:00",
          "2022-01-01T00:00:00",
          "2022-02-01T00:00:00",
          "2022-03-01T00:00:00",
          "2022-04-01T00:00:00",
          "2022-05-01T00:00:00",
          "2022-06-01T00:00:00",
          "2022-07-01T00:00:00",
          "2022-08-01T00:00:00",
          "2022-09-01T00:00:00",
          "2022-10-01T00:00:00"
         ],
         "y": [
          -0.0013610073553746993,
          0.004410524537330041,
          -0.0033954677761780516,
          0.0003367514879624167,
          -0.0033802065105073,
          0.004056796522785788,
          -0.002028398261392894,
          0.004716989878138733,
          -0.0037090946139146652,
          -1.0148301070600496e-06,
          -1.0127885365918132e-06,
          -0.001005867645580416,
          0,
          -0.001005867645580416,
          0.002011735291160832,
          -0.001005867645580416,
          0.002677377770716305,
          -0.0020091518855105406,
          0.0006668877977635823,
          -0.0013351136829693466,
          0,
          0.0010001667778238854,
          -9.993341656411303e-07,
          0.0013283481540504738,
          -0.00033680492038135057,
          -0.0006657684497168859,
          -0.00033238631485854597,
          -0.0019851118255038713,
          0.001323517358764903,
          0.0016525102786415502,
          0.002629386537244205,
          -0.005928647925418584,
          0.0013157896635198618,
          0,
          0.0019730358258582825,
          -0.00065983800089775,
          -0.00032942991482798334,
          -0.0019675358202650983,
          0.0019675358202650983,
          0.002288486318610339,
          -0.0006621385544192115,
          -0.000656990053441664,
          -0.002929211593937442,
          0.0019521719461108589,
          -9.518148491594047e-07,
          0.002268462587636133,
          -0.001302476757497839,
          -0.0029112089892393556,
          0.001940178001789583,
          -0.0006469350152098485,
          0.0006456818724327462,
          -9.377344825090006e-07,
          -0.0006454734876002455,
          0.0006442259950603102,
          -9.335111363917292e-07,
          0.0003204566907850648,
          0.0016016831617533533,
          -0.001607037072774542,
          -0.00032128040502321653,
          -0.0009595394946995128,
          0.0009586196612039188,
          0.001274592305368305,
          0.0009484642777439767,
          0.0009394264340074621,
          -0.005070620078353905,
          -9.024402434221201e-07,
          0.0031666626343773707,
          -0.0012679259852443892,
          0.0022062599396561744,
          -9.920069043989344e-06,
          -0.0022031847756296408,
          0.005312457172457652,
          -0.0031415705103761127,
          -9.656728412466009e-06,
          -0.0009365242923493611,
          -0.0012392502425822016,
          0.0012325675980306983,
          0.003984917671731036,
          -0.003086306213520462,
          -9.323509461811597e-06,
          -0.002135957591999471,
          0.0003029803635308248,
          -0.0018235236584334125,
          0.003642621732697471,
          -0.003034903695154245,
          0.003025720916537189,
          -0.003025720916537189,
          0.006024114603380593,
          -0.0030256116071241124,
          -8.96414789020028e-06,
          -8.910710228349217e-06,
          -8.857748980517499e-06,
          0.0029454066389309475,
          -0.002971666798331274,
          -8.650556447609148e-06,
          -8.599894220751025e-06,
          -8.549675754476738e-06,
          -8.49989587559108e-06,
          -8.450549497052151e-06,
          0.0028776032575374977,
          -3.32206599309437e-05,
          -0.002885909974536194,
          -8.163298625518678e-06,
          0.0028287644850246707,
          -0.002852977266953438,
          0.002804961517778537,
          -0.0028287667906479186,
          -7.846306547154569e-06,
          0.0055477673111195,
          -0.0028200960002107145,
          -0.002773842560079842,
          0.002728432392735236,
          -2.9860997060371375e-05,
          -0.0027358988959687025,
          0.0026917126953116544,
          -2.9061530527840773e-05,
          -2.8750709784475248e-05,
          -2.8444848995778926e-05,
          -2.814384318394758e-05,
          -2.7847590141405476e-05,
          -2.7555990329553026e-05,
          -2.7268946806380256e-05,
          -0.0026143099300921513,
          0.002573934981396242,
          -0.0025939661632699007,
          -6.608489926840377e-06,
          0.0025477051615245827,
          -2.6031159299222395e-05,
          -2.5767550924538085e-05,
          -2.5507926589618535e-05,
          -0.002528382424531017,
          -0.0025094116054260596,
          0.0025031302181184323,
          -6.250019531250928e-06,
          0.002478254441526495,
          -2.462948025749867e-05,
          -0.002484412664662372,
          -6.066654331338128e-06,
          -6.036879296011932e-06,
          -6.007322926659953e-06,
          -5.977983087657179e-06,
          -5.948857670912133e-06,
          -5.919944589649617e-06,
          0.0024124896224964054,
          -0.004842624475787982,
          0.0024125464053836865,
          -5.80637481828461e-06,
          -5.778493027186471e-06,
          -5.7508115838267315e-06,
          -5.723328572848629e-06,
          0.002372426362862168,
          -0.0023894334066132394,
          0.0023556608423156433,
          -0.0023724275034870956,
          0.002339130611748619,
          0.002306351154775843,
          0.0022581299538133592,
          -0.0023706644176115788,
          -0.0023224430156041365,
          0.002244251022945676,
          -0.006810469002526798,
          0.017937700686667224,
          -0.013503103618801138,
          0.004376032614288761,
          -0.0022532291359960155,
          0.00211944347952997,
          0.002064397805724205,
          -0.00011414925712704971,
          -0.00011174857476303757,
          -0.004258806385217362,
          0.004084816180426998,
          -0.002144586590554276,
          -0.002092984266160336,
          0.0059931387708105355,
          0.0018336518271184765,
          -0.0060565171050410704,
          0.0018821185144588526,
          -0.0020191924432122477,
          -5.940160311812548e-05,
          -0.001957832226247458,
          -0.0019246777042352115,
          -1.4348128645647051e-05,
          -0.0018957081441346446,
          0.005619710958296054,
          0.0017976670082462398,
          -0.005605530780987689,
          0.0036561124239327114,
          -0.0018735085406333951,
          0.0017800942481791537,
          -0.0018492672845571434,
          -0.0018196245975188319,
          -0.0018001573569401685,
          -3.2001996919106546e-06,
          -3.1887805951313908e-06,
          0.0035492241818610992,
          -2.8293745669039083e-05,
          -2.799512884976707e-05,
          -2.770121469986009e-05,
          -2.741190499211399e-05,
          -2.712710404750851e-05,
          -0.0017465375981879916,
          0.0017019466973993147,
          -2.6388976445801404e-05,
          0.005045742169759393,
          -0.005123311102004813,
          0.0016427200831721223,
          -0.003361198058120962,
          0.0016432226293447982,
          -2.4588786694756948e-05,
          -2.434672989704012e-05,
          -0.0016541004408123783,
          0.001614050832692726,
          0.0015904869083085416,
          -0.0016454737573017297,
          0.001572981097152315,
          -0.001626743092810301,
          0.0015558562989896885,
          0.0015263648886616465,
          0.001490362477928997,
          -0.0016238163243276205,
          -5.9173348340380016e-05,
          -0.0015745738783152774,
          0.0029752072860924628,
          -8.14098375192529e-05,
          -0.0030385424149796947,
          -3.511721468196782e-05,
          0.0028892740173631637,
          0.001369406651915206,
          -0.00010233073930443481,
          -0.00010029135670830414,
          0.0013032295869113142,
          -0.00012554829310129634,
          -0.0001227813036317471,
          -0.0014760372027096125,
          -9.021540314524401e-05,
          0.001242146472992367,
          -0.00011317978621061542,
          0.0011904268947304786,
          0.0024304139527258073,
          -0.001463924400563421,
          0.0010889758298624486,
          -0.0038900316171597282,
          -9.779218862160377e-05,
          -9.588632683321663e-05,
          -0.008532904288379939,
          0.0060262801139323585,
          0.0011405983457679625,
          0.0011117225388499463,
          0.0010796933048391466,
          -0.0012672888273730365,
          -8.573755739060829e-05,
          -8.417154165041296e-05,
          -0.002337440430444815,
          -0.0011675662670995735,
          0.0010839577222574448,
          0.002167647053144428,
          0.0021100399344646803,
          -0.0033679632945231575,
          0.0020928954394010546,
          -0.006496892768697471,
          0.0010563498256059844,
          -0.0010803201982261257,
          -1.016401903441988e-05,
          -1.009951954422661e-05,
          -0.0031729270405769228,
          0.0031628914085084503,
          0.00626619888034341,
          0.0019759063251383324,
          -0.006263597113571606,
          -0.003092218455482687,
          -0.0020491810449358994,
          0.004085807522580254,
          -0.005105695423325507,
          -0.002046031721089747,
          0.005110910109562106,
          -0.00102406135361921,
          -1.0412333626419468e-06,
          0.006090350281759527,
          -0.0030698286454997614,
          -0.0020263101653039683,
          0.0020019702831888253,
          -0.0010145666511336415,
          -8.982067301488428e-06,
          0.000983627443184254,
          -0.0010043779904815864,
          -8.805258500110824e-06,
          0.003916668882879115,
          -0.00199442644748693,
          -0.0019654974627147936,
          0.0009600231822544103,
          -0.0019454967057583872,
          -3.734049772496917e-06,
          0.0019193578553835522,
          -0.0009721605578265624,
          -8.257399662703335e-06,
          0.0009437175784619001,
          -0.0019120187493903984,
          -3.607480832279464e-06,
          -3.5938161211390707e-06,
          0.0037664525116394287,
          -0.0009677512935173382,
          -0.002821733242381441,
          -3.493761015604946e-06,
          0.0009271847562200008,
          -0.000935862336389981,
          -3.448492879698506e-06,
          -3.435720672406717e-06,
          0.0018415959542785743,
          0.0009042609132769996,
          -2.1042221217015822e-05,
          -0.0009303548743915258,
          -0.005467806281411747,
          -0.003662980313769104,
          0.001811375730299325,
          0.006429186813840637,
          0.0009069196567574878,
          -0.0027493484900622533,
          -8.340113151206197e-07,
          0.0027301660211414003,
          -0.0018264603521034317,
          -3.2938022167527947e-06,
          0.0018034033460070376,
          0.0017839127098122631,
          -0.0018163199521854523,
          -1.2800860217154764e-05,
          0.0008749955895366313,
          -0.0017880302905242118,
          0.0017566205425065817,
          -0.0017753334383439068,
          0.0017443643377621498,
          -0.0008905957739751003,
          -0.0008813491066348433,
          0.0008601214828241055,
          -0.0017406235464711983,
          0.0017226327038093459,
          -0.001731581556640549,
          0.0008557752764977167,
          0.0034121755492124706,
          -0.003434147695855927,
          0.0016898344401505838,
          -1.795477193056172e-05,
          -1.7803573177488374e-05,
          -1.7654276307510486e-05,
          -0.0008511875981334072,
          -1.1129714737379004e-05,
          -1.1055824312933282e-05,
          0.0008144404088756829,
          -0.000839049634874911,
          0.0016271813085753095,
          0.0024159092474844712,
          -0.0024757402448782884,
          -0.001633833395915829,
          -1.0389117917952717e-05,
          -0.0032180236942007667,
          0.002406740030565402,
          0.0023894322329276463,
          -0.0008168594120121497,
          -0.0008072245453369931,
          0.006284246935892135,
          -0.005542435920900424,
          0.0007626485627660884,
          -0.002346449742278267,
          -0.0007797102341688955,
          0.004627237916502658,
          -0.0015693227377626684,
          0.0037854890422739373,
          -0.0015781655934086203,
          -4.613847981271846e-05,
          -0.004523137428873447,
          0.001486389803310395,
          -1.3881550946948096e-05,
          -0.0029767438168493143,
          -0.0007421150618878158,
          0.0022230464879466894,
          0.001471084052194982,
          -0.0007486203103841405,
          -0.001476002250398345,
          0.0014630454419188865,
          -8.574729842614204e-06,
          -0.0014651892277761647,
          0.0029048538241145394,
          -0.0014650905337623144,
          -0.0021752254168685425,
          0.001443520747947069,
          0.001434164088504275,
          -0.0014466127765677683,
          -4.63146053419905e-06,
          0.0007094191435532693,
          -8.151649206311617e-06,
          -0.0007180804806976582,
          -4.539815315673934e-06,
          0.002114872703040227,
          -0.0014243994314462327,
          -0.0014124184136683482,
          0.0021010748169265625,
          -0.0014089081527579594,
          -0.0007019883851988595,
          0.0020864621810989803,
          -0.0007053308889179988,
          -0.00208453863492597,
          0.000691800843685364,
          0.0006889306264676875,
          -0.0006937099301715932,
          0.002749130873053396,
          -0.0013859073962603219,
          -0.0006907996280087758,
          -0.002052686317742136,
          0.002730377122857064,
          -7.434664400562951e-06,
          -0.002043363771072393,
          0.0013563907977145462,
          0.0006722244517805009,
          0.0006667670796467462,
          0.0006600141956534245,
          -0.0020235766124940824,
          -0.0013418304461128017,
          0.002004230230830295,
          -0.000673130828106494,
          0.0006606779932178952,
          -7.063964640785514e-06,
          -0.0006681836132438335,
          0.001974303244467457,
          -0.0019860669123801244,
          -3.890316417454187e-06,
          -0.0006589683894890896,
          0.0006525184868495515,
          -0.0006568043560379877,
          0.0013020746349914347,
          -0.0013071808463145373,
          -1.6932170154859705e-06,
          0.00388432643390324,
          -0.00324735739395976,
          0.0012832553598149943,
          0.0006304812020561101,
          -0.0019310953122735341,
          -3.6793390600919906e-06,
          -3.665264431518267e-06,
          -0.0006395813395343453,
          0.0019025393270881708,
          -1.0052609325406081e-05,
          -9.989165751456142e-06,
          -0.000638264387432308,
          -0.0006334767990034962,
          -3.5421475219621357e-06,
          -0.0012543107536444609,
          -3.916034732043272e-07,
          -0.0006255865077342548,
          0.0018744147943507983,
          -0.0006267539961957169,
          0.0012430005142967104,
          -6.187984790351209e-06,
          -0.00062516073747787,
          -0.0006216886698338087,
          -0.0006193858790188855,
          0.0006170925666610927,
          -0.001235330607991969,
          0,
          0.001233806448929009,
          0.001229248983468878,
          -0.0012337989776680658,
          0.0012247325068361903,
          -0.0012292490656697908,
          -0.0006129319844907499,
          0.0018316875010704337,
          -0.001223983066214629,
          0.0006069721797734573,
          -3.3299645201267936e-06,
          -0.001823154561514606,
          0.0006069802917769707,
          0.006045599429250537,
          -0.006049988560882902,
          -0.0006025911601446055,
          0.0042080014002046084,
          -0.0018113555556045213,
          0.0017837125871578152,
          -0.0023941120502941615,
          -3.1849878077139238e-06,
          0.0005894189599748856,
          0.0005852266236017201,
          0.0011684409339398627,
          0.001738971541225709,
          -0.006450085833512809,
          0.0023388399672104043,
          0.00407025469989275,
          -0.0029247351269861,
          -0.00289939315900245,
          0.00519781707361755,
          -0.003471197939630244,
          -2.976075822225255e-06,
          0.0005699359289339512,
          0.0034174588084159296,
          -0.003435723958379988,
          -0.0017072933731263618,
          0.0011341076065223277,
          0.003386941436940738,
          -0.0028355474270282954,
          -0.003943187365570644,
          0.001689665285127262,
          0.003938120420137636,
          -0.0067494801576843955,
          0.002248138094947727,
          -3.1739739281277934e-07,
          0.002253204325119107,
          -2.850153648203957e-06,
          0.001118235796129241,
          0.0016667284637854607,
          -0.0033569520741476566,
          -0.000557879377479864,
          0.0016677470823447393,
          0.0005492318606146185,
          -0.0011132566975851077,
          0.0005492754656621912,
          -0.000555685554776808,
          -2.7320575526346147e-06,
          0.0027392583790168956,
          0.0010707236080316207,
          -0.0038288566016362324,
          -0.005446332794130981,
          0.0021747825270352905,
          0.002731793126854676,
          0.0021786442569711184,
          0.0010739307188858405,
          -0.0010987151606309808,
          -0.004327837285243774,
          0.0016217678716188288,
          0.0021583702839196306,
          0.0016043385908881547,
          -0.0021586226199197256,
          -4.590207765886589e-06,
          -0.0005380462080903925,
          0.002657720822680787,
          -0.0005473099907735701,
          -0.00265434619923699,
          -0.0005295202035817681,
          0.0026375486046843477,
          0.0020886432803086663,
          -0.0005489818009465353,
          -0.0047058910374122576,
          -0.0005217845148388633,
          0.004688457209685026,
          -0.0005350214919834784,
          -0.0005292702243808733,
          -0.0036187765489552604,
          0.0010327911409468982,
          0.005659640530090826,
          -3.7909411778613844e-05,
          0.007536434331387731,
          -0.012166644172496355,
          -0.006543174213322622,
          0.005035257365645585,
          0.006039273514243604,
          -0.005537643205254739,
          0.0010017525850427589,
          0.003491632486491092,
          -0.0020099385370686562,
          -0.0005043015696912789,
          0.0029553636384971327,
          -0.0010102649554042387,
          -0.009344723028451796,
          0.00047110267335970235,
          0.0049429184806495385,
          0.0049355991027209,
          -0.0037728651289015147,
          0.002212943077307017,
          0.0013157983596601142,
          -0.0021904780112009803,
          0.0011283071749250695,
          -0.001810404477464722,
          -0.0005350597127780077,
          -0.001470779266562694,
          0.003920367045320283,
          -0.0011501058443394996,
          0.004749669681774371,
          -0.004934340679924709,
          0.0005479519642248576,
          -0.0010268667297195222,
          0.001156733255291087,
          -0.001259934927237083,
          0.00358834510261552,
          0.004523666729042475,
          -0.003307653403661348,
          -0.008605650001800136,
          0.0023443109079686053,
          -0.009490342699231213,
          -0.009228477693260295,
          0.009596489038736777,
          0.01079517938634833,
          0.0011084678991784003,
          -0.004623812772718061,
          0.0019943462934701728,
          0.00046383658045012766,
          0.006794947522793748,
          -0.008563369710596902,
          0.00364086964603505,
          -0.0014138343240430729,
          0.001068409531749026,
          0.00034556154634568514,
          -0.0028229553901333304,
          0.00012848072104887365,
          -0.001600751752591556,
          0.0012835431226418947,
          -0.00010129916802092964,
          -0.0007499212424511015,
          0.00010102428684710674,
          0.0022863915390862743,
          -0.0004072119341191893,
          0.0001536495834182361,
          0.001861852391138008,
          -0.0009451618425613262,
          0.0014778945796152243,
          -0.0007707365580431613,
          -2.8475629380686485e-05,
          0.0019508921342312746,
          -0.00047709533660089676,
          -0.0015064522579359974,
          -0.0031766637911196938,
          0.002616610518663798,
          0.0005328867702472095,
          -0.000980303833027385,
          -0.0014942137789084597,
          0.001171165203519564,
          -0.0016084646385268186,
          0.002482811915294647,
          -0.0005853271203948296,
          -4.388290546852858e-05,
          -0.0004318713653255202,
          -0.0037297325363558897,
          0.0012436169727081392,
          0.0011154730280749092,
          0.0055039495126223414,
          -0.0010327978796649262,
          -0.0020667551090580716,
          -0.004373920928477659,
          0.0015596672384301513,
          0.002099918702128001,
          0.0034364080824742516,
          -0.008231117822907308,
          0.0007257178396118391,
          0.002504231885128938,
          0.0019635097711665495,
          -0.00042204053475902725,
          0.00042890664417516433,
          -0.0020075719652394852,
          0.00015821419735839726,
          0.0013077025820873445,
          0.000797889047788658,
          -0.00021943777579203072,
          -0.0013210685098723474,
          0.0009397999325475581,
          -0.0001775229726863614,
          3.8747314177633996e-05,
          -0.000580937202943943,
          -0.0001954078760455502,
          -0.001284866551711339,
          0.00023160259124743732,
          -0.00026952193306950534,
          -0.0016865010937596736,
          -0.001204942073582238,
          -0.003301316834362744,
          0.008922130380985216,
          0.00015889270808333578,
          -0.0016483937041993357,
          0.002250383811670531,
          -0.0005282225323366418,
          -0.0011790342677215904,
          -0.0015892639933374753,
          -0.002245916045929164,
          0.003239109937318574,
          0.00020491170130476632,
          -0.0022700367528676324,
          0.0006175835690642728,
          -0.0008720114457840822,
          0.0044604531351639665,
          0.0006934339142823376,
          -0.0014620211320552912,
          0.00041080564287998556,
          -0.0032759390773478003,
          0.002351341723498379,
          0.0007722611045837269,
          -0.0002798275010142959,
          -0.0011616943801113777,
          0.0013430876020388283,
          0.0015135845179763407,
          -0.0024435350003608747,
          -0.002058701222171777,
          0.001700702680034638,
          -0.0020076695167965397,
          0.0014256940796917306,
          -0.0003238201380506567,
          0.0035136428427833266,
          0.0012521573773192074,
          -0.0043186444789826695,
          0.0018897025671948953,
          -0.0005597817481461931,
          0.0016734155190256672,
          -0.00098392700311134,
          -0.0022250459004133916,
          0.001692120115944995,
          0.0002660901973960961,
          -0.0011764508085043701,
          -0.0005348587323625864,
          0.0008775787057118123,
          0.0002508963946663556,
          0.0005223432624195112,
          -0.0032778823173780225,
          0.0003914185514259927,
          9.885040636081754e-05,
          0.0029512922204038006,
          0.001855036249722275,
          -0.0009914860748843068,
          -0.002859376821806592,
          -0.0004937000010762915,
          0.0019675260421525564,
          -0.0010188371475861047,
          0.0005367689811945908,
          0.0011328433669000049,
          -0.0008838980299445964,
          -3.4486200968686376e-05,
          -0.00021984128449492601,
          -0.00036548230435862195,
          -0.0045117532238956315,
          -0.005384071868475004,
          0.013601660891680467,
          0.0001805217546824167,
          -0.0011390219557974035,
          -0.0016557227459417234,
          -0.0017247649233498308,
          0.0007938803268254802,
          0.0018118168717169425,
          -0.0007995494848307416,
          0.0019326096771292711,
          0.002005538307612298,
          2.34587472647263e-05,
          0.000603715037640562,
          0.0017392966921949693,
          -0.004207641607006707,
          -0.0011951261797529256,
          0.0007696621252417657,
          0.0045273531446232695,
          -0.0016594755303778186,
          -0.0012326959571327123,
          0.0006946817547017758,
          0.0015154718137742051,
          0.004385775014789317,
          -0.009017358114831175,
          0.00637704943127293,
          0.0034449048433007334,
          -0.013328819466440045,
          0.0013742914423060526,
          0.002670988186564749,
          0.0005221622563880146
         ]
        },
        {
         "line": {
          "color": "blue"
         },
         "mode": "lines",
         "name": "Predicted",
         "type": "scatter",
         "x": [
          "2022-11-01T00:00:00",
          "2022-12-01T00:00:00",
          "2023-01-01T00:00:00",
          "2023-02-01T00:00:00",
          "2023-03-01T00:00:00",
          "2023-04-01T00:00:00",
          "2023-05-01T00:00:00",
          "2023-06-01T00:00:00",
          "2023-07-01T00:00:00",
          "2023-08-01T00:00:00",
          "2023-09-01T00:00:00",
          "2023-10-01T00:00:00",
          "2023-11-01T00:00:00",
          "2023-12-01T00:00:00",
          "2024-01-01T00:00:00",
          "2024-02-01T00:00:00",
          "2024-03-01T00:00:00",
          "2024-04-01T00:00:00",
          "2024-05-01T00:00:00",
          "2024-06-01T00:00:00",
          "2024-07-01T00:00:00",
          "2024-08-01T00:00:00",
          "2024-09-01T00:00:00",
          "2024-10-01T00:00:00"
         ],
         "y": [
          -7.868435204727575e-05,
          0.00013356651470530778,
          0.00018074891704600304,
          -4.054873716086149e-05,
          0.000183798314537853,
          -0.00040322859422303736,
          -1.541945312055759e-05,
          0.00013462454080581665,
          0.00013814381964039057,
          2.4234281227109022e-05,
          4.697171243606135e-05,
          -0.00011019467638107017,
          4.6144199586706236e-05,
          0.0001564795820740983,
          -0.0008521574200130999,
          -0.0006169524858705699,
          -0.00018360257672611624,
          0.00015591023839078844,
          -0.0003661209193523973,
          0.0002997532719746232,
          -0.0001779830054147169,
          -2.8973136068088934e-05,
          2.174537439714186e-05,
          0.0001802123006200418
         ]
        },
        {
         "line": {
          "color": "cyan",
          "dash": "dash"
         },
         "mode": "lines",
         "name": "0.1",
         "type": "scatter",
         "x": [
          "2022-11-01T00:00:00",
          "2022-12-01T00:00:00",
          "2023-01-01T00:00:00",
          "2023-02-01T00:00:00",
          "2023-03-01T00:00:00",
          "2023-04-01T00:00:00",
          "2023-05-01T00:00:00",
          "2023-06-01T00:00:00",
          "2023-07-01T00:00:00",
          "2023-08-01T00:00:00",
          "2023-09-01T00:00:00",
          "2023-10-01T00:00:00",
          "2023-11-01T00:00:00",
          "2023-12-01T00:00:00",
          "2024-01-01T00:00:00",
          "2024-02-01T00:00:00",
          "2024-03-01T00:00:00",
          "2024-04-01T00:00:00",
          "2024-05-01T00:00:00",
          "2024-06-01T00:00:00",
          "2024-07-01T00:00:00",
          "2024-08-01T00:00:00",
          "2024-09-01T00:00:00",
          "2024-10-01T00:00:00"
         ],
         "y": [
          -0.004242432720059863,
          -0.0038090457243658647,
          -0.0037187736785842616,
          -0.004166161490287035,
          -0.0037174673868896058,
          -0.004880352258472387,
          -0.004115902922206427,
          -0.003815715800138353,
          -0.0038058014832425217,
          -0.004036384793303527,
          -0.003979951645154189,
          -0.004304102971066004,
          -0.003992663939735142,
          -0.0037696602556318796,
          -0.005775968648359342,
          -0.005307800041767452,
          -0.004449855663399194,
          -0.0037731444049684095,
          -0.004817206720454781,
          -0.00348545833780074,
          -0.00444093089257942,
          -0.004142911153886164,
          -0.004041474132955703,
          -0.0037245402805099028
         ]
        },
        {
         "line": {
          "color": "paleturquoise",
          "dash": "dash"
         },
         "mode": "lines",
         "name": "0.4",
         "type": "scatter",
         "x": [
          "2022-11-01T00:00:00",
          "2022-12-01T00:00:00",
          "2023-01-01T00:00:00",
          "2023-02-01T00:00:00",
          "2023-03-01T00:00:00",
          "2023-04-01T00:00:00",
          "2023-05-01T00:00:00",
          "2023-06-01T00:00:00",
          "2023-07-01T00:00:00",
          "2023-08-01T00:00:00",
          "2023-09-01T00:00:00",
          "2023-10-01T00:00:00",
          "2023-11-01T00:00:00",
          "2023-12-01T00:00:00",
          "2024-01-01T00:00:00",
          "2024-02-01T00:00:00",
          "2024-03-01T00:00:00",
          "2024-04-01T00:00:00",
          "2024-05-01T00:00:00",
          "2024-06-01T00:00:00",
          "2024-07-01T00:00:00",
          "2024-08-01T00:00:00",
          "2024-09-01T00:00:00",
          "2024-10-01T00:00:00"
         ],
         "y": [
          -0.0020124049538168265,
          -0.0015879032203116594,
          -0.001493538415630269,
          -0.001936133724043998,
          -0.001487439620646569,
          -0.0026683095795840828,
          -0.0018926912973791232,
          -0.0015926033095263747,
          -0.0015787486104414938,
          -0.0017931273918243562,
          -0.001747670097206111,
          -0.0020689965251308173,
          -0.0017627478505488625,
          -0.0015286367901303777,
          -0.003545910794304774,
          -0.0030675567988596164,
          -0.002200856980570709,
          -0.001530974890005865,
          -0.002565893665823271,
          -0.0012420894103293278,
          -0.002211002260551709,
          -0.0019129825218584529,
          -0.0018115455009279913,
          -0.0015014277898979245
         ]
        },
        {
         "line": {
          "color": "cyan",
          "dash": "dash"
         },
         "mode": "lines",
         "name": "0.1",
         "showlegend": false,
         "type": "scatter",
         "x": [
          "2022-11-01T00:00:00",
          "2022-12-01T00:00:00",
          "2023-01-01T00:00:00",
          "2023-02-01T00:00:00",
          "2023-03-01T00:00:00",
          "2023-04-01T00:00:00",
          "2023-05-01T00:00:00",
          "2023-06-01T00:00:00",
          "2023-07-01T00:00:00",
          "2023-08-01T00:00:00",
          "2023-09-01T00:00:00",
          "2023-10-01T00:00:00",
          "2023-11-01T00:00:00",
          "2023-12-01T00:00:00",
          "2024-01-01T00:00:00",
          "2024-02-01T00:00:00",
          "2024-03-01T00:00:00",
          "2024-04-01T00:00:00",
          "2024-05-01T00:00:00",
          "2024-06-01T00:00:00",
          "2024-07-01T00:00:00",
          "2024-08-01T00:00:00",
          "2024-09-01T00:00:00",
          "2024-10-01T00:00:00"
         ],
         "y": [
          0.0038331615144230995,
          0.004222156108218011,
          0.004352028052609657,
          0.003909432744195928,
          0.004358116119193855,
          0.0031840730300715762,
          0.003950455148016462,
          0.004259779300129284,
          0.004231310718088177,
          0.004027662721456781,
          0.004084473643389774,
          0.0037701408657555106,
          0.0040828186176910634,
          0.004574009477881757,
          0.002556735473707361,
          0.0030266609378382992,
          0.003893845160281328,
          0.0045728707905151374,
          0.003533338963256938,
          0.004867288643231405,
          0.003911721126291923,
          0.0042092276403082,
          0.004311266647596313,
          0.004628206700522242
         ]
        },
        {
         "line": {
          "color": "paleturquoise",
          "dash": "dash"
         },
         "mode": "lines",
         "name": "0.4",
         "showlegend": false,
         "type": "scatter",
         "x": [
          "2022-11-01T00:00:00",
          "2022-12-01T00:00:00",
          "2023-01-01T00:00:00",
          "2023-02-01T00:00:00",
          "2023-03-01T00:00:00",
          "2023-04-01T00:00:00",
          "2023-05-01T00:00:00",
          "2023-06-01T00:00:00",
          "2023-07-01T00:00:00",
          "2023-08-01T00:00:00",
          "2023-09-01T00:00:00",
          "2023-10-01T00:00:00",
          "2023-11-01T00:00:00",
          "2023-12-01T00:00:00",
          "2024-01-01T00:00:00",
          "2024-02-01T00:00:00",
          "2024-03-01T00:00:00",
          "2024-04-01T00:00:00",
          "2024-05-01T00:00:00",
          "2024-06-01T00:00:00",
          "2024-07-01T00:00:00",
          "2024-08-01T00:00:00",
          "2024-09-01T00:00:00",
          "2024-10-01T00:00:00"
         ],
         "y": [
          0.0016539868515099698,
          0.0020775375068753377,
          0.002171902311556728,
          0.0017302580812827983,
          0.002178001106540428,
          0.0010039472890186474,
          0.001779565571223607,
          0.002069406438551802,
          0.0020866921167455033,
          0.0018588730399189402,
          0.0019043479023368448,
          0.0015900151247025818,
          0.001892445756113581,
          0.002113116521088365,
          9.584251691396872e-05,
          0.0005662523851990287,
          0.001432952203487936,
          0.0020998507673057887,
          0.001067915518235374,
          0.002399663900889415,
          0.0014441544570056308,
          0.0017422110848039907,
          0.0018538952262590058,
          0.0021708290787048057
         ]
        }
       ],
       "layout": {
        "plot_bgcolor": "white",
        "template": {
         "data": {
          "bar": [
           {
            "error_x": {
             "color": "#2a3f5f"
            },
            "error_y": {
             "color": "#2a3f5f"
            },
            "marker": {
             "line": {
              "color": "#E5ECF6",
              "width": 0.5
             }
            },
            "type": "bar"
           }
          ],
          "barpolar": [
           {
            "marker": {
             "line": {
              "color": "#E5ECF6",
              "width": 0.5
             }
            },
            "type": "barpolar"
           }
          ],
          "carpet": [
           {
            "aaxis": {
             "endlinecolor": "#2a3f5f",
             "gridcolor": "white",
             "linecolor": "white",
             "minorgridcolor": "white",
             "startlinecolor": "#2a3f5f"
            },
            "baxis": {
             "endlinecolor": "#2a3f5f",
             "gridcolor": "white",
             "linecolor": "white",
             "minorgridcolor": "white",
             "startlinecolor": "#2a3f5f"
            },
            "type": "carpet"
           }
          ],
          "choropleth": [
           {
            "colorbar": {
             "outlinewidth": 0,
             "ticks": ""
            },
            "type": "choropleth"
           }
          ],
          "contour": [
           {
            "colorbar": {
             "outlinewidth": 0,
             "ticks": ""
            },
            "colorscale": [
             [
              0,
              "#0d0887"
             ],
             [
              0.1111111111111111,
              "#46039f"
             ],
             [
              0.2222222222222222,
              "#7201a8"
             ],
             [
              0.3333333333333333,
              "#9c179e"
             ],
             [
              0.4444444444444444,
              "#bd3786"
             ],
             [
              0.5555555555555556,
              "#d8576b"
             ],
             [
              0.6666666666666666,
              "#ed7953"
             ],
             [
              0.7777777777777778,
              "#fb9f3a"
             ],
             [
              0.8888888888888888,
              "#fdca26"
             ],
             [
              1,
              "#f0f921"
             ]
            ],
            "type": "contour"
           }
          ],
          "contourcarpet": [
           {
            "colorbar": {
             "outlinewidth": 0,
             "ticks": ""
            },
            "type": "contourcarpet"
           }
          ],
          "heatmap": [
           {
            "colorbar": {
             "outlinewidth": 0,
             "ticks": ""
            },
            "colorscale": [
             [
              0,
              "#0d0887"
             ],
             [
              0.1111111111111111,
              "#46039f"
             ],
             [
              0.2222222222222222,
              "#7201a8"
             ],
             [
              0.3333333333333333,
              "#9c179e"
             ],
             [
              0.4444444444444444,
              "#bd3786"
             ],
             [
              0.5555555555555556,
              "#d8576b"
             ],
             [
              0.6666666666666666,
              "#ed7953"
             ],
             [
              0.7777777777777778,
              "#fb9f3a"
             ],
             [
              0.8888888888888888,
              "#fdca26"
             ],
             [
              1,
              "#f0f921"
             ]
            ],
            "type": "heatmap"
           }
          ],
          "heatmapgl": [
           {
            "colorbar": {
             "outlinewidth": 0,
             "ticks": ""
            },
            "colorscale": [
             [
              0,
              "#0d0887"
             ],
             [
              0.1111111111111111,
              "#46039f"
             ],
             [
              0.2222222222222222,
              "#7201a8"
             ],
             [
              0.3333333333333333,
              "#9c179e"
             ],
             [
              0.4444444444444444,
              "#bd3786"
             ],
             [
              0.5555555555555556,
              "#d8576b"
             ],
             [
              0.6666666666666666,
              "#ed7953"
             ],
             [
              0.7777777777777778,
              "#fb9f3a"
             ],
             [
              0.8888888888888888,
              "#fdca26"
             ],
             [
              1,
              "#f0f921"
             ]
            ],
            "type": "heatmapgl"
           }
          ],
          "histogram": [
           {
            "marker": {
             "colorbar": {
              "outlinewidth": 0,
              "ticks": ""
             }
            },
            "type": "histogram"
           }
          ],
          "histogram2d": [
           {
            "colorbar": {
             "outlinewidth": 0,
             "ticks": ""
            },
            "colorscale": [
             [
              0,
              "#0d0887"
             ],
             [
              0.1111111111111111,
              "#46039f"
             ],
             [
              0.2222222222222222,
              "#7201a8"
             ],
             [
              0.3333333333333333,
              "#9c179e"
             ],
             [
              0.4444444444444444,
              "#bd3786"
             ],
             [
              0.5555555555555556,
              "#d8576b"
             ],
             [
              0.6666666666666666,
              "#ed7953"
             ],
             [
              0.7777777777777778,
              "#fb9f3a"
             ],
             [
              0.8888888888888888,
              "#fdca26"
             ],
             [
              1,
              "#f0f921"
             ]
            ],
            "type": "histogram2d"
           }
          ],
          "histogram2dcontour": [
           {
            "colorbar": {
             "outlinewidth": 0,
             "ticks": ""
            },
            "colorscale": [
             [
              0,
              "#0d0887"
             ],
             [
              0.1111111111111111,
              "#46039f"
             ],
             [
              0.2222222222222222,
              "#7201a8"
             ],
             [
              0.3333333333333333,
              "#9c179e"
             ],
             [
              0.4444444444444444,
              "#bd3786"
             ],
             [
              0.5555555555555556,
              "#d8576b"
             ],
             [
              0.6666666666666666,
              "#ed7953"
             ],
             [
              0.7777777777777778,
              "#fb9f3a"
             ],
             [
              0.8888888888888888,
              "#fdca26"
             ],
             [
              1,
              "#f0f921"
             ]
            ],
            "type": "histogram2dcontour"
           }
          ],
          "mesh3d": [
           {
            "colorbar": {
             "outlinewidth": 0,
             "ticks": ""
            },
            "type": "mesh3d"
           }
          ],
          "parcoords": [
           {
            "line": {
             "colorbar": {
              "outlinewidth": 0,
              "ticks": ""
             }
            },
            "type": "parcoords"
           }
          ],
          "pie": [
           {
            "automargin": true,
            "type": "pie"
           }
          ],
          "scatter": [
           {
            "marker": {
             "colorbar": {
              "outlinewidth": 0,
              "ticks": ""
             }
            },
            "type": "scatter"
           }
          ],
          "scatter3d": [
           {
            "line": {
             "colorbar": {
              "outlinewidth": 0,
              "ticks": ""
             }
            },
            "marker": {
             "colorbar": {
              "outlinewidth": 0,
              "ticks": ""
             }
            },
            "type": "scatter3d"
           }
          ],
          "scattercarpet": [
           {
            "marker": {
             "colorbar": {
              "outlinewidth": 0,
              "ticks": ""
             }
            },
            "type": "scattercarpet"
           }
          ],
          "scattergeo": [
           {
            "marker": {
             "colorbar": {
              "outlinewidth": 0,
              "ticks": ""
             }
            },
            "type": "scattergeo"
           }
          ],
          "scattergl": [
           {
            "marker": {
             "colorbar": {
              "outlinewidth": 0,
              "ticks": ""
             }
            },
            "type": "scattergl"
           }
          ],
          "scattermapbox": [
           {
            "marker": {
             "colorbar": {
              "outlinewidth": 0,
              "ticks": ""
             }
            },
            "type": "scattermapbox"
           }
          ],
          "scatterpolar": [
           {
            "marker": {
             "colorbar": {
              "outlinewidth": 0,
              "ticks": ""
             }
            },
            "type": "scatterpolar"
           }
          ],
          "scatterpolargl": [
           {
            "marker": {
             "colorbar": {
              "outlinewidth": 0,
              "ticks": ""
             }
            },
            "type": "scatterpolargl"
           }
          ],
          "scatterternary": [
           {
            "marker": {
             "colorbar": {
              "outlinewidth": 0,
              "ticks": ""
             }
            },
            "type": "scatterternary"
           }
          ],
          "surface": [
           {
            "colorbar": {
             "outlinewidth": 0,
             "ticks": ""
            },
            "colorscale": [
             [
              0,
              "#0d0887"
             ],
             [
              0.1111111111111111,
              "#46039f"
             ],
             [
              0.2222222222222222,
              "#7201a8"
             ],
             [
              0.3333333333333333,
              "#9c179e"
             ],
             [
              0.4444444444444444,
              "#bd3786"
             ],
             [
              0.5555555555555556,
              "#d8576b"
             ],
             [
              0.6666666666666666,
              "#ed7953"
             ],
             [
              0.7777777777777778,
              "#fb9f3a"
             ],
             [
              0.8888888888888888,
              "#fdca26"
             ],
             [
              1,
              "#f0f921"
             ]
            ],
            "type": "surface"
           }
          ],
          "table": [
           {
            "cells": {
             "fill": {
              "color": "#EBF0F8"
             },
             "line": {
              "color": "white"
             }
            },
            "header": {
             "fill": {
              "color": "#C8D4E3"
             },
             "line": {
              "color": "white"
             }
            },
            "type": "table"
           }
          ]
         },
         "layout": {
          "annotationdefaults": {
           "arrowcolor": "#2a3f5f",
           "arrowhead": 0,
           "arrowwidth": 1
          },
          "autotypenumbers": "strict",
          "coloraxis": {
           "colorbar": {
            "outlinewidth": 0,
            "ticks": ""
           }
          },
          "colorscale": {
           "diverging": [
            [
             0,
             "#8e0152"
            ],
            [
             0.1,
             "#c51b7d"
            ],
            [
             0.2,
             "#de77ae"
            ],
            [
             0.3,
             "#f1b6da"
            ],
            [
             0.4,
             "#fde0ef"
            ],
            [
             0.5,
             "#f7f7f7"
            ],
            [
             0.6,
             "#e6f5d0"
            ],
            [
             0.7,
             "#b8e186"
            ],
            [
             0.8,
             "#7fbc41"
            ],
            [
             0.9,
             "#4d9221"
            ],
            [
             1,
             "#276419"
            ]
           ],
           "sequential": [
            [
             0,
             "#0d0887"
            ],
            [
             0.1111111111111111,
             "#46039f"
            ],
            [
             0.2222222222222222,
             "#7201a8"
            ],
            [
             0.3333333333333333,
             "#9c179e"
            ],
            [
             0.4444444444444444,
             "#bd3786"
            ],
            [
             0.5555555555555556,
             "#d8576b"
            ],
            [
             0.6666666666666666,
             "#ed7953"
            ],
            [
             0.7777777777777778,
             "#fb9f3a"
            ],
            [
             0.8888888888888888,
             "#fdca26"
            ],
            [
             1,
             "#f0f921"
            ]
           ],
           "sequentialminus": [
            [
             0,
             "#0d0887"
            ],
            [
             0.1111111111111111,
             "#46039f"
            ],
            [
             0.2222222222222222,
             "#7201a8"
            ],
            [
             0.3333333333333333,
             "#9c179e"
            ],
            [
             0.4444444444444444,
             "#bd3786"
            ],
            [
             0.5555555555555556,
             "#d8576b"
            ],
            [
             0.6666666666666666,
             "#ed7953"
            ],
            [
             0.7777777777777778,
             "#fb9f3a"
            ],
            [
             0.8888888888888888,
             "#fdca26"
            ],
            [
             1,
             "#f0f921"
            ]
           ]
          },
          "colorway": [
           "#636efa",
           "#EF553B",
           "#00cc96",
           "#ab63fa",
           "#FFA15A",
           "#19d3f3",
           "#FF6692",
           "#B6E880",
           "#FF97FF",
           "#FECB52"
          ],
          "font": {
           "color": "#2a3f5f"
          },
          "geo": {
           "bgcolor": "white",
           "lakecolor": "white",
           "landcolor": "#E5ECF6",
           "showlakes": true,
           "showland": true,
           "subunitcolor": "white"
          },
          "hoverlabel": {
           "align": "left"
          },
          "hovermode": "closest",
          "mapbox": {
           "style": "light"
          },
          "paper_bgcolor": "white",
          "plot_bgcolor": "#E5ECF6",
          "polar": {
           "angularaxis": {
            "gridcolor": "white",
            "linecolor": "white",
            "ticks": ""
           },
           "bgcolor": "#E5ECF6",
           "radialaxis": {
            "gridcolor": "white",
            "linecolor": "white",
            "ticks": ""
           }
          },
          "scene": {
           "xaxis": {
            "backgroundcolor": "#E5ECF6",
            "gridcolor": "white",
            "gridwidth": 2,
            "linecolor": "white",
            "showbackground": true,
            "ticks": "",
            "zerolinecolor": "white"
           },
           "yaxis": {
            "backgroundcolor": "#E5ECF6",
            "gridcolor": "white",
            "gridwidth": 2,
            "linecolor": "white",
            "showbackground": true,
            "ticks": "",
            "zerolinecolor": "white"
           },
           "zaxis": {
            "backgroundcolor": "#E5ECF6",
            "gridcolor": "white",
            "gridwidth": 2,
            "linecolor": "white",
            "showbackground": true,
            "ticks": "",
            "zerolinecolor": "white"
           }
          },
          "shapedefaults": {
           "line": {
            "color": "#2a3f5f"
           }
          },
          "ternary": {
           "aaxis": {
            "gridcolor": "white",
            "linecolor": "white",
            "ticks": ""
           },
           "baxis": {
            "gridcolor": "white",
            "linecolor": "white",
            "ticks": ""
           },
           "bgcolor": "#E5ECF6",
           "caxis": {
            "gridcolor": "white",
            "linecolor": "white",
            "ticks": ""
           }
          },
          "title": {
           "x": 0.05
          },
          "xaxis": {
           "automargin": true,
           "gridcolor": "white",
           "linecolor": "white",
           "ticks": "",
           "title": {
            "standoff": 15
           },
           "zerolinecolor": "white",
           "zerolinewidth": 2
          },
          "yaxis": {
           "automargin": true,
           "gridcolor": "white",
           "linecolor": "white",
           "ticks": "",
           "title": {
            "standoff": 15
           },
           "zerolinecolor": "white",
           "zerolinewidth": 2
          }
         }
        },
        "title": {
         "text": "Inflation"
        }
       }
      }
     },
     "metadata": {},
     "output_type": "display_data"
    }
   ],
   "source": [
    "import plotly.graph_objects as go\n",
    "\n",
    "# Create a new figure\n",
    "fig = go.Figure()\n",
    "\n",
    "# Add each time series as a separate trace with the 'lines' mode\n",
    "fig.add_trace(\n",
    "    go.Scatter(\n",
    "        x=historical_data.index,\n",
    "        y=historical_data.values,\n",
    "        name=\"Historical\",\n",
    "        mode=\"lines\",\n",
    "        line=dict(color=\"orange\"),\n",
    "    )\n",
    ")\n",
    "fig.add_trace(\n",
    "    go.Scatter(\n",
    "        x=predicted_data.index,\n",
    "        y=predicted_data.values,\n",
    "        name=\"Predicted\",\n",
    "        mode=\"lines\",\n",
    "        line=dict(color=\"blue\"),\n",
    "    )\n",
    ")\n",
    "fig.add_trace(\n",
    "    go.Scatter(\n",
    "        x=predict_lower_10.index,\n",
    "        y=predict_lower_10.values,\n",
    "        name=\"0.1\",\n",
    "        mode=\"lines\",\n",
    "        line=dict(color=\"cyan\", dash=\"dash\"),\n",
    "    )\n",
    ")\n",
    "fig.add_trace(\n",
    "    go.Scatter(\n",
    "        x=predict_lower_40.index,\n",
    "        y=predict_lower_40.values,\n",
    "        name=\"0.4\",\n",
    "        mode=\"lines\",\n",
    "        line=dict(color=\"paleturquoise\", dash=\"dash\"),\n",
    "    )\n",
    ")\n",
    "fig.add_trace(\n",
    "    go.Scatter(\n",
    "        x=predict_upper_10.index,\n",
    "        y=predict_upper_10.values,\n",
    "        name=\"0.1\",\n",
    "        mode=\"lines\",\n",
    "        line=dict(color=\"cyan\", dash=\"dash\"),\n",
    "    )\n",
    ")\n",
    "fig.add_trace(\n",
    "    go.Scatter(\n",
    "        x=predict_upper_40.index,\n",
    "        y=predict_upper_40.values,\n",
    "        name=\"0.4\",\n",
    "        mode=\"lines\",\n",
    "        line=dict(color=\"paleturquoise\", dash=\"dash\"),\n",
    "    )\n",
    ")\n",
    "\n",
    "names = set()\n",
    "fig.for_each_trace(\n",
    "    lambda trace: trace.update(showlegend=False)\n",
    "    if (trace.name in names)\n",
    "    else names.add(trace.name)\n",
    ")\n",
    "\n",
    "fig.update_layout(plot_bgcolor=\"white\", title=VARIABLES_MAP[variable])"
   ]
  },
  {
   "cell_type": "code",
   "execution_count": 19,
   "metadata": {},
   "outputs": [
    {
     "data": {
      "application/vnd.plotly.v1+json": {
       "config": {
        "plotlyServerURL": "https://plot.ly"
       },
       "data": [
        {
         "line": {
          "color": "orange"
         },
         "mode": "lines",
         "name": "Historical",
         "type": "scatter",
         "x": [
          "1960-05-01T00:00:00",
          "1960-06-01T00:00:00",
          "1960-07-01T00:00:00",
          "1960-08-01T00:00:00",
          "1960-09-01T00:00:00",
          "1960-10-01T00:00:00",
          "1960-11-01T00:00:00",
          "1960-12-01T00:00:00",
          "1961-01-01T00:00:00",
          "1961-02-01T00:00:00",
          "1961-03-01T00:00:00",
          "1961-04-01T00:00:00",
          "1961-05-01T00:00:00",
          "1961-06-01T00:00:00",
          "1961-07-01T00:00:00",
          "1961-08-01T00:00:00",
          "1961-09-01T00:00:00",
          "1961-10-01T00:00:00",
          "1961-11-01T00:00:00",
          "1961-12-01T00:00:00",
          "1962-01-01T00:00:00",
          "1962-02-01T00:00:00",
          "1962-03-01T00:00:00",
          "1962-04-01T00:00:00",
          "1962-05-01T00:00:00",
          "1962-06-01T00:00:00",
          "1962-07-01T00:00:00",
          "1962-08-01T00:00:00",
          "1962-09-01T00:00:00",
          "1962-10-01T00:00:00",
          "1962-11-01T00:00:00",
          "1962-12-01T00:00:00",
          "1963-01-01T00:00:00",
          "1963-02-01T00:00:00",
          "1963-03-01T00:00:00",
          "1963-04-01T00:00:00",
          "1963-05-01T00:00:00",
          "1963-06-01T00:00:00",
          "1963-07-01T00:00:00",
          "1963-08-01T00:00:00",
          "1963-09-01T00:00:00",
          "1963-10-01T00:00:00",
          "1963-11-01T00:00:00",
          "1963-12-01T00:00:00",
          "1964-01-01T00:00:00",
          "1964-02-01T00:00:00",
          "1964-03-01T00:00:00",
          "1964-04-01T00:00:00",
          "1964-05-01T00:00:00",
          "1964-06-01T00:00:00",
          "1964-07-01T00:00:00",
          "1964-08-01T00:00:00",
          "1964-09-01T00:00:00",
          "1964-10-01T00:00:00",
          "1964-11-01T00:00:00",
          "1964-12-01T00:00:00",
          "1965-01-01T00:00:00",
          "1965-02-01T00:00:00",
          "1965-03-01T00:00:00",
          "1965-04-01T00:00:00",
          "1965-05-01T00:00:00",
          "1965-06-01T00:00:00",
          "1965-07-01T00:00:00",
          "1965-08-01T00:00:00",
          "1965-09-01T00:00:00",
          "1965-10-01T00:00:00",
          "1965-11-01T00:00:00",
          "1965-12-01T00:00:00",
          "1966-01-01T00:00:00",
          "1966-02-01T00:00:00",
          "1966-03-01T00:00:00",
          "1966-04-01T00:00:00",
          "1966-05-01T00:00:00",
          "1966-06-01T00:00:00",
          "1966-07-01T00:00:00",
          "1966-08-01T00:00:00",
          "1966-09-01T00:00:00",
          "1966-10-01T00:00:00",
          "1966-11-01T00:00:00",
          "1966-12-01T00:00:00",
          "1967-01-01T00:00:00",
          "1967-02-01T00:00:00",
          "1967-03-01T00:00:00",
          "1967-04-01T00:00:00",
          "1967-05-01T00:00:00",
          "1967-06-01T00:00:00",
          "1967-07-01T00:00:00",
          "1967-08-01T00:00:00",
          "1967-09-01T00:00:00",
          "1967-10-01T00:00:00",
          "1967-11-01T00:00:00",
          "1967-12-01T00:00:00",
          "1968-01-01T00:00:00",
          "1968-02-01T00:00:00",
          "1968-03-01T00:00:00",
          "1968-04-01T00:00:00",
          "1968-05-01T00:00:00",
          "1968-06-01T00:00:00",
          "1968-07-01T00:00:00",
          "1968-08-01T00:00:00",
          "1968-09-01T00:00:00",
          "1968-10-01T00:00:00",
          "1968-11-01T00:00:00",
          "1968-12-01T00:00:00",
          "1969-01-01T00:00:00",
          "1969-02-01T00:00:00",
          "1969-03-01T00:00:00",
          "1969-04-01T00:00:00",
          "1969-05-01T00:00:00",
          "1969-06-01T00:00:00",
          "1969-07-01T00:00:00",
          "1969-08-01T00:00:00",
          "1969-09-01T00:00:00",
          "1969-10-01T00:00:00",
          "1969-11-01T00:00:00",
          "1969-12-01T00:00:00",
          "1970-01-01T00:00:00",
          "1970-02-01T00:00:00",
          "1970-03-01T00:00:00",
          "1970-04-01T00:00:00",
          "1970-05-01T00:00:00",
          "1970-06-01T00:00:00",
          "1970-07-01T00:00:00",
          "1970-08-01T00:00:00",
          "1970-09-01T00:00:00",
          "1970-10-01T00:00:00",
          "1970-11-01T00:00:00",
          "1970-12-01T00:00:00",
          "1971-01-01T00:00:00",
          "1971-02-01T00:00:00",
          "1971-03-01T00:00:00",
          "1971-04-01T00:00:00",
          "1971-05-01T00:00:00",
          "1971-06-01T00:00:00",
          "1971-07-01T00:00:00",
          "1971-08-01T00:00:00",
          "1971-09-01T00:00:00",
          "1971-10-01T00:00:00",
          "1971-11-01T00:00:00",
          "1971-12-01T00:00:00",
          "1972-01-01T00:00:00",
          "1972-02-01T00:00:00",
          "1972-03-01T00:00:00",
          "1972-04-01T00:00:00",
          "1972-05-01T00:00:00",
          "1972-06-01T00:00:00",
          "1972-07-01T00:00:00",
          "1972-08-01T00:00:00",
          "1972-09-01T00:00:00",
          "1972-10-01T00:00:00",
          "1972-11-01T00:00:00",
          "1972-12-01T00:00:00",
          "1973-01-01T00:00:00",
          "1973-02-01T00:00:00",
          "1973-03-01T00:00:00",
          "1973-04-01T00:00:00",
          "1973-05-01T00:00:00",
          "1973-06-01T00:00:00",
          "1973-07-01T00:00:00",
          "1973-08-01T00:00:00",
          "1973-09-01T00:00:00",
          "1973-10-01T00:00:00",
          "1973-11-01T00:00:00",
          "1973-12-01T00:00:00",
          "1974-01-01T00:00:00",
          "1974-02-01T00:00:00",
          "1974-03-01T00:00:00",
          "1974-04-01T00:00:00",
          "1974-05-01T00:00:00",
          "1974-06-01T00:00:00",
          "1974-07-01T00:00:00",
          "1974-08-01T00:00:00",
          "1974-09-01T00:00:00",
          "1974-10-01T00:00:00",
          "1974-11-01T00:00:00",
          "1974-12-01T00:00:00",
          "1975-01-01T00:00:00",
          "1975-02-01T00:00:00",
          "1975-03-01T00:00:00",
          "1975-04-01T00:00:00",
          "1975-05-01T00:00:00",
          "1975-06-01T00:00:00",
          "1975-07-01T00:00:00",
          "1975-08-01T00:00:00",
          "1975-09-01T00:00:00",
          "1975-10-01T00:00:00",
          "1975-11-01T00:00:00",
          "1975-12-01T00:00:00",
          "1976-01-01T00:00:00",
          "1976-02-01T00:00:00",
          "1976-03-01T00:00:00",
          "1976-04-01T00:00:00",
          "1976-05-01T00:00:00",
          "1976-06-01T00:00:00",
          "1976-07-01T00:00:00",
          "1976-08-01T00:00:00",
          "1976-09-01T00:00:00",
          "1976-10-01T00:00:00",
          "1976-11-01T00:00:00",
          "1976-12-01T00:00:00",
          "1977-01-01T00:00:00",
          "1977-02-01T00:00:00",
          "1977-03-01T00:00:00",
          "1977-04-01T00:00:00",
          "1977-05-01T00:00:00",
          "1977-06-01T00:00:00",
          "1977-07-01T00:00:00",
          "1977-08-01T00:00:00",
          "1977-09-01T00:00:00",
          "1977-10-01T00:00:00",
          "1977-11-01T00:00:00",
          "1977-12-01T00:00:00",
          "1978-01-01T00:00:00",
          "1978-02-01T00:00:00",
          "1978-03-01T00:00:00",
          "1978-04-01T00:00:00",
          "1978-05-01T00:00:00",
          "1978-06-01T00:00:00",
          "1978-07-01T00:00:00",
          "1978-08-01T00:00:00",
          "1978-09-01T00:00:00",
          "1978-10-01T00:00:00",
          "1978-11-01T00:00:00",
          "1978-12-01T00:00:00",
          "1979-01-01T00:00:00",
          "1979-02-01T00:00:00",
          "1979-03-01T00:00:00",
          "1979-04-01T00:00:00",
          "1979-05-01T00:00:00",
          "1979-06-01T00:00:00",
          "1979-07-01T00:00:00",
          "1979-08-01T00:00:00",
          "1979-09-01T00:00:00",
          "1979-10-01T00:00:00",
          "1979-11-01T00:00:00",
          "1979-12-01T00:00:00",
          "1980-01-01T00:00:00",
          "1980-02-01T00:00:00",
          "1980-03-01T00:00:00",
          "1980-04-01T00:00:00",
          "1980-05-01T00:00:00",
          "1980-06-01T00:00:00",
          "1980-07-01T00:00:00",
          "1980-08-01T00:00:00",
          "1980-09-01T00:00:00",
          "1980-10-01T00:00:00",
          "1980-11-01T00:00:00",
          "1980-12-01T00:00:00",
          "1981-01-01T00:00:00",
          "1981-02-01T00:00:00",
          "1981-03-01T00:00:00",
          "1981-04-01T00:00:00",
          "1981-05-01T00:00:00",
          "1981-06-01T00:00:00",
          "1981-07-01T00:00:00",
          "1981-08-01T00:00:00",
          "1981-09-01T00:00:00",
          "1981-10-01T00:00:00",
          "1981-11-01T00:00:00",
          "1981-12-01T00:00:00",
          "1982-01-01T00:00:00",
          "1982-02-01T00:00:00",
          "1982-03-01T00:00:00",
          "1982-04-01T00:00:00",
          "1982-05-01T00:00:00",
          "1982-06-01T00:00:00",
          "1982-07-01T00:00:00",
          "1982-08-01T00:00:00",
          "1982-09-01T00:00:00",
          "1982-10-01T00:00:00",
          "1982-11-01T00:00:00",
          "1982-12-01T00:00:00",
          "1983-01-01T00:00:00",
          "1983-02-01T00:00:00",
          "1983-03-01T00:00:00",
          "1983-04-01T00:00:00",
          "1983-05-01T00:00:00",
          "1983-06-01T00:00:00",
          "1983-07-01T00:00:00",
          "1983-08-01T00:00:00",
          "1983-09-01T00:00:00",
          "1983-10-01T00:00:00",
          "1983-11-01T00:00:00",
          "1983-12-01T00:00:00",
          "1984-01-01T00:00:00",
          "1984-02-01T00:00:00",
          "1984-03-01T00:00:00",
          "1984-04-01T00:00:00",
          "1984-05-01T00:00:00",
          "1984-06-01T00:00:00",
          "1984-07-01T00:00:00",
          "1984-08-01T00:00:00",
          "1984-09-01T00:00:00",
          "1984-10-01T00:00:00",
          "1984-11-01T00:00:00",
          "1984-12-01T00:00:00",
          "1985-01-01T00:00:00",
          "1985-02-01T00:00:00",
          "1985-03-01T00:00:00",
          "1985-04-01T00:00:00",
          "1985-05-01T00:00:00",
          "1985-06-01T00:00:00",
          "1985-07-01T00:00:00",
          "1985-08-01T00:00:00",
          "1985-09-01T00:00:00",
          "1985-10-01T00:00:00",
          "1985-11-01T00:00:00",
          "1985-12-01T00:00:00",
          "1986-01-01T00:00:00",
          "1986-02-01T00:00:00",
          "1986-03-01T00:00:00",
          "1986-04-01T00:00:00",
          "1986-05-01T00:00:00",
          "1986-06-01T00:00:00",
          "1986-07-01T00:00:00",
          "1986-08-01T00:00:00",
          "1986-09-01T00:00:00",
          "1986-10-01T00:00:00",
          "1986-11-01T00:00:00",
          "1986-12-01T00:00:00",
          "1987-01-01T00:00:00",
          "1987-02-01T00:00:00",
          "1987-03-01T00:00:00",
          "1987-04-01T00:00:00",
          "1987-05-01T00:00:00",
          "1987-06-01T00:00:00",
          "1987-07-01T00:00:00",
          "1987-08-01T00:00:00",
          "1987-09-01T00:00:00",
          "1987-10-01T00:00:00",
          "1987-11-01T00:00:00",
          "1987-12-01T00:00:00",
          "1988-01-01T00:00:00",
          "1988-02-01T00:00:00",
          "1988-03-01T00:00:00",
          "1988-04-01T00:00:00",
          "1988-05-01T00:00:00",
          "1988-06-01T00:00:00",
          "1988-07-01T00:00:00",
          "1988-08-01T00:00:00",
          "1988-09-01T00:00:00",
          "1988-10-01T00:00:00",
          "1988-11-01T00:00:00",
          "1988-12-01T00:00:00",
          "1989-01-01T00:00:00",
          "1989-02-01T00:00:00",
          "1989-03-01T00:00:00",
          "1989-04-01T00:00:00",
          "1989-05-01T00:00:00",
          "1989-06-01T00:00:00",
          "1989-07-01T00:00:00",
          "1989-08-01T00:00:00",
          "1989-09-01T00:00:00",
          "1989-10-01T00:00:00",
          "1989-11-01T00:00:00",
          "1989-12-01T00:00:00",
          "1990-01-01T00:00:00",
          "1990-02-01T00:00:00",
          "1990-03-01T00:00:00",
          "1990-04-01T00:00:00",
          "1990-05-01T00:00:00",
          "1990-06-01T00:00:00",
          "1990-07-01T00:00:00",
          "1990-08-01T00:00:00",
          "1990-09-01T00:00:00",
          "1990-10-01T00:00:00",
          "1990-11-01T00:00:00",
          "1990-12-01T00:00:00",
          "1991-01-01T00:00:00",
          "1991-02-01T00:00:00",
          "1991-03-01T00:00:00",
          "1991-04-01T00:00:00",
          "1991-05-01T00:00:00",
          "1991-06-01T00:00:00",
          "1991-07-01T00:00:00",
          "1991-08-01T00:00:00",
          "1991-09-01T00:00:00",
          "1991-10-01T00:00:00",
          "1991-11-01T00:00:00",
          "1991-12-01T00:00:00",
          "1992-01-01T00:00:00",
          "1992-02-01T00:00:00",
          "1992-03-01T00:00:00",
          "1992-04-01T00:00:00",
          "1992-05-01T00:00:00",
          "1992-06-01T00:00:00",
          "1992-07-01T00:00:00",
          "1992-08-01T00:00:00",
          "1992-09-01T00:00:00",
          "1992-10-01T00:00:00",
          "1992-11-01T00:00:00",
          "1992-12-01T00:00:00",
          "1993-01-01T00:00:00",
          "1993-02-01T00:00:00",
          "1993-03-01T00:00:00",
          "1993-04-01T00:00:00",
          "1993-05-01T00:00:00",
          "1993-06-01T00:00:00",
          "1993-07-01T00:00:00",
          "1993-08-01T00:00:00",
          "1993-09-01T00:00:00",
          "1993-10-01T00:00:00",
          "1993-11-01T00:00:00",
          "1993-12-01T00:00:00",
          "1994-01-01T00:00:00",
          "1994-02-01T00:00:00",
          "1994-03-01T00:00:00",
          "1994-04-01T00:00:00",
          "1994-05-01T00:00:00",
          "1994-06-01T00:00:00",
          "1994-07-01T00:00:00",
          "1994-08-01T00:00:00",
          "1994-09-01T00:00:00",
          "1994-10-01T00:00:00",
          "1994-11-01T00:00:00",
          "1994-12-01T00:00:00",
          "1995-01-01T00:00:00",
          "1995-02-01T00:00:00",
          "1995-03-01T00:00:00",
          "1995-04-01T00:00:00",
          "1995-05-01T00:00:00",
          "1995-06-01T00:00:00",
          "1995-07-01T00:00:00",
          "1995-08-01T00:00:00",
          "1995-09-01T00:00:00",
          "1995-10-01T00:00:00",
          "1995-11-01T00:00:00",
          "1995-12-01T00:00:00",
          "1996-01-01T00:00:00",
          "1996-02-01T00:00:00",
          "1996-03-01T00:00:00",
          "1996-04-01T00:00:00",
          "1996-05-01T00:00:00",
          "1996-06-01T00:00:00",
          "1996-07-01T00:00:00",
          "1996-08-01T00:00:00",
          "1996-09-01T00:00:00",
          "1996-10-01T00:00:00",
          "1996-11-01T00:00:00",
          "1996-12-01T00:00:00",
          "1997-01-01T00:00:00",
          "1997-02-01T00:00:00",
          "1997-03-01T00:00:00",
          "1997-04-01T00:00:00",
          "1997-05-01T00:00:00",
          "1997-06-01T00:00:00",
          "1997-07-01T00:00:00",
          "1997-08-01T00:00:00",
          "1997-09-01T00:00:00",
          "1997-10-01T00:00:00",
          "1997-11-01T00:00:00",
          "1997-12-01T00:00:00",
          "1998-01-01T00:00:00",
          "1998-02-01T00:00:00",
          "1998-03-01T00:00:00",
          "1998-04-01T00:00:00",
          "1998-05-01T00:00:00",
          "1998-06-01T00:00:00",
          "1998-07-01T00:00:00",
          "1998-08-01T00:00:00",
          "1998-09-01T00:00:00",
          "1998-10-01T00:00:00",
          "1998-11-01T00:00:00",
          "1998-12-01T00:00:00",
          "1999-01-01T00:00:00",
          "1999-02-01T00:00:00",
          "1999-03-01T00:00:00",
          "1999-04-01T00:00:00",
          "1999-05-01T00:00:00",
          "1999-06-01T00:00:00",
          "1999-07-01T00:00:00",
          "1999-08-01T00:00:00",
          "1999-09-01T00:00:00",
          "1999-10-01T00:00:00",
          "1999-11-01T00:00:00",
          "1999-12-01T00:00:00",
          "2000-01-01T00:00:00",
          "2000-02-01T00:00:00",
          "2000-03-01T00:00:00",
          "2000-04-01T00:00:00",
          "2000-05-01T00:00:00",
          "2000-06-01T00:00:00",
          "2000-07-01T00:00:00",
          "2000-08-01T00:00:00",
          "2000-09-01T00:00:00",
          "2000-10-01T00:00:00",
          "2000-11-01T00:00:00",
          "2000-12-01T00:00:00",
          "2001-01-01T00:00:00",
          "2001-02-01T00:00:00",
          "2001-03-01T00:00:00",
          "2001-04-01T00:00:00",
          "2001-05-01T00:00:00",
          "2001-06-01T00:00:00",
          "2001-07-01T00:00:00",
          "2001-08-01T00:00:00",
          "2001-09-01T00:00:00",
          "2001-10-01T00:00:00",
          "2001-11-01T00:00:00",
          "2001-12-01T00:00:00",
          "2002-01-01T00:00:00",
          "2002-02-01T00:00:00",
          "2002-03-01T00:00:00",
          "2002-04-01T00:00:00",
          "2002-05-01T00:00:00",
          "2002-06-01T00:00:00",
          "2002-07-01T00:00:00",
          "2002-08-01T00:00:00",
          "2002-09-01T00:00:00",
          "2002-10-01T00:00:00",
          "2002-11-01T00:00:00",
          "2002-12-01T00:00:00",
          "2003-01-01T00:00:00",
          "2003-02-01T00:00:00",
          "2003-03-01T00:00:00",
          "2003-04-01T00:00:00",
          "2003-05-01T00:00:00",
          "2003-06-01T00:00:00",
          "2003-07-01T00:00:00",
          "2003-08-01T00:00:00",
          "2003-09-01T00:00:00",
          "2003-10-01T00:00:00",
          "2003-11-01T00:00:00",
          "2003-12-01T00:00:00",
          "2004-01-01T00:00:00",
          "2004-02-01T00:00:00",
          "2004-03-01T00:00:00",
          "2004-04-01T00:00:00",
          "2004-05-01T00:00:00",
          "2004-06-01T00:00:00",
          "2004-07-01T00:00:00",
          "2004-08-01T00:00:00",
          "2004-09-01T00:00:00",
          "2004-10-01T00:00:00",
          "2004-11-01T00:00:00",
          "2004-12-01T00:00:00",
          "2005-01-01T00:00:00",
          "2005-02-01T00:00:00",
          "2005-03-01T00:00:00",
          "2005-04-01T00:00:00",
          "2005-05-01T00:00:00",
          "2005-06-01T00:00:00",
          "2005-07-01T00:00:00",
          "2005-08-01T00:00:00",
          "2005-09-01T00:00:00",
          "2005-10-01T00:00:00",
          "2005-11-01T00:00:00",
          "2005-12-01T00:00:00",
          "2006-01-01T00:00:00",
          "2006-02-01T00:00:00",
          "2006-03-01T00:00:00",
          "2006-04-01T00:00:00",
          "2006-05-01T00:00:00",
          "2006-06-01T00:00:00",
          "2006-07-01T00:00:00",
          "2006-08-01T00:00:00",
          "2006-09-01T00:00:00",
          "2006-10-01T00:00:00",
          "2006-11-01T00:00:00",
          "2006-12-01T00:00:00",
          "2007-01-01T00:00:00",
          "2007-02-01T00:00:00",
          "2007-03-01T00:00:00",
          "2007-04-01T00:00:00",
          "2007-05-01T00:00:00",
          "2007-06-01T00:00:00",
          "2007-07-01T00:00:00",
          "2007-08-01T00:00:00",
          "2007-09-01T00:00:00",
          "2007-10-01T00:00:00",
          "2007-11-01T00:00:00",
          "2007-12-01T00:00:00",
          "2008-01-01T00:00:00",
          "2008-02-01T00:00:00",
          "2008-03-01T00:00:00",
          "2008-04-01T00:00:00",
          "2008-05-01T00:00:00",
          "2008-06-01T00:00:00",
          "2008-07-01T00:00:00",
          "2008-08-01T00:00:00",
          "2008-09-01T00:00:00",
          "2008-10-01T00:00:00",
          "2008-11-01T00:00:00",
          "2008-12-01T00:00:00",
          "2009-01-01T00:00:00",
          "2009-02-01T00:00:00",
          "2009-03-01T00:00:00",
          "2009-04-01T00:00:00",
          "2009-05-01T00:00:00",
          "2009-06-01T00:00:00",
          "2009-07-01T00:00:00",
          "2009-08-01T00:00:00",
          "2009-09-01T00:00:00",
          "2009-10-01T00:00:00",
          "2009-11-01T00:00:00",
          "2009-12-01T00:00:00",
          "2010-01-01T00:00:00",
          "2010-02-01T00:00:00",
          "2010-03-01T00:00:00",
          "2010-04-01T00:00:00",
          "2010-05-01T00:00:00",
          "2010-06-01T00:00:00",
          "2010-07-01T00:00:00",
          "2010-08-01T00:00:00",
          "2010-09-01T00:00:00",
          "2010-10-01T00:00:00",
          "2010-11-01T00:00:00",
          "2010-12-01T00:00:00",
          "2011-01-01T00:00:00",
          "2011-02-01T00:00:00",
          "2011-03-01T00:00:00",
          "2011-04-01T00:00:00",
          "2011-05-01T00:00:00",
          "2011-06-01T00:00:00",
          "2011-07-01T00:00:00",
          "2011-08-01T00:00:00",
          "2011-09-01T00:00:00",
          "2011-10-01T00:00:00",
          "2011-11-01T00:00:00",
          "2011-12-01T00:00:00",
          "2012-01-01T00:00:00",
          "2012-02-01T00:00:00",
          "2012-03-01T00:00:00",
          "2012-04-01T00:00:00",
          "2012-05-01T00:00:00",
          "2012-06-01T00:00:00",
          "2012-07-01T00:00:00",
          "2012-08-01T00:00:00",
          "2012-09-01T00:00:00",
          "2012-10-01T00:00:00",
          "2012-11-01T00:00:00",
          "2012-12-01T00:00:00",
          "2013-01-01T00:00:00",
          "2013-02-01T00:00:00",
          "2013-03-01T00:00:00",
          "2013-04-01T00:00:00",
          "2013-05-01T00:00:00",
          "2013-06-01T00:00:00",
          "2013-07-01T00:00:00",
          "2013-08-01T00:00:00",
          "2013-09-01T00:00:00",
          "2013-10-01T00:00:00",
          "2013-11-01T00:00:00",
          "2013-12-01T00:00:00",
          "2014-01-01T00:00:00",
          "2014-02-01T00:00:00",
          "2014-03-01T00:00:00",
          "2014-04-01T00:00:00",
          "2014-05-01T00:00:00",
          "2014-06-01T00:00:00",
          "2014-07-01T00:00:00",
          "2014-08-01T00:00:00",
          "2014-09-01T00:00:00",
          "2014-10-01T00:00:00",
          "2014-11-01T00:00:00",
          "2014-12-01T00:00:00",
          "2015-01-01T00:00:00",
          "2015-02-01T00:00:00",
          "2015-03-01T00:00:00",
          "2015-04-01T00:00:00",
          "2015-05-01T00:00:00",
          "2015-06-01T00:00:00",
          "2015-07-01T00:00:00",
          "2015-08-01T00:00:00",
          "2015-09-01T00:00:00",
          "2015-10-01T00:00:00",
          "2015-11-01T00:00:00",
          "2015-12-01T00:00:00",
          "2016-01-01T00:00:00",
          "2016-02-01T00:00:00",
          "2016-03-01T00:00:00",
          "2016-04-01T00:00:00",
          "2016-05-01T00:00:00",
          "2016-06-01T00:00:00",
          "2016-07-01T00:00:00",
          "2016-08-01T00:00:00",
          "2016-09-01T00:00:00",
          "2016-10-01T00:00:00",
          "2016-11-01T00:00:00",
          "2016-12-01T00:00:00",
          "2017-01-01T00:00:00",
          "2017-02-01T00:00:00",
          "2017-03-01T00:00:00",
          "2017-04-01T00:00:00",
          "2017-05-01T00:00:00",
          "2017-06-01T00:00:00",
          "2017-07-01T00:00:00",
          "2017-08-01T00:00:00",
          "2017-09-01T00:00:00",
          "2017-10-01T00:00:00",
          "2017-11-01T00:00:00",
          "2017-12-01T00:00:00",
          "2018-01-01T00:00:00",
          "2018-02-01T00:00:00",
          "2018-03-01T00:00:00",
          "2018-04-01T00:00:00",
          "2018-05-01T00:00:00",
          "2018-06-01T00:00:00",
          "2018-07-01T00:00:00",
          "2018-08-01T00:00:00",
          "2018-09-01T00:00:00",
          "2018-10-01T00:00:00",
          "2018-11-01T00:00:00",
          "2018-12-01T00:00:00",
          "2019-01-01T00:00:00",
          "2019-02-01T00:00:00",
          "2019-03-01T00:00:00",
          "2019-04-01T00:00:00",
          "2019-05-01T00:00:00",
          "2019-06-01T00:00:00",
          "2019-07-01T00:00:00",
          "2019-08-01T00:00:00",
          "2019-09-01T00:00:00",
          "2019-10-01T00:00:00",
          "2019-11-01T00:00:00",
          "2019-12-01T00:00:00",
          "2020-01-01T00:00:00",
          "2020-02-01T00:00:00",
          "2020-03-01T00:00:00",
          "2020-05-01T00:00:00",
          "2020-06-01T00:00:00",
          "2020-07-01T00:00:00",
          "2020-08-01T00:00:00",
          "2020-09-01T00:00:00",
          "2020-10-01T00:00:00",
          "2020-11-01T00:00:00",
          "2020-12-01T00:00:00",
          "2021-01-01T00:00:00",
          "2021-02-01T00:00:00",
          "2021-03-01T00:00:00",
          "2021-04-01T00:00:00",
          "2021-05-01T00:00:00",
          "2021-06-01T00:00:00",
          "2021-07-01T00:00:00",
          "2021-08-01T00:00:00",
          "2021-09-01T00:00:00",
          "2021-10-01T00:00:00",
          "2021-11-01T00:00:00",
          "2021-12-01T00:00:00",
          "2022-01-01T00:00:00",
          "2022-02-01T00:00:00",
          "2022-03-01T00:00:00",
          "2022-04-01T00:00:00",
          "2022-05-01T00:00:00",
          "2022-06-01T00:00:00",
          "2022-07-01T00:00:00",
          "2022-08-01T00:00:00",
          "2022-09-01T00:00:00",
          "2022-10-01T00:00:00"
         ],
         "y": [
          1.0010155721056193,
          1.0013527223537373,
          0.9979736575481254,
          1.002030456852792,
          1,
          1.0047281323877066,
          1.0010084033613444,
          1.0010073875083947,
          1.001006373700101,
          1,
          1,
          0.9989946380697047,
          1.001006373700101,
          1,
          1.002680965147453,
          1.000668449197861,
          1.0013360053440215,
          1,
          1,
          1.0010006671114073,
          1.0009996667777408,
          1.002330226364847,
          1.0019926934573233,
          1.001325820351342,
          1.0009930486593845,
          0.9990079365079362,
          1.000331016219795,
          1.00198544010589,
          1.0046235138705415,
          0.9986850756081527,
          1,
          1,
          1.001974983541804,
          1.0013140604467807,
          1.0009842519685037,
          0.9990167158308754,
          1.0009842519685037,
          1.003277613897083,
          1.0026135249918326,
          1.0019550342130987,
          0.9990243902439024,
          1.0009765625,
          1.0009756097560976,
          1.0032488628979859,
          1.0019430051813472,
          0.9990303813833229,
          1.0009705596894205,
          1.0003232062055591,
          1.0009693053311794,
          1.0009683666881861,
          1.0003224766204448,
          1.0009671179883948,
          1.000966183574879,
          1.001287001287001,
          1.0028920308483291,
          1.0012816404998401,
          1.0009599999999996,
          1,
          1.0009590792838874,
          1.0022357074417119,
          1.0031867431485024,
          1.0041296060991103,
          0.999050933248972,
          0.9990500316656113,
          1.0022187004754357,
          1.0009487666034156,
          1.0031595576619274,
          1.0031496062992125,
          1.0009419152276295,
          1.0062735257214555,
          1.0031172069825436,
          1.0031075201988813,
          1.0021685254027262,
          1.0009273570324573,
          1.0021618282890674,
          1.0061633281972266,
          1.0030627871362938,
          1.003053435114504,
          1.0009132420091322,
          1.0012165450121657,
          0.9993924665856618,
          1.0030395136778119,
          1,
          1.0030303030303032,
          1,
          1.0060422960725073,
          1.0030030030030028,
          1.002994011976048,
          1.0029850746268658,
          1.0029761904761905,
          1.00593471810089,
          1.002949852507375,
          1.002941176470588,
          1.0029325513196485,
          1.0029239766081866,
          1.002915451895044,
          1.0029069767441863,
          1.005797101449275,
          1.005763688760807,
          1.0028653295128938,
          1.002857142857143,
          1.0056980056980058,
          1.0028328611898016,
          1.0056497175141246,
          1.0028089887640446,
          1.0028011204481793,
          1.0083798882681565,
          1.0055401662049863,
          1.0027548209366393,
          1.0054945054945053,
          1.0054644808743172,
          1.002717391304348,
          1.005420054200542,
          1.0053908355795145,
          1.0053619302949064,
          1.0053333333333332,
          1.0053050397877987,
          1.0052770448548811,
          1.005249343832021,
          1.0052219321148828,
          1.0025974025974023,
          1.005181347150259,
          1.0025773195876286,
          1.0025706940874037,
          1.005128205128205,
          1.0051020408163265,
          1.0050761421319796,
          1.005050505050505,
          1.0025125628140708,
          1,
          1.0025062656641603,
          1.0025,
          1.0049875311720697,
          1.0049627791563276,
          1.0024691358024695,
          1.0024630541871922,
          1.0024570024570023,
          1.0024509803921566,
          1.0024449877750614,
          1.002439024390244,
          1.0024330900243308,
          1.0048543689320388,
          1,
          1.0024154589371979,
          1.0024096385542174,
          1.0024038461538463,
          1.0023980815347717,
          1.0023923444976077,
          1.0047732696897376,
          1.002375296912114,
          1.0047393364928912,
          1.0023584905660377,
          1.0047058823529411,
          1.0070257611241218,
          1.0093023255813955,
          1.0069124423963134,
          1.0045766590389016,
          1.0068337129840548,
          1,
          1.0180995475113122,
          1.0044444444444447,
          1.008849557522124,
          1.0065789473684208,
          1.008714596949891,
          1.0107991360691149,
          1.0106837606837604,
          1.0105708245243128,
          1.0062761506276154,
          1.0103950103950103,
          1.0082304526748969,
          1.006122448979592,
          1.0121703853955375,
          1.0140280561122246,
          1.007905138339921,
          1.0098039215686274,
          1.007766990291262,
          1.0077071290944124,
          1.005736137667304,
          1.0038022813688214,
          1.003787878787879,
          1.0018867924528303,
          1.0075329566854987,
          1.0093457943925235,
          1.0037037037037035,
          1.007380073800738,
          1.0054945054945053,
          1.0072859744990896,
          1.005424954792043,
          1.0035971223021583,
          1.0017921146953406,
          1.0017889087656535,
          1.0017857142857143,
          1.0053475935828875,
          1.0053191489361704,
          1.0052910052910051,
          1.0052631578947369,
          1.0052356020942408,
          1.0052083333333335,
          1.0034542314335062,
          1.0051635111876072,
          1.0051369863013702,
          1.010221465076661,
          1.0050590219224282,
          1.0067114093959728,
          1.003333333333334,
          1.0049833887043187,
          1.0049586776859503,
          1.004934210526316,
          1.0032733224222585,
          1.0048939641109302,
          1.0064935064935063,
          1.004838709677419,
          1.0064205457463888,
          1.0047846889952152,
          1.006349206349206,
          1.0078864353312302,
          1.0093896713615025,
          1.0077519379844961,
          1.0076923076923086,
          1.006106870229007,
          1.009104704097117,
          1.0090225563909776,
          1.0059612518628913,
          1.0059259259259257,
          1.008836524300442,
          1.01021897810219,
          1.0101156069364157,
          1.0100143061516451,
          1.0113314447592077,
          1.011204481792717,
          1.0110803324099717,
          1.009589041095891,
          1.0094979647218452,
          1.0107526881720426,
          1.0106382978723405,
          1.011842105263158,
          1.014304291287386,
          1.0128205128205128,
          1.0139240506329117,
          1.0099875156054932,
          1.0098887515451171,
          1.0097919216646263,
          1.0012121212121219,
          1.0072639225181594,
          1.0084134615384621,
          1.00953516090584,
          1.0106257378984647,
          1.009345794392524,
          1.0092592592592589,
          1.0091743119266061,
          1.0068181818181814,
          1.0056433408577883,
          1.006734006734006,
          1.0089186176142704,
          1.0110497237569063,
          1.0076502732240433,
          1.0097613882863339,
          1.0032223415682064,
          1.0042826552462523,
          1.003198294243071,
          1.0031880977683316,
          1.0031779661016942,
          1,
          1.003167898627244,
          1.0094736842105265,
          1.0114702815432741,
          1.0051546391752577,
          1.0020512820512824,
          1,
          1.0040941658137155,
          0.9989806320081551,
          0.9969387755102039,
          1.0020470829068573,
          1.0010214504596533,
          1.001020408163265,
          1.0071355759429155,
          1.0040485829959516,
          1.0020161290322578,
          1.0040241448692153,
          1.0030060120240478,
          1.002997002997004,
          1.0039840637450195,
          1.0029761904761905,
          1.0029673590504453,
          1.0069033530571985,
          1.0048971596474048,
          1.002923976608187,
          1.0038872691933918,
          1.0019361084220715,
          1.0019323671497589,
          1.003857280617165,
          1.0028818443804035,
          1.0028735632183905,
          1.0038204393505255,
          1.001902949571836,
          1.0018993352326688,
          1.0018957345971562,
          1.005676442762535,
          1.0047036688617126,
          1.0018726591760294,
          1.001869158878505,
          1.0027985074626864,
          1.0018604651162792,
          1.001857010213556,
          1.0018535681186282,
          1.0037002775208146,
          1.0046082949308752,
          1.004587155963303,
          1.00365296803653,
          0.9981801637852593,
          0.9945305378304459,
          0.9963336388634285,
          1.0027598896044156,
          1.0036697247706423,
          1.00091407678245,
          1.0009132420091327,
          1.0036496350364965,
          1.0018181818181817,
          1.001814882032668,
          1.0036231884057967,
          1.0054151624548737,
          1.0035906642728902,
          1.0035778175313064,
          1.0044563279857395,
          1.0026619343389531,
          1.0044247787610618,
          1.002643171806167,
          1.004393673110721,
          1.0034995625546805,
          1.002615518744551,
          1.0034782608695652,
          1.001733102253033,
          1.0034602076124564,
          1.001724137931035,
          1.002581755593804,
          1.0060085836909871,
          1.0025597269624569,
          1.0042553191489367,
          1.0042372881355932,
          1.0042194092827004,
          1.004201680672269,
          1.0033472803347274,
          1.0033361134278571,
          1.0033250207813795,
          1.0041425020712507,
          1.003300330033004,
          1.004934210526316,
          1.0073649754500817,
          1.0048740861088548,
          1.0032336297493931,
          1.0032232070910556,
          1,
          1.0024096385542174,
          1.0048076923076923,
          1.0039872408293458,
          1.0031771247021446,
          1.0095011876484568,
          1.0039215686274503,
          1.0046875,
          1.0023328149300164,
          1.001551590380139,
          1.0061967467079784,
          1.0046189376443422,
          1.008429118773946,
          1.0068389057750757,
          1.0067924528301895,
          1.0022488755622185,
          1.0037397157816008,
          1.0037257824143073,
          1.000742390497401,
          1,
          1.002225519287834,
          1.0037009622501847,
          1.0029498525073755,
          1.0014705882352932,
          1.0029368575624087,
          1.0029282576866767,
          1.0014598540145978,
          1.0043731778425662,
          1.002902757619739,
          1.0007235890014472,
          1.0021691973969629,
          1.0036075036075036,
          1.0021567217828902,
          1.0021520803443327,
          1.00286327845383,
          1.002855103497502,
          1.002135231316726,
          1.0021306818181814,
          1.0042523033309707,
          1.002822865208186,
          1.0014074595355382,
          1.0035137034434303,
          1.0021008403361336,
          1.0013976240391338,
          1.003489183531054,
          1.0027816411682893,
          1.0006934812760055,
          1.0013860013860014,
          1.0020761245674743,
          1.0013812154696127,
          1.004137931034483,
          1.0027472527472527,
          1.0020547945205478,
          1,
          1.0027341079972656,
          1.0027266530334022,
          1.0006798096532972,
          1.002038043478261,
          1.0027118644067792,
          1.0033806626098716,
          1.0040431266846364,
          1.0020134228187916,
          1.0006697923643673,
          1.0026773761713526,
          1.0020026702269684,
          1.0026648900732844,
          1.0026578073089707,
          1.0019880715705767,
          1.003968253968254,
          1.0019762845849796,
          1.0019723865877719,
          1.0013123359580047,
          1.0019659239842724,
          1.0013080444735125,
          1.002612671456564,
          1.0013029315960917,
          1.0013012361743656,
          1.0051981806367767,
          1.0019392372333555,
          1.0032258064516124,
          1.003858520900322,
          1.0019218449711724,
          1.0019181585677748,
          1.0019144862795148,
          1.0012738853503187,
          1.0031806615776082,
          1.0031705770450225,
          1.0031605562579011,
          1.002520478890989,
          1.0018856065367698,
          1.0018820577164365,
          1.000626174076393,
          1.0006257822277846,
          1,
          1.0018761726078804,
          1.0012484394506864,
          1.0024937655860349,
          1.0024875621890543,
          1.0018610421836232,
          1.0012383900928792,
          1.0006184291898585,
          1.0012360939431388,
          1,
          1,
          1.001234567901235,
          1.0024660912453762,
          1.0012300123001232,
          1.0024570024570016,
          1.0012254901960789,
          1.000611995104039,
          1.002446483180428,
          1.0012202562538133,
          1.0018281535648998,
          1.0018248175182476,
          1,
          1.000607164541591,
          1.0066747572815533,
          1.0006027727546716,
          1,
          1.004216867469879,
          1.0023995200959812,
          1.0041891083183723,
          1.0017878426698448,
          1.001784651992861,
          1.0023752969121145,
          1.0029620853080565,
          1.0041346721795632,
          1.0058823529411767,
          0.9994152046783626,
          1.001755412521942,
          1.005841121495327,
          1.002903600464576,
          1,
          1.0052113491603945,
          1.001728110599078,
          1.0017251293847038,
          1.0022962112514346,
          1.005727376861398,
          1.0022779043280177,
          1.0005681818181817,
          1.0017035775127774,
          1.005102040816327,
          1.0022560631697688,
          0.9983117613956098,
          1,
          1.0039458850056378,
          0.9971925884334638,
          0.9994369369369371,
          0.9994366197183094,
          1.0016910935738452,
          1.001688238604389,
          1.0028089887640446,
          1.0044817927170873,
          1.0011154489682095,
          1.0005571030640674,
          1.0022271714922046,
          1.0027777777777782,
          1.0016620498614959,
          1.0022123893805308,
          1.0016556291390721,
          1.0016528925619836,
          1.004400440044005,
          1.0054764512595835,
          1.0016339869281048,
          0.9961935834692769,
          0.9983624454148469,
          1.0010934937124107,
          1.003276897870017,
          1.0043549265106146,
          1.0032520325203258,
          0.9989195029713662,
          1.000540832882639,
          1.002702702702703,
          1.0043126684636123,
          1.002147074610842,
          1.0021424745581153,
          1.0016034206306783,
          1.0042689434365002,
          1.0037194473963869,
          1.0010587612493378,
          1.0005288207297722,
          1.0031712473572945,
          1.005268703898841,
          1.004716981132075,
          1,
          0.9994783515910274,
          1.0041753653444678,
          1.0036382536382538,
          1.003107198342828,
          0.9994837377387714,
          1.0005165289256197,
          1.006195147134744,
          1.0061570035915857,
          1.013768485466599,
          1.0015090543259557,
          0.9949773982923152,
          1,
          1.0060575466935888,
          1.0005017561465128,
          1.001504513540622,
          1.0050075112669001,
          1.0029895366218244,
          1.0024838549428714,
          1.0054509415262631,
          1.0044356826022673,
          0.9950932286555448,
          0.9955621301775147,
          1.000495294700347,
          1.0054455445544552,
          1.0016592811422944,
          1.003878350545869,
          1.0052001214340975,
          1.0030006624839256,
          1.0041329940166284,
          1.0023167517109626,
          1.0017805958481718,
          1.0003082807088524,
          1.0042375533907657,
          1.00308323783128,
          1.0078588842678906,
          1.002898014551732,
          1.0034477050769708,
          1.0024178268779396,
          1.0035780278061186,
          1.002314381020202,
          1.005917491656617,
          1.0104782350098511,
          1.0071414447515215,
          0.9985115242721985,
          1.0008550916822903,
          0.9914015634351718,
          0.9822945229152741,
          0.9917664776005971,
          1.0025307713412612,
          1.0036426606521875,
          0.9990127171434615,
          1.0010070825195887,
          1.0014714939189224,
          1.008299612246622,
          0.9997020345453704,
          1.0033484533777923,
          1.0019308872334014,
          1.0030019317987036,
          1.0033485905897679,
          1.0005201763996423,
          1.0006487322116249,
          0.9990482233502539,
          1.000331368136192,
          1.0002300405331424,
          0.9994802279637356,
          0.9995812048414561,
          1.0018692535416822,
          1.0014613634797,
          1.0016152494229609,
          1.0034818462948116,
          1.0025338416234852,
          1.0040165763468276,
          1.0032430422003709,
          1.0032144746300642,
          1.005173548206833,
          1.0046940989750996,
          1.0031817147345075,
          1,
          1.0026200368317575,
          1.0031544621664186,
          1.002171547858085,
          1.000675207527019,
          1.0018478500551262,
          1.0002377084901546,
          1.0027241960540973,
          1.002137446124946,
          1.00209347038703,
          1.0016607883500062,
          0.9979318198676193,
          0.9991736368286892,
          1.0002888099280598,
          1.0058095279758519,
          1.0047712662775423,
          1.002696794580439,
          0.9983206555055737,
          0.999878918395322,
          1.0019807889421817,
          1.0054299267521005,
          0.9971880808974097,
          0.9979120207334193,
          1.0004141554895012,
          1.002380408205509,
          1.0019574523005441,
          1.0023872906826963,
          1.000376944691934,
          1.0005352310485385,
          1.0018444894273526,
          1.0026441691584789,
          1.0024241752904532,
          1.0011007786202444,
          1.0020420553010656,
          1.0018641856050976,
          1.0019030059035468,
          1.0013211322060798,
          1.001125485286493,
          0.9998399986526207,
          1.0000715910048008,
          0.9998020860967586,
          0.9981173398475341,
          0.9969153905554404,
          0.9936296835582346,
          1.0025346436802176,
          1.002693951780812,
          1.0010424788961594,
          1.0032977453412462,
          1.0027679208104614,
          1.0015863197801875,
          0.9999957989194815,
          0.9977524124806226,
          1.000989482016691,
          1.0011946174910509,
          0.9989244465731442,
          0.9995415564369262,
          0.9986703246764173,
          1.0031347962382444,
          1.0038306451612908,
          1.002364095869318,
          1.0027759572878268,
          0.9994962992565212,
          1.0018492217858317,
          1.0026232097944252,
          1.0023426874979264,
          1.0011789477167718,
          1.0025245221587762,
          1.0040430766948154,
          1.0015926573570102,
          0.9995327983738107,
          1.0012341528217406,
          0.9992260220399434,
          1.0006516286618257,
          1.0003276499715348,
          1.0038486261632886,
          1.0051063899209978,
          1.0007750522450134,
          1.0026680074282521,
          1.0021068892447549,
          1.00378523435766,
          1.0027980686893707,
          1.0005692774586166,
          1.0022637941189432,
          1.00253052217505,
          1.001351787829125,
          1.0008163492859925,
          1.0016950299017602,
          1.0019463831038053,
          1.0024698797568974,
          0.9991892811098548,
          0.9995804588829916,
          0.9996792727013551,
          1.0026339763140173,
          1.004495624864203,
          1.0035001750087504,
          1.0006348882870952,
          1.0001409967688242,
          1.002110737348303,
          1.0010902696365769,
          1.001627768084035,
          1.00276309841151,
          1.0018771496861703,
          1.0018425993451987,
          1.0016223771891446,
          1.001256368823497,
          0.9967491226105859,
          0.991396974802936,
          1.0049737442565565,
          1.0051551802563592,
          1.0040109382191742,
          1.0023499499191002,
          1.0006226219301282,
          1.0014173119469025,
          1.0032333413879209,
          1.002431527274395,
          1.0043707093821514,
          1.0063870345477053,
          1.0064106434037152,
          1.007018412084266,
          1.008771439953239,
          1.0045358085290916,
          1.0033359786027098,
          1.0041085055585663,
          1.0086647654751393,
          1.006992299070827,
          1.0057517485028225,
          1.0064506686276888,
          1.0079770725668862,
          1.012407541645847,
          1.0033193376617957,
          1.0097379989815112,
          1.013222448657513,
          0.9998069942572329,
          1.0011819650422837,
          1.0038596847303964,
          1.0043839992451842
         ]
        },
        {
         "line": {
          "color": "blue"
         },
         "mode": "lines",
         "name": "Predicted",
         "type": "scatter",
         "x": [
          "2022-11-01T00:00:00",
          "2022-12-01T00:00:00",
          "2023-01-01T00:00:00",
          "2023-02-01T00:00:00",
          "2023-03-01T00:00:00",
          "2023-04-01T00:00:00",
          "2023-05-01T00:00:00",
          "2023-06-01T00:00:00",
          "2023-07-01T00:00:00",
          "2023-08-01T00:00:00",
          "2023-09-01T00:00:00",
          "2023-10-01T00:00:00",
          "2023-11-01T00:00:00",
          "2023-12-01T00:00:00",
          "2024-01-01T00:00:00",
          "2024-02-01T00:00:00",
          "2024-03-01T00:00:00",
          "2024-04-01T00:00:00",
          "2024-05-01T00:00:00",
          "2024-06-01T00:00:00",
          "2024-07-01T00:00:00",
          "2024-08-01T00:00:00",
          "2024-09-01T00:00:00",
          "2024-10-01T00:00:00"
         ],
         "y": [
          1.0043049731798732,
          1.0044391236974977,
          1.0046206912291216,
          1.0045799558377055,
          1.0047646129682015,
          1.0043595447311158,
          1.0043440581865584,
          1.0044792766458601,
          1.0046180490249734,
          1.004642395646056,
          1.0046895865353849,
          1.0045788813154728,
          1.0046252379136105,
          1.0047824533903416,
          1.0039265853445922,
          1.0033074013069199,
          1.0031232084070532,
          1.0032796176906076,
          1.0029123633560428,
          1.0032130345630283,
          1.0030344956247774,
          1.0030054349142186,
          1.003027245956695,
          1.0032080201072442
         ]
        },
        {
         "line": {
          "color": "cyan",
          "dash": "dash"
         },
         "mode": "lines",
         "name": "0.1",
         "type": "scatter",
         "x": [
          "2022-11-01T00:00:00",
          "2022-12-01T00:00:00",
          "2023-01-01T00:00:00",
          "2023-02-01T00:00:00",
          "2023-03-01T00:00:00",
          "2023-04-01T00:00:00",
          "2023-05-01T00:00:00",
          "2023-06-01T00:00:00",
          "2023-07-01T00:00:00",
          "2023-08-01T00:00:00",
          "2023-09-01T00:00:00",
          "2023-10-01T00:00:00",
          "2023-11-01T00:00:00",
          "2023-12-01T00:00:00",
          "2024-01-01T00:00:00",
          "2024-02-01T00:00:00",
          "2024-03-01T00:00:00",
          "2024-04-01T00:00:00",
          "2024-05-01T00:00:00",
          "2024-06-01T00:00:00",
          "2024-07-01T00:00:00",
          "2024-08-01T00:00:00",
          "2024-09-01T00:00:00",
          "2024-10-01T00:00:00"
         ],
         "y": [
          1.0001319935048028,
          0.9963296911800933,
          0.9926314472773845,
          0.9885045869201616,
          0.9848366752515754,
          0.9800420346433395,
          0.9760165666696017,
          0.9722994610542675,
          0.9686061148523641,
          0.9647043277142644,
          0.9608724814774982,
          0.9567456748463561,
          0.9529333266679498,
          0.9493478540328849,
          0.9438802561293802,
          0.938883600820885,
          0.9347149860581391,
          0.9311948166682475,
          0.9267198458228065,
          0.9234954249659589,
          0.9194033386656014,
          0.9156022116215238,
          0.9119092964043629,
          0.9085191707465586
         ]
        },
        {
         "line": {
          "color": "paleturquoise",
          "dash": "dash"
         },
         "mode": "lines",
         "name": "0.4",
         "type": "scatter",
         "x": [
          "2022-11-01T00:00:00",
          "2022-12-01T00:00:00",
          "2023-01-01T00:00:00",
          "2023-02-01T00:00:00",
          "2023-03-01T00:00:00",
          "2023-04-01T00:00:00",
          "2023-05-01T00:00:00",
          "2023-06-01T00:00:00",
          "2023-07-01T00:00:00",
          "2023-08-01T00:00:00",
          "2023-09-01T00:00:00",
          "2023-10-01T00:00:00",
          "2023-11-01T00:00:00",
          "2023-12-01T00:00:00",
          "2024-01-01T00:00:00",
          "2024-02-01T00:00:00",
          "2024-03-01T00:00:00",
          "2024-04-01T00:00:00",
          "2024-05-01T00:00:00",
          "2024-06-01T00:00:00",
          "2024-07-01T00:00:00",
          "2024-08-01T00:00:00",
          "2024-09-01T00:00:00",
          "2024-10-01T00:00:00"
         ],
         "y": [
          1.0023648043099542,
          1.0007744090403219,
          0.9992808296517759,
          0.9973479600884677,
          0.9958655679747558,
          0.9932118324082898,
          0.9913337668764272,
          0.9897562219735097,
          0.9881948785220924,
          0.9864245069421979,
          0.9847020678942839,
          0.9826668289147382,
          0.9809361608880743,
          0.9794378112917003,
          0.9759709623853002,
          0.9729817032293226,
          0.970842664378514,
          0.9693574658281422,
          0.9668733859519575,
          0.9656731882888452,
          0.9635404413096137,
          0.9616989672017492,
          0.9599583828143816,
          0.9585181560900493
         ]
        },
        {
         "line": {
          "color": "cyan",
          "dash": "dash"
         },
         "mode": "lines",
         "name": "0.1",
         "showlegend": false,
         "type": "scatter",
         "x": [
          "2022-11-01T00:00:00",
          "2022-12-01T00:00:00",
          "2023-01-01T00:00:00",
          "2023-02-01T00:00:00",
          "2023-03-01T00:00:00",
          "2023-04-01T00:00:00",
          "2023-05-01T00:00:00",
          "2023-06-01T00:00:00",
          "2023-07-01T00:00:00",
          "2023-08-01T00:00:00",
          "2023-09-01T00:00:00",
          "2023-10-01T00:00:00",
          "2023-11-01T00:00:00",
          "2023-12-01T00:00:00",
          "2024-01-01T00:00:00",
          "2024-02-01T00:00:00",
          "2024-03-01T00:00:00",
          "2024-04-01T00:00:00",
          "2024-05-01T00:00:00",
          "2024-06-01T00:00:00",
          "2024-07-01T00:00:00",
          "2024-08-01T00:00:00",
          "2024-09-01T00:00:00",
          "2024-10-01T00:00:00"
         ],
         "y": [
          1.008241353544769,
          1.0125073053541571,
          1.0169233679947063,
          1.0209067428024567,
          1.025365682164763,
          1.0286357246436089,
          1.0327073410112126,
          1.0371158292928433,
          1.041513485981872,
          1.0457168101270229,
          1.0499967475721266,
          1.0539628549128999,
          1.0582747905149876,
          1.063126436716195,
          1.0658480475268621,
          1.069078895051587,
          1.0732498379659876,
          1.0781689093679634,
          1.0819851837094676,
          1.0872643551096026,
          1.0915257593359753,
          1.0961299229207002,
          1.1008658328485441,
          1.1059726761197946
         ]
        },
        {
         "line": {
          "color": "paleturquoise",
          "dash": "dash"
         },
         "mode": "lines",
         "name": "0.4",
         "showlegend": false,
         "type": "scatter",
         "x": [
          "2022-11-01T00:00:00",
          "2022-12-01T00:00:00",
          "2023-01-01T00:00:00",
          "2023-02-01T00:00:00",
          "2023-03-01T00:00:00",
          "2023-04-01T00:00:00",
          "2023-05-01T00:00:00",
          "2023-06-01T00:00:00",
          "2023-07-01T00:00:00",
          "2023-08-01T00:00:00",
          "2023-09-01T00:00:00",
          "2023-10-01T00:00:00",
          "2023-11-01T00:00:00",
          "2023-12-01T00:00:00",
          "2024-01-01T00:00:00",
          "2024-02-01T00:00:00",
          "2024-03-01T00:00:00",
          "2024-04-01T00:00:00",
          "2024-05-01T00:00:00",
          "2024-06-01T00:00:00",
          "2024-07-01T00:00:00",
          "2024-08-01T00:00:00",
          "2024-09-01T00:00:00",
          "2024-10-01T00:00:00"
         ],
         "y": [
          1.0060466117643954,
          1.0081388839684413,
          1.0103308426393032,
          1.012080488977901,
          1.0142872036439643,
          1.015306005858638,
          1.0171144180877434,
          1.019221420583617,
          1.021350442421179,
          1.0232507689085417,
          1.0252012509726325,
          1.0268326330849613,
          1.0287776980281338,
          1.0309539236777665,
          1.0310527376318477,
          1.0316367390342867,
          1.0331160848354628,
          1.0352877537312442,
          1.0363939441431174,
          1.0388839276448822,
          1.040385320359853,
          1.0421994710553024,
          1.0441333917687956,
          1.0464024889176373
         ]
        }
       ],
       "layout": {
        "plot_bgcolor": "white",
        "template": {
         "data": {
          "bar": [
           {
            "error_x": {
             "color": "#2a3f5f"
            },
            "error_y": {
             "color": "#2a3f5f"
            },
            "marker": {
             "line": {
              "color": "#E5ECF6",
              "width": 0.5
             }
            },
            "type": "bar"
           }
          ],
          "barpolar": [
           {
            "marker": {
             "line": {
              "color": "#E5ECF6",
              "width": 0.5
             }
            },
            "type": "barpolar"
           }
          ],
          "carpet": [
           {
            "aaxis": {
             "endlinecolor": "#2a3f5f",
             "gridcolor": "white",
             "linecolor": "white",
             "minorgridcolor": "white",
             "startlinecolor": "#2a3f5f"
            },
            "baxis": {
             "endlinecolor": "#2a3f5f",
             "gridcolor": "white",
             "linecolor": "white",
             "minorgridcolor": "white",
             "startlinecolor": "#2a3f5f"
            },
            "type": "carpet"
           }
          ],
          "choropleth": [
           {
            "colorbar": {
             "outlinewidth": 0,
             "ticks": ""
            },
            "type": "choropleth"
           }
          ],
          "contour": [
           {
            "colorbar": {
             "outlinewidth": 0,
             "ticks": ""
            },
            "colorscale": [
             [
              0,
              "#0d0887"
             ],
             [
              0.1111111111111111,
              "#46039f"
             ],
             [
              0.2222222222222222,
              "#7201a8"
             ],
             [
              0.3333333333333333,
              "#9c179e"
             ],
             [
              0.4444444444444444,
              "#bd3786"
             ],
             [
              0.5555555555555556,
              "#d8576b"
             ],
             [
              0.6666666666666666,
              "#ed7953"
             ],
             [
              0.7777777777777778,
              "#fb9f3a"
             ],
             [
              0.8888888888888888,
              "#fdca26"
             ],
             [
              1,
              "#f0f921"
             ]
            ],
            "type": "contour"
           }
          ],
          "contourcarpet": [
           {
            "colorbar": {
             "outlinewidth": 0,
             "ticks": ""
            },
            "type": "contourcarpet"
           }
          ],
          "heatmap": [
           {
            "colorbar": {
             "outlinewidth": 0,
             "ticks": ""
            },
            "colorscale": [
             [
              0,
              "#0d0887"
             ],
             [
              0.1111111111111111,
              "#46039f"
             ],
             [
              0.2222222222222222,
              "#7201a8"
             ],
             [
              0.3333333333333333,
              "#9c179e"
             ],
             [
              0.4444444444444444,
              "#bd3786"
             ],
             [
              0.5555555555555556,
              "#d8576b"
             ],
             [
              0.6666666666666666,
              "#ed7953"
             ],
             [
              0.7777777777777778,
              "#fb9f3a"
             ],
             [
              0.8888888888888888,
              "#fdca26"
             ],
             [
              1,
              "#f0f921"
             ]
            ],
            "type": "heatmap"
           }
          ],
          "heatmapgl": [
           {
            "colorbar": {
             "outlinewidth": 0,
             "ticks": ""
            },
            "colorscale": [
             [
              0,
              "#0d0887"
             ],
             [
              0.1111111111111111,
              "#46039f"
             ],
             [
              0.2222222222222222,
              "#7201a8"
             ],
             [
              0.3333333333333333,
              "#9c179e"
             ],
             [
              0.4444444444444444,
              "#bd3786"
             ],
             [
              0.5555555555555556,
              "#d8576b"
             ],
             [
              0.6666666666666666,
              "#ed7953"
             ],
             [
              0.7777777777777778,
              "#fb9f3a"
             ],
             [
              0.8888888888888888,
              "#fdca26"
             ],
             [
              1,
              "#f0f921"
             ]
            ],
            "type": "heatmapgl"
           }
          ],
          "histogram": [
           {
            "marker": {
             "colorbar": {
              "outlinewidth": 0,
              "ticks": ""
             }
            },
            "type": "histogram"
           }
          ],
          "histogram2d": [
           {
            "colorbar": {
             "outlinewidth": 0,
             "ticks": ""
            },
            "colorscale": [
             [
              0,
              "#0d0887"
             ],
             [
              0.1111111111111111,
              "#46039f"
             ],
             [
              0.2222222222222222,
              "#7201a8"
             ],
             [
              0.3333333333333333,
              "#9c179e"
             ],
             [
              0.4444444444444444,
              "#bd3786"
             ],
             [
              0.5555555555555556,
              "#d8576b"
             ],
             [
              0.6666666666666666,
              "#ed7953"
             ],
             [
              0.7777777777777778,
              "#fb9f3a"
             ],
             [
              0.8888888888888888,
              "#fdca26"
             ],
             [
              1,
              "#f0f921"
             ]
            ],
            "type": "histogram2d"
           }
          ],
          "histogram2dcontour": [
           {
            "colorbar": {
             "outlinewidth": 0,
             "ticks": ""
            },
            "colorscale": [
             [
              0,
              "#0d0887"
             ],
             [
              0.1111111111111111,
              "#46039f"
             ],
             [
              0.2222222222222222,
              "#7201a8"
             ],
             [
              0.3333333333333333,
              "#9c179e"
             ],
             [
              0.4444444444444444,
              "#bd3786"
             ],
             [
              0.5555555555555556,
              "#d8576b"
             ],
             [
              0.6666666666666666,
              "#ed7953"
             ],
             [
              0.7777777777777778,
              "#fb9f3a"
             ],
             [
              0.8888888888888888,
              "#fdca26"
             ],
             [
              1,
              "#f0f921"
             ]
            ],
            "type": "histogram2dcontour"
           }
          ],
          "mesh3d": [
           {
            "colorbar": {
             "outlinewidth": 0,
             "ticks": ""
            },
            "type": "mesh3d"
           }
          ],
          "parcoords": [
           {
            "line": {
             "colorbar": {
              "outlinewidth": 0,
              "ticks": ""
             }
            },
            "type": "parcoords"
           }
          ],
          "pie": [
           {
            "automargin": true,
            "type": "pie"
           }
          ],
          "scatter": [
           {
            "marker": {
             "colorbar": {
              "outlinewidth": 0,
              "ticks": ""
             }
            },
            "type": "scatter"
           }
          ],
          "scatter3d": [
           {
            "line": {
             "colorbar": {
              "outlinewidth": 0,
              "ticks": ""
             }
            },
            "marker": {
             "colorbar": {
              "outlinewidth": 0,
              "ticks": ""
             }
            },
            "type": "scatter3d"
           }
          ],
          "scattercarpet": [
           {
            "marker": {
             "colorbar": {
              "outlinewidth": 0,
              "ticks": ""
             }
            },
            "type": "scattercarpet"
           }
          ],
          "scattergeo": [
           {
            "marker": {
             "colorbar": {
              "outlinewidth": 0,
              "ticks": ""
             }
            },
            "type": "scattergeo"
           }
          ],
          "scattergl": [
           {
            "marker": {
             "colorbar": {
              "outlinewidth": 0,
              "ticks": ""
             }
            },
            "type": "scattergl"
           }
          ],
          "scattermapbox": [
           {
            "marker": {
             "colorbar": {
              "outlinewidth": 0,
              "ticks": ""
             }
            },
            "type": "scattermapbox"
           }
          ],
          "scatterpolar": [
           {
            "marker": {
             "colorbar": {
              "outlinewidth": 0,
              "ticks": ""
             }
            },
            "type": "scatterpolar"
           }
          ],
          "scatterpolargl": [
           {
            "marker": {
             "colorbar": {
              "outlinewidth": 0,
              "ticks": ""
             }
            },
            "type": "scatterpolargl"
           }
          ],
          "scatterternary": [
           {
            "marker": {
             "colorbar": {
              "outlinewidth": 0,
              "ticks": ""
             }
            },
            "type": "scatterternary"
           }
          ],
          "surface": [
           {
            "colorbar": {
             "outlinewidth": 0,
             "ticks": ""
            },
            "colorscale": [
             [
              0,
              "#0d0887"
             ],
             [
              0.1111111111111111,
              "#46039f"
             ],
             [
              0.2222222222222222,
              "#7201a8"
             ],
             [
              0.3333333333333333,
              "#9c179e"
             ],
             [
              0.4444444444444444,
              "#bd3786"
             ],
             [
              0.5555555555555556,
              "#d8576b"
             ],
             [
              0.6666666666666666,
              "#ed7953"
             ],
             [
              0.7777777777777778,
              "#fb9f3a"
             ],
             [
              0.8888888888888888,
              "#fdca26"
             ],
             [
              1,
              "#f0f921"
             ]
            ],
            "type": "surface"
           }
          ],
          "table": [
           {
            "cells": {
             "fill": {
              "color": "#EBF0F8"
             },
             "line": {
              "color": "white"
             }
            },
            "header": {
             "fill": {
              "color": "#C8D4E3"
             },
             "line": {
              "color": "white"
             }
            },
            "type": "table"
           }
          ]
         },
         "layout": {
          "annotationdefaults": {
           "arrowcolor": "#2a3f5f",
           "arrowhead": 0,
           "arrowwidth": 1
          },
          "autotypenumbers": "strict",
          "coloraxis": {
           "colorbar": {
            "outlinewidth": 0,
            "ticks": ""
           }
          },
          "colorscale": {
           "diverging": [
            [
             0,
             "#8e0152"
            ],
            [
             0.1,
             "#c51b7d"
            ],
            [
             0.2,
             "#de77ae"
            ],
            [
             0.3,
             "#f1b6da"
            ],
            [
             0.4,
             "#fde0ef"
            ],
            [
             0.5,
             "#f7f7f7"
            ],
            [
             0.6,
             "#e6f5d0"
            ],
            [
             0.7,
             "#b8e186"
            ],
            [
             0.8,
             "#7fbc41"
            ],
            [
             0.9,
             "#4d9221"
            ],
            [
             1,
             "#276419"
            ]
           ],
           "sequential": [
            [
             0,
             "#0d0887"
            ],
            [
             0.1111111111111111,
             "#46039f"
            ],
            [
             0.2222222222222222,
             "#7201a8"
            ],
            [
             0.3333333333333333,
             "#9c179e"
            ],
            [
             0.4444444444444444,
             "#bd3786"
            ],
            [
             0.5555555555555556,
             "#d8576b"
            ],
            [
             0.6666666666666666,
             "#ed7953"
            ],
            [
             0.7777777777777778,
             "#fb9f3a"
            ],
            [
             0.8888888888888888,
             "#fdca26"
            ],
            [
             1,
             "#f0f921"
            ]
           ],
           "sequentialminus": [
            [
             0,
             "#0d0887"
            ],
            [
             0.1111111111111111,
             "#46039f"
            ],
            [
             0.2222222222222222,
             "#7201a8"
            ],
            [
             0.3333333333333333,
             "#9c179e"
            ],
            [
             0.4444444444444444,
             "#bd3786"
            ],
            [
             0.5555555555555556,
             "#d8576b"
            ],
            [
             0.6666666666666666,
             "#ed7953"
            ],
            [
             0.7777777777777778,
             "#fb9f3a"
            ],
            [
             0.8888888888888888,
             "#fdca26"
            ],
            [
             1,
             "#f0f921"
            ]
           ]
          },
          "colorway": [
           "#636efa",
           "#EF553B",
           "#00cc96",
           "#ab63fa",
           "#FFA15A",
           "#19d3f3",
           "#FF6692",
           "#B6E880",
           "#FF97FF",
           "#FECB52"
          ],
          "font": {
           "color": "#2a3f5f"
          },
          "geo": {
           "bgcolor": "white",
           "lakecolor": "white",
           "landcolor": "#E5ECF6",
           "showlakes": true,
           "showland": true,
           "subunitcolor": "white"
          },
          "hoverlabel": {
           "align": "left"
          },
          "hovermode": "closest",
          "mapbox": {
           "style": "light"
          },
          "paper_bgcolor": "white",
          "plot_bgcolor": "#E5ECF6",
          "polar": {
           "angularaxis": {
            "gridcolor": "white",
            "linecolor": "white",
            "ticks": ""
           },
           "bgcolor": "#E5ECF6",
           "radialaxis": {
            "gridcolor": "white",
            "linecolor": "white",
            "ticks": ""
           }
          },
          "scene": {
           "xaxis": {
            "backgroundcolor": "#E5ECF6",
            "gridcolor": "white",
            "gridwidth": 2,
            "linecolor": "white",
            "showbackground": true,
            "ticks": "",
            "zerolinecolor": "white"
           },
           "yaxis": {
            "backgroundcolor": "#E5ECF6",
            "gridcolor": "white",
            "gridwidth": 2,
            "linecolor": "white",
            "showbackground": true,
            "ticks": "",
            "zerolinecolor": "white"
           },
           "zaxis": {
            "backgroundcolor": "#E5ECF6",
            "gridcolor": "white",
            "gridwidth": 2,
            "linecolor": "white",
            "showbackground": true,
            "ticks": "",
            "zerolinecolor": "white"
           }
          },
          "shapedefaults": {
           "line": {
            "color": "#2a3f5f"
           }
          },
          "ternary": {
           "aaxis": {
            "gridcolor": "white",
            "linecolor": "white",
            "ticks": ""
           },
           "baxis": {
            "gridcolor": "white",
            "linecolor": "white",
            "ticks": ""
           },
           "bgcolor": "#E5ECF6",
           "caxis": {
            "gridcolor": "white",
            "linecolor": "white",
            "ticks": ""
           }
          },
          "title": {
           "x": 0.05
          },
          "xaxis": {
           "automargin": true,
           "gridcolor": "white",
           "linecolor": "white",
           "ticks": "",
           "title": {
            "standoff": 15
           },
           "zerolinecolor": "white",
           "zerolinewidth": 2
          },
          "yaxis": {
           "automargin": true,
           "gridcolor": "white",
           "linecolor": "white",
           "ticks": "",
           "title": {
            "standoff": 15
           },
           "zerolinecolor": "white",
           "zerolinewidth": 2
          }
         }
        },
        "title": {
         "text": "Inflation"
        }
       }
      }
     },
     "metadata": {},
     "output_type": "display_data"
    }
   ],
   "source": [
    "import plotly.graph_objects as go\n",
    "\n",
    "# Create a new figure\n",
    "fig = go.Figure()\n",
    "\n",
    "# Add each time series as a separate trace with the 'lines' mode\n",
    "fig.add_trace(\n",
    "    go.Scatter(\n",
    "        x=reverse_historical_data.index,\n",
    "        y=reverse_historical_data.values,\n",
    "        name=\"Historical\",\n",
    "        mode=\"lines\",\n",
    "        line=dict(color=\"orange\"),\n",
    "    )\n",
    ")\n",
    "fig.add_trace(\n",
    "    go.Scatter(\n",
    "        x=reverse_predicted_data.index,\n",
    "        y=reverse_predicted_data.values,\n",
    "        name=\"Predicted\",\n",
    "        mode=\"lines\",\n",
    "        line=dict(color=\"blue\"),\n",
    "    )\n",
    ")\n",
    "fig.add_trace(\n",
    "    go.Scatter(\n",
    "        x=reverse_predict_lower_10.index,\n",
    "        y=reverse_predict_lower_10.values,\n",
    "        name=\"0.1\",\n",
    "        mode=\"lines\",\n",
    "        line=dict(color=\"cyan\", dash=\"dash\"),\n",
    "    )\n",
    ")\n",
    "fig.add_trace(\n",
    "    go.Scatter(\n",
    "        x=reverse_predict_lower_40.index,\n",
    "        y=reverse_predict_lower_40.values,\n",
    "        name=\"0.4\",\n",
    "        mode=\"lines\",\n",
    "        line=dict(color=\"paleturquoise\", dash=\"dash\"),\n",
    "    )\n",
    ")\n",
    "fig.add_trace(\n",
    "    go.Scatter(\n",
    "        x=reverse_predict_upper_10.index,\n",
    "        y=reverse_predict_upper_10.values,\n",
    "        name=\"0.1\",\n",
    "        mode=\"lines\",\n",
    "        line=dict(color=\"cyan\", dash=\"dash\"),\n",
    "    )\n",
    ")\n",
    "fig.add_trace(\n",
    "    go.Scatter(\n",
    "        x=reverse_predict_upper_40.index,\n",
    "        y=reverse_predict_upper_40.values,\n",
    "        name=\"0.4\",\n",
    "        mode=\"lines\",\n",
    "        line=dict(color=\"paleturquoise\", dash=\"dash\"),\n",
    "    )\n",
    ")\n",
    "\n",
    "names = set()\n",
    "fig.for_each_trace(\n",
    "    lambda trace: trace.update(showlegend=False)\n",
    "    if (trace.name in names)\n",
    "    else names.add(trace.name)\n",
    ")\n",
    "\n",
    "fig.update_layout(plot_bgcolor=\"white\", title=VARIABLES_MAP[variable])"
   ]
  },
  {
   "cell_type": "code",
   "execution_count": null,
   "metadata": {},
   "outputs": [],
   "source": []
  }
 ],
 "metadata": {
  "kernelspec": {
   "display_name": "Python 3.7.0 ('test_env': venv)",
   "language": "python",
   "name": "python3"
  },
  "language_info": {
   "codemirror_mode": {
    "name": "ipython",
    "version": 3
   },
   "file_extension": ".py",
   "mimetype": "text/x-python",
   "name": "python",
   "nbconvert_exporter": "python",
   "pygments_lexer": "ipython3",
   "version": "3.7.0"
  },
  "orig_nbformat": 4,
  "vscode": {
   "interpreter": {
    "hash": "035b554e3549a2b2468cb30fcc59f94af0d4b55bc9ff889feec7e35d12f7b752"
   }
  }
 },
 "nbformat": 4,
 "nbformat_minor": 2
}
