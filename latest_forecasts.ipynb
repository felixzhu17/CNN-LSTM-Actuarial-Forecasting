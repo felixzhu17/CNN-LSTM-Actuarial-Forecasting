{
 "cells": [
  {
   "cell_type": "code",
   "execution_count": 1,
   "metadata": {},
   "outputs": [
    {
     "name": "stderr",
     "output_type": "stream",
     "text": [
      "d:\\Python Projects\\Actuarial_NN_Forecasting\\test_env\\lib\\site-packages\\tensorflow\\python\\framework\\dtypes.py:516: FutureWarning: Passing (type, 1) or '1type' as a synonym of type is deprecated; in a future version of numpy, it will be understood as (type, (1,)) / '(1,)type'.\n",
      "  _np_qint8 = np.dtype([(\"qint8\", np.int8, 1)])\n",
      "d:\\Python Projects\\Actuarial_NN_Forecasting\\test_env\\lib\\site-packages\\tensorflow\\python\\framework\\dtypes.py:517: FutureWarning: Passing (type, 1) or '1type' as a synonym of type is deprecated; in a future version of numpy, it will be understood as (type, (1,)) / '(1,)type'.\n",
      "  _np_quint8 = np.dtype([(\"quint8\", np.uint8, 1)])\n",
      "d:\\Python Projects\\Actuarial_NN_Forecasting\\test_env\\lib\\site-packages\\tensorflow\\python\\framework\\dtypes.py:518: FutureWarning: Passing (type, 1) or '1type' as a synonym of type is deprecated; in a future version of numpy, it will be understood as (type, (1,)) / '(1,)type'.\n",
      "  _np_qint16 = np.dtype([(\"qint16\", np.int16, 1)])\n",
      "d:\\Python Projects\\Actuarial_NN_Forecasting\\test_env\\lib\\site-packages\\tensorflow\\python\\framework\\dtypes.py:519: FutureWarning: Passing (type, 1) or '1type' as a synonym of type is deprecated; in a future version of numpy, it will be understood as (type, (1,)) / '(1,)type'.\n",
      "  _np_quint16 = np.dtype([(\"quint16\", np.uint16, 1)])\n",
      "d:\\Python Projects\\Actuarial_NN_Forecasting\\test_env\\lib\\site-packages\\tensorflow\\python\\framework\\dtypes.py:520: FutureWarning: Passing (type, 1) or '1type' as a synonym of type is deprecated; in a future version of numpy, it will be understood as (type, (1,)) / '(1,)type'.\n",
      "  _np_qint32 = np.dtype([(\"qint32\", np.int32, 1)])\n",
      "d:\\Python Projects\\Actuarial_NN_Forecasting\\test_env\\lib\\site-packages\\tensorflow\\python\\framework\\dtypes.py:525: FutureWarning: Passing (type, 1) or '1type' as a synonym of type is deprecated; in a future version of numpy, it will be understood as (type, (1,)) / '(1,)type'.\n",
      "  np_resource = np.dtype([(\"resource\", np.ubyte, 1)])\n",
      "d:\\Python Projects\\Actuarial_NN_Forecasting\\test_env\\lib\\site-packages\\tensorboard\\compat\\tensorflow_stub\\dtypes.py:541: FutureWarning: Passing (type, 1) or '1type' as a synonym of type is deprecated; in a future version of numpy, it will be understood as (type, (1,)) / '(1,)type'.\n",
      "  _np_qint8 = np.dtype([(\"qint8\", np.int8, 1)])\n",
      "d:\\Python Projects\\Actuarial_NN_Forecasting\\test_env\\lib\\site-packages\\tensorboard\\compat\\tensorflow_stub\\dtypes.py:542: FutureWarning: Passing (type, 1) or '1type' as a synonym of type is deprecated; in a future version of numpy, it will be understood as (type, (1,)) / '(1,)type'.\n",
      "  _np_quint8 = np.dtype([(\"quint8\", np.uint8, 1)])\n",
      "d:\\Python Projects\\Actuarial_NN_Forecasting\\test_env\\lib\\site-packages\\tensorboard\\compat\\tensorflow_stub\\dtypes.py:543: FutureWarning: Passing (type, 1) or '1type' as a synonym of type is deprecated; in a future version of numpy, it will be understood as (type, (1,)) / '(1,)type'.\n",
      "  _np_qint16 = np.dtype([(\"qint16\", np.int16, 1)])\n",
      "d:\\Python Projects\\Actuarial_NN_Forecasting\\test_env\\lib\\site-packages\\tensorboard\\compat\\tensorflow_stub\\dtypes.py:544: FutureWarning: Passing (type, 1) or '1type' as a synonym of type is deprecated; in a future version of numpy, it will be understood as (type, (1,)) / '(1,)type'.\n",
      "  _np_quint16 = np.dtype([(\"quint16\", np.uint16, 1)])\n",
      "d:\\Python Projects\\Actuarial_NN_Forecasting\\test_env\\lib\\site-packages\\tensorboard\\compat\\tensorflow_stub\\dtypes.py:545: FutureWarning: Passing (type, 1) or '1type' as a synonym of type is deprecated; in a future version of numpy, it will be understood as (type, (1,)) / '(1,)type'.\n",
      "  _np_qint32 = np.dtype([(\"qint32\", np.int32, 1)])\n",
      "d:\\Python Projects\\Actuarial_NN_Forecasting\\test_env\\lib\\site-packages\\tensorboard\\compat\\tensorflow_stub\\dtypes.py:550: FutureWarning: Passing (type, 1) or '1type' as a synonym of type is deprecated; in a future version of numpy, it will be understood as (type, (1,)) / '(1,)type'.\n",
      "  np_resource = np.dtype([(\"resource\", np.ubyte, 1)])\n",
      "Using TensorFlow backend.\n",
      "d:\\Python Projects\\Actuarial_NN_Forecasting\\test_env\\lib\\site-packages\\tqdm\\auto.py:22: TqdmWarning: IProgress not found. Please update jupyter and ipywidgets. See https://ipywidgets.readthedocs.io/en/stable/user_install.html\n",
      "  from .autonotebook import tqdm as notebook_tqdm\n"
     ]
    }
   ],
   "source": [
    "import os\n",
    "import tensorflow as tf\n",
    "from methods.config import *\n",
    "from methods.clean_data import Data_Prep\n",
    "from methods.build_nn_model import build_model\n",
    "from methods.nn import get_NN_results\n",
    "from methods.var import get_VAR_results\n",
    "from methods.model_results import get_model_details\n",
    "from methods.data_methods import prepare_model_data, remove_outliers, prepare_X\n",
    "from methods.plot import plot_variables, plot_results, cluster_columns\n",
    "from methods.residual_bootstrap import get_prediction_intervals\n",
    "from methods.fund_forecast import reverse_diff\n",
    "import shap"
   ]
  },
  {
   "cell_type": "code",
   "execution_count": 2,
   "metadata": {},
   "outputs": [],
   "source": [
    "variable = \"UNRATE\"  # Select from CPIAUCSL, GS5, RPI and UNRATE"
   ]
  },
  {
   "cell_type": "code",
   "execution_count": 3,
   "metadata": {},
   "outputs": [],
   "source": [
    "END_YEAR = 2019  # Latest model\n",
    "OUTPUT_STEPS = 24  # Max forecast\n",
    "model_details = get_model_details(END_YEAR, variable, OUTPUT_STEPS)\n",
    "look_back_steps = int(model_details[\"look_back_years\"] * 12)\n",
    "number_of_pca = model_details[\"number_of_pca\"]"
   ]
  },
  {
   "cell_type": "markdown",
   "metadata": {},
   "source": [
    "# Train Model"
   ]
  },
  {
   "cell_type": "code",
   "execution_count": 4,
   "metadata": {},
   "outputs": [
    {
     "name": "stdout",
     "output_type": "stream",
     "text": [
      "Variable BOGMBASE not found in transformation dictionary\n"
     ]
    }
   ],
   "source": [
    "data_prep = Data_Prep(LATEST_DATA_PATH, TRANSFORM_PATH)\n",
    "data_prep.transform_to_supervised_learning(\n",
    "    NA_CUTOFF,\n",
    "    [variable],\n",
    "    24,\n",
    "    start=f\"{START_YEAR}-01-01\",\n",
    "    end=f\"2023-01-01\",\n",
    ")\n",
    "dataset = data_prep.supervised_dataset\n",
    "full_dataset = dataset[\"transformed_data\"]"
   ]
  },
  {
   "cell_type": "code",
   "execution_count": 5,
   "metadata": {},
   "outputs": [],
   "source": [
    "data = prepare_model_data(\n",
    "    window=full_dataset,\n",
    "    X_variables=dataset[\"X_variables\"],\n",
    "    Y_variables=dataset[\"Y_variables\"],\n",
    "    val_steps=VAL_STEPS,\n",
    "    look_back=look_back_steps,\n",
    "    test_steps=1,\n",
    "    remove_outlier=REMOVE_OUTLIER,\n",
    "    number_of_pca=number_of_pca,\n",
    "    target_variables=dataset[\"target_variables\"],\n",
    ")\n",
    "\n",
    "data[\"train_X\"] = data[\"train_X\"][len(data[\"train_X\"]) % BATCH_SIZE :]\n",
    "data[\"train_Y\"] = data[\"train_Y\"][len(data[\"train_Y\"]) % BATCH_SIZE :]"
   ]
  },
  {
   "cell_type": "code",
   "execution_count": 6,
   "metadata": {},
   "outputs": [
    {
     "name": "stdout",
     "output_type": "stream",
     "text": [
      "WARNING:tensorflow:From d:\\Python Projects\\Actuarial_NN_Forecasting\\test_env\\lib\\site-packages\\tensorflow\\python\\ops\\init_ops.py:1251: calling VarianceScaling.__init__ (from tensorflow.python.ops.init_ops) with dtype is deprecated and will be removed in a future version.\n",
      "Instructions for updating:\n",
      "Call initializer instance with the dtype argument instead of passing it to the constructor\n",
      "Model: \"sequential\"\n",
      "_________________________________________________________________\n",
      "Layer (type)                 Output Shape              Param #   \n",
      "=================================================================\n",
      "conv1d (Conv1D)              (None, 23, 64)            2752      \n",
      "_________________________________________________________________\n",
      "max_pooling1d (MaxPooling1D) (None, 11, 64)            0         \n",
      "_________________________________________________________________\n",
      "dropout (Dropout)            (None, 11, 64)            0         \n",
      "_________________________________________________________________\n",
      "lstm (LSTM)                  (None, 11, 32)            12416     \n",
      "_________________________________________________________________\n",
      "dropout_1 (Dropout)          (None, 11, 32)            0         \n",
      "_________________________________________________________________\n",
      "lstm_1 (LSTM)                (None, 128)               82432     \n",
      "_________________________________________________________________\n",
      "dropout_2 (Dropout)          (None, 128)               0         \n",
      "_________________________________________________________________\n",
      "dense (Dense)                (None, 24)                3096      \n",
      "=================================================================\n",
      "Total params: 100,696\n",
      "Trainable params: 100,696\n",
      "Non-trainable params: 0\n",
      "_________________________________________________________________\n"
     ]
    }
   ],
   "source": [
    "model = build_model(data, model_details)\n",
    "model.summary()"
   ]
  },
  {
   "cell_type": "code",
   "execution_count": 7,
   "metadata": {},
   "outputs": [
    {
     "name": "stdout",
     "output_type": "stream",
     "text": [
      "WARNING:tensorflow:From d:\\Python Projects\\Actuarial_NN_Forecasting\\test_env\\lib\\site-packages\\tensorflow\\python\\ops\\math_grad.py:1250: add_dispatch_support.<locals>.wrapper (from tensorflow.python.ops.array_ops) is deprecated and will be removed in a future version.\n",
      "Instructions for updating:\n",
      "Use tf.where in 2.0, which has the same broadcast rule as np.where\n"
     ]
    },
    {
     "data": {
      "text/plain": [
       "<tensorflow.python.keras.callbacks.History at 0x1398c30eda0>"
      ]
     },
     "execution_count": 7,
     "metadata": {},
     "output_type": "execute_result"
    }
   ],
   "source": [
    "model.fit(\n",
    "    x=data[\"train_X\"],\n",
    "    y=data[\"train_Y\"],\n",
    "    verbose=0,\n",
    "    epochs=EPOCHS,\n",
    "    batch_size=BATCH_SIZE,\n",
    "    callbacks=[tf.keras.callbacks.EarlyStopping(\"loss\", patience=5)],\n",
    "    validation_data=(data[\"val_X\"], data[\"val_Y\"])\n",
    "    )"
   ]
  },
  {
   "cell_type": "markdown",
   "metadata": {},
   "source": [
    "# Residual Bootstrapping"
   ]
  },
  {
   "cell_type": "code",
   "execution_count": 8,
   "metadata": {},
   "outputs": [],
   "source": [
    "residuals = model.predict(data[\"val_X\"]) - data[\"val_Y\"]"
   ]
  },
  {
   "cell_type": "code",
   "execution_count": 9,
   "metadata": {},
   "outputs": [],
   "source": [
    "import numpy as np\n",
    "lower_10 = np.percentile(residuals, 5, axis=0)\n",
    "upper_10 = np.percentile(residuals, 95, axis=0)\n",
    "lower_40 = np.percentile(residuals, 20, axis=0)\n",
    "upper_40 = np.percentile(residuals, 80, axis=0)"
   ]
  },
  {
   "cell_type": "markdown",
   "metadata": {},
   "source": [
    "# Predict Latest"
   ]
  },
  {
   "cell_type": "code",
   "execution_count": 10,
   "metadata": {},
   "outputs": [
    {
     "name": "stdout",
     "output_type": "stream",
     "text": [
      "Variable BOGMBASE not found in transformation dictionary\n"
     ]
    }
   ],
   "source": [
    "latest_data_prep = Data_Prep(LATEST_DATA_PATH, TRANSFORM_PATH)\n",
    "latest_data_prep.transform_to_supervised_learning(\n",
    "    NA_CUTOFF,\n",
    "    [variable],\n",
    "    0,\n",
    "    start=f\"{START_YEAR}-01-01\",\n",
    "    end=f\"2023-01-01\",\n",
    ")\n",
    "latest_dataset = latest_data_prep.supervised_dataset\n",
    "latest_full_dataset = latest_dataset[\"transformed_data\"]"
   ]
  },
  {
   "cell_type": "code",
   "execution_count": 11,
   "metadata": {},
   "outputs": [],
   "source": [
    "window = remove_outliers(latest_full_dataset, 0, 0, REMOVE_OUTLIER)\n",
    "X_data = prepare_X(\n",
    "        window, dataset[\"X_variables\"], 0, 1, number_of_pca, dataset[\"target_variables\"]\n",
    "    )\n",
    "X = list()\n",
    "for i in range(len(X_data)):\n",
    "    # Find the start of the final window\n",
    "    end_ix = i + look_back_steps\n",
    "    # Check if the end of the final window exceeds the length of dataset\n",
    "    if end_ix > len(X_data):\n",
    "        break\n",
    "    # gather input and output parts of the pattern\n",
    "    seq_x = X_data[i:end_ix]\n",
    "    X.append(seq_x)"
   ]
  },
  {
   "cell_type": "code",
   "execution_count": 12,
   "metadata": {},
   "outputs": [],
   "source": [
    "from numpy import array\n",
    "historical_data = latest_full_dataset[f\"{variable}(t)\"][-24:]\n",
    "\n",
    "predicted_series =  model.predict(array(X))[-1]\n",
    "predicted_index = pd.date_range(start=historical_data.index[-1], periods=len(predicted_series) + 1, freq=\"MS\")[1:]\n",
    "predicted_data = pd.Series(data = predicted_series, index=predicted_index)\n",
    "predict_lower_10 = predicted_data + lower_10\n",
    "predict_lower_40 = predicted_data + lower_40\n",
    "predict_upper_10 = predicted_data + upper_10\n",
    "predict_upper_40 = predicted_data + upper_40"
   ]
  },
  {
   "cell_type": "code",
   "execution_count": 13,
   "metadata": {},
   "outputs": [],
   "source": [
    "def reverse_transform(series, variables_t, variables_t_1):\n",
    "    if variable == \"GS5\" or variable == \"UNRATE\":\n",
    "        data =  1 + np.array(reverse_diff(variables_t, series))[1:] / 100\n",
    "    elif variable == \"RPI\":\n",
    "        data =  np.exp(series)\n",
    "    elif variable == \"CPIAUCSL\":\n",
    "        data =  np.exp(\n",
    "            reverse_diff(np.log(variables_t) - np.log(variables_t_1), series)\n",
    "        )[1:]\n",
    "    return pd.Series(data = data, index = series.index)"
   ]
  },
  {
   "cell_type": "code",
   "execution_count": 14,
   "metadata": {},
   "outputs": [],
   "source": [
    "reverse_historical_variables_t = data_prep.raw_data[variable].loc[historical_data.index[1]]\n",
    "reverse_historical_variables_t_1 = data_prep.raw_data[variable].loc[historical_data.index[0]]\n",
    "reverse_historical_data = reverse_transform(historical_data[2:], reverse_historical_variables_t, reverse_historical_variables_t_1)"
   ]
  },
  {
   "cell_type": "code",
   "execution_count": 15,
   "metadata": {},
   "outputs": [],
   "source": [
    "def reverse_predicted_data_func(predicted_data):\n",
    "    reverse_predict_variables_t = data_prep.raw_data[variable].loc[historical_data.index[-1]]\n",
    "    reverse_predict_variables_t_1 = data_prep.raw_data[variable].loc[historical_data.index[-2]]\n",
    "    return reverse_transform(predicted_data, reverse_predict_variables_t, reverse_predict_variables_t_1)"
   ]
  },
  {
   "cell_type": "code",
   "execution_count": 16,
   "metadata": {},
   "outputs": [],
   "source": [
    "reverse_predicted_data = reverse_predicted_data_func(predicted_data)\n",
    "reverse_predict_lower_10 = reverse_predicted_data_func(predict_lower_10)\n",
    "reverse_predict_lower_40 = reverse_predicted_data_func(predict_lower_40)\n",
    "reverse_predict_upper_10 = reverse_predicted_data_func(predict_upper_10)\n",
    "reverse_predict_upper_40 = reverse_predicted_data_func(predict_upper_40)"
   ]
  },
  {
   "cell_type": "code",
   "execution_count": 17,
   "metadata": {},
   "outputs": [
    {
     "data": {
      "application/vnd.plotly.v1+json": {
       "config": {
        "plotlyServerURL": "https://plot.ly"
       },
       "data": [
        {
         "line": {
          "color": "orange"
         },
         "mode": "lines",
         "name": "Historical",
         "type": "scatter",
         "x": [
          "2021-01-01T00:00:00",
          "2021-02-01T00:00:00",
          "2021-03-01T00:00:00",
          "2021-04-01T00:00:00",
          "2021-05-01T00:00:00",
          "2021-06-01T00:00:00",
          "2021-07-01T00:00:00",
          "2021-08-01T00:00:00",
          "2021-09-01T00:00:00",
          "2021-10-01T00:00:00",
          "2021-11-01T00:00:00",
          "2021-12-01T00:00:00",
          "2022-01-01T00:00:00",
          "2022-02-01T00:00:00",
          "2022-03-01T00:00:00",
          "2022-04-01T00:00:00",
          "2022-05-01T00:00:00",
          "2022-06-01T00:00:00",
          "2022-07-01T00:00:00",
          "2022-08-01T00:00:00",
          "2022-09-01T00:00:00",
          "2022-10-01T00:00:00"
         ],
         "y": [
          1.063,
          1.062,
          1.061,
          1.061,
          1.058,
          1.059,
          1.054,
          1.052,
          1.048,
          1.045,
          1.042,
          1.039,
          1.04,
          1.038,
          1.036,
          1.036,
          1.036,
          1.036,
          1.035,
          1.037,
          1.035,
          1.037
         ]
        },
        {
         "line": {
          "color": "blue"
         },
         "mode": "lines",
         "name": "Predicted",
         "type": "scatter",
         "x": [
          "2022-11-01T00:00:00",
          "2022-12-01T00:00:00",
          "2023-01-01T00:00:00",
          "2023-02-01T00:00:00",
          "2023-03-01T00:00:00",
          "2023-04-01T00:00:00",
          "2023-05-01T00:00:00",
          "2023-06-01T00:00:00",
          "2023-07-01T00:00:00",
          "2023-08-01T00:00:00",
          "2023-09-01T00:00:00",
          "2023-10-01T00:00:00",
          "2023-11-01T00:00:00",
          "2023-12-01T00:00:00",
          "2024-01-01T00:00:00",
          "2024-02-01T00:00:00",
          "2024-03-01T00:00:00",
          "2024-04-01T00:00:00",
          "2024-05-01T00:00:00",
          "2024-06-01T00:00:00",
          "2024-07-01T00:00:00",
          "2024-08-01T00:00:00",
          "2024-09-01T00:00:00",
          "2024-10-01T00:00:00"
         ],
         "y": [
          1.0382102012634278,
          1.0392592811584473,
          1.040282883644104,
          1.040882911682129,
          1.0415727806091308,
          1.0416348695755004,
          1.0418655586242676,
          1.0417149114608764,
          1.041679310798645,
          1.041202335357666,
          1.040851035118103,
          1.0400686264038086,
          1.0397268700599671,
          1.038952043056488,
          1.0387382459640504,
          1.0380241012573241,
          1.0379328560829162,
          1.037566134929657,
          1.0377644872665406,
          1.037312240600586,
          1.0373762226104737,
          1.0370483160018922,
          1.0368856477737427,
          1.0364361476898194
         ]
        },
        {
         "line": {
          "color": "cyan",
          "dash": "dash"
         },
         "mode": "lines",
         "name": "0.1",
         "type": "scatter",
         "x": [
          "2022-11-01T00:00:00",
          "2022-12-01T00:00:00",
          "2023-01-01T00:00:00",
          "2023-02-01T00:00:00",
          "2023-03-01T00:00:00",
          "2023-04-01T00:00:00",
          "2023-05-01T00:00:00",
          "2023-06-01T00:00:00",
          "2023-07-01T00:00:00",
          "2023-08-01T00:00:00",
          "2023-09-01T00:00:00",
          "2023-10-01T00:00:00",
          "2023-11-01T00:00:00",
          "2023-12-01T00:00:00",
          "2024-01-01T00:00:00",
          "2024-02-01T00:00:00",
          "2024-03-01T00:00:00",
          "2024-04-01T00:00:00",
          "2024-05-01T00:00:00",
          "2024-06-01T00:00:00",
          "2024-07-01T00:00:00",
          "2024-08-01T00:00:00",
          "2024-09-01T00:00:00",
          "2024-10-01T00:00:00"
         ],
         "y": [
          1.0362506062671542,
          1.0356725493025034,
          1.0347010168192907,
          1.0336411677679047,
          1.0321956396279857,
          1.0305589668996633,
          1.0286480968508869,
          1.0266612479167059,
          1.0245973270690067,
          1.022358251439873,
          1.0198093314365484,
          1.0171314088043757,
          1.0146347031068987,
          1.0118778935876676,
          1.0094382125516421,
          1.0065673004229554,
          1.0043337842554785,
          1.001883620075602,
          0.9997910338529385,
          0.9971619864911772,
          0.99501081786016,
          0.99321727594072,
          0.991121328399796,
          0.9886209767420776
         ]
        },
        {
         "line": {
          "color": "paleturquoise",
          "dash": "dash"
         },
         "mode": "lines",
         "name": "0.4",
         "type": "scatter",
         "x": [
          "2022-11-01T00:00:00",
          "2022-12-01T00:00:00",
          "2023-01-01T00:00:00",
          "2023-02-01T00:00:00",
          "2023-03-01T00:00:00",
          "2023-04-01T00:00:00",
          "2023-05-01T00:00:00",
          "2023-06-01T00:00:00",
          "2023-07-01T00:00:00",
          "2023-08-01T00:00:00",
          "2023-09-01T00:00:00",
          "2023-10-01T00:00:00",
          "2023-11-01T00:00:00",
          "2023-12-01T00:00:00",
          "2024-01-01T00:00:00",
          "2024-02-01T00:00:00",
          "2024-03-01T00:00:00",
          "2024-04-01T00:00:00",
          "2024-05-01T00:00:00",
          "2024-06-01T00:00:00",
          "2024-07-01T00:00:00",
          "2024-08-01T00:00:00",
          "2024-09-01T00:00:00",
          "2024-10-01T00:00:00"
         ],
         "y": [
          1.0373765312060714,
          1.037513401798904,
          1.037687158215791,
          1.037321139422711,
          1.0371425929381513,
          1.0362224215152673,
          1.0355808450863697,
          1.0343220350653866,
          1.0334185832091607,
          1.0317942884401419,
          1.030462102367077,
          1.028502299936954,
          1.0272473238506354,
          1.025339371188078,
          1.0242040535327979,
          1.022197137881536,
          1.0212902448126115,
          1.0196918986202217,
          1.0190635408633388,
          1.0173196496912278,
          1.0164849844467827,
          1.0152406827528961,
          1.014200122974906,
          1.0125140098110772
         ]
        },
        {
         "line": {
          "color": "cyan",
          "dash": "dash"
         },
         "mode": "lines",
         "name": "0.1",
         "showlegend": false,
         "type": "scatter",
         "x": [
          "2022-11-01T00:00:00",
          "2022-12-01T00:00:00",
          "2023-01-01T00:00:00",
          "2023-02-01T00:00:00",
          "2023-03-01T00:00:00",
          "2023-04-01T00:00:00",
          "2023-05-01T00:00:00",
          "2023-06-01T00:00:00",
          "2023-07-01T00:00:00",
          "2023-08-01T00:00:00",
          "2023-09-01T00:00:00",
          "2023-10-01T00:00:00",
          "2023-11-01T00:00:00",
          "2023-12-01T00:00:00",
          "2024-01-01T00:00:00",
          "2024-02-01T00:00:00",
          "2024-03-01T00:00:00",
          "2024-04-01T00:00:00",
          "2024-05-01T00:00:00",
          "2024-06-01T00:00:00",
          "2024-07-01T00:00:00",
          "2024-08-01T00:00:00",
          "2024-09-01T00:00:00",
          "2024-10-01T00:00:00"
         ],
         "y": [
          1.0472368801862002,
          1.0574362701716833,
          1.0673813208426348,
          1.0770199871421093,
          1.0864365798957878,
          1.095687988996692,
          1.1047716226795687,
          1.1137039374472573,
          1.122641108451225,
          1.1313456483441406,
          1.1399031013983303,
          1.1482094484771603,
          1.1568730286542326,
          1.1651343245904893,
          1.1738802727572621,
          1.1819841254765169,
          1.190863336329721,
          1.1994625037099236,
          1.2087172650762834,
          1.2171127382596023,
          1.2261741195905023,
          1.2348236799839885,
          1.24359540749304,
          1.252262913952046
         ]
        },
        {
         "line": {
          "color": "paleturquoise",
          "dash": "dash"
         },
         "mode": "lines",
         "name": "0.4",
         "showlegend": false,
         "type": "scatter",
         "x": [
          "2022-11-01T00:00:00",
          "2022-12-01T00:00:00",
          "2023-01-01T00:00:00",
          "2023-02-01T00:00:00",
          "2023-03-01T00:00:00",
          "2023-04-01T00:00:00",
          "2023-05-01T00:00:00",
          "2023-06-01T00:00:00",
          "2023-07-01T00:00:00",
          "2023-08-01T00:00:00",
          "2023-09-01T00:00:00",
          "2023-10-01T00:00:00",
          "2023-11-01T00:00:00",
          "2023-12-01T00:00:00",
          "2024-01-01T00:00:00",
          "2024-02-01T00:00:00",
          "2024-03-01T00:00:00",
          "2024-04-01T00:00:00",
          "2024-05-01T00:00:00",
          "2024-06-01T00:00:00",
          "2024-07-01T00:00:00",
          "2024-08-01T00:00:00",
          "2024-09-01T00:00:00",
          "2024-10-01T00:00:00"
         ],
         "y": [
          1.0399043302200734,
          1.0428343871552497,
          1.0454607065338641,
          1.0478785221073776,
          1.050160743476823,
          1.0520111881000922,
          1.0537435586852952,
          1.0553773358529435,
          1.0570579185439273,
          1.0584482942884788,
          1.059872161223553,
          1.0608982903985307,
          1.0630555543279276,
          1.064847885867022,
          1.0675094811989925,
          1.0693269455357455,
          1.0722000658012927,
          1.074322152594477,
          1.07755900392998,
          1.0794884158181026,
          1.0824799650752917,
          1.0846306109273807,
          1.0873110918192193,
          1.08952109626811
         ]
        }
       ],
       "layout": {
        "plot_bgcolor": "white",
        "template": {
         "data": {
          "bar": [
           {
            "error_x": {
             "color": "#2a3f5f"
            },
            "error_y": {
             "color": "#2a3f5f"
            },
            "marker": {
             "line": {
              "color": "#E5ECF6",
              "width": 0.5
             }
            },
            "type": "bar"
           }
          ],
          "barpolar": [
           {
            "marker": {
             "line": {
              "color": "#E5ECF6",
              "width": 0.5
             }
            },
            "type": "barpolar"
           }
          ],
          "carpet": [
           {
            "aaxis": {
             "endlinecolor": "#2a3f5f",
             "gridcolor": "white",
             "linecolor": "white",
             "minorgridcolor": "white",
             "startlinecolor": "#2a3f5f"
            },
            "baxis": {
             "endlinecolor": "#2a3f5f",
             "gridcolor": "white",
             "linecolor": "white",
             "minorgridcolor": "white",
             "startlinecolor": "#2a3f5f"
            },
            "type": "carpet"
           }
          ],
          "choropleth": [
           {
            "colorbar": {
             "outlinewidth": 0,
             "ticks": ""
            },
            "type": "choropleth"
           }
          ],
          "contour": [
           {
            "colorbar": {
             "outlinewidth": 0,
             "ticks": ""
            },
            "colorscale": [
             [
              0,
              "#0d0887"
             ],
             [
              0.1111111111111111,
              "#46039f"
             ],
             [
              0.2222222222222222,
              "#7201a8"
             ],
             [
              0.3333333333333333,
              "#9c179e"
             ],
             [
              0.4444444444444444,
              "#bd3786"
             ],
             [
              0.5555555555555556,
              "#d8576b"
             ],
             [
              0.6666666666666666,
              "#ed7953"
             ],
             [
              0.7777777777777778,
              "#fb9f3a"
             ],
             [
              0.8888888888888888,
              "#fdca26"
             ],
             [
              1,
              "#f0f921"
             ]
            ],
            "type": "contour"
           }
          ],
          "contourcarpet": [
           {
            "colorbar": {
             "outlinewidth": 0,
             "ticks": ""
            },
            "type": "contourcarpet"
           }
          ],
          "heatmap": [
           {
            "colorbar": {
             "outlinewidth": 0,
             "ticks": ""
            },
            "colorscale": [
             [
              0,
              "#0d0887"
             ],
             [
              0.1111111111111111,
              "#46039f"
             ],
             [
              0.2222222222222222,
              "#7201a8"
             ],
             [
              0.3333333333333333,
              "#9c179e"
             ],
             [
              0.4444444444444444,
              "#bd3786"
             ],
             [
              0.5555555555555556,
              "#d8576b"
             ],
             [
              0.6666666666666666,
              "#ed7953"
             ],
             [
              0.7777777777777778,
              "#fb9f3a"
             ],
             [
              0.8888888888888888,
              "#fdca26"
             ],
             [
              1,
              "#f0f921"
             ]
            ],
            "type": "heatmap"
           }
          ],
          "heatmapgl": [
           {
            "colorbar": {
             "outlinewidth": 0,
             "ticks": ""
            },
            "colorscale": [
             [
              0,
              "#0d0887"
             ],
             [
              0.1111111111111111,
              "#46039f"
             ],
             [
              0.2222222222222222,
              "#7201a8"
             ],
             [
              0.3333333333333333,
              "#9c179e"
             ],
             [
              0.4444444444444444,
              "#bd3786"
             ],
             [
              0.5555555555555556,
              "#d8576b"
             ],
             [
              0.6666666666666666,
              "#ed7953"
             ],
             [
              0.7777777777777778,
              "#fb9f3a"
             ],
             [
              0.8888888888888888,
              "#fdca26"
             ],
             [
              1,
              "#f0f921"
             ]
            ],
            "type": "heatmapgl"
           }
          ],
          "histogram": [
           {
            "marker": {
             "colorbar": {
              "outlinewidth": 0,
              "ticks": ""
             }
            },
            "type": "histogram"
           }
          ],
          "histogram2d": [
           {
            "colorbar": {
             "outlinewidth": 0,
             "ticks": ""
            },
            "colorscale": [
             [
              0,
              "#0d0887"
             ],
             [
              0.1111111111111111,
              "#46039f"
             ],
             [
              0.2222222222222222,
              "#7201a8"
             ],
             [
              0.3333333333333333,
              "#9c179e"
             ],
             [
              0.4444444444444444,
              "#bd3786"
             ],
             [
              0.5555555555555556,
              "#d8576b"
             ],
             [
              0.6666666666666666,
              "#ed7953"
             ],
             [
              0.7777777777777778,
              "#fb9f3a"
             ],
             [
              0.8888888888888888,
              "#fdca26"
             ],
             [
              1,
              "#f0f921"
             ]
            ],
            "type": "histogram2d"
           }
          ],
          "histogram2dcontour": [
           {
            "colorbar": {
             "outlinewidth": 0,
             "ticks": ""
            },
            "colorscale": [
             [
              0,
              "#0d0887"
             ],
             [
              0.1111111111111111,
              "#46039f"
             ],
             [
              0.2222222222222222,
              "#7201a8"
             ],
             [
              0.3333333333333333,
              "#9c179e"
             ],
             [
              0.4444444444444444,
              "#bd3786"
             ],
             [
              0.5555555555555556,
              "#d8576b"
             ],
             [
              0.6666666666666666,
              "#ed7953"
             ],
             [
              0.7777777777777778,
              "#fb9f3a"
             ],
             [
              0.8888888888888888,
              "#fdca26"
             ],
             [
              1,
              "#f0f921"
             ]
            ],
            "type": "histogram2dcontour"
           }
          ],
          "mesh3d": [
           {
            "colorbar": {
             "outlinewidth": 0,
             "ticks": ""
            },
            "type": "mesh3d"
           }
          ],
          "parcoords": [
           {
            "line": {
             "colorbar": {
              "outlinewidth": 0,
              "ticks": ""
             }
            },
            "type": "parcoords"
           }
          ],
          "pie": [
           {
            "automargin": true,
            "type": "pie"
           }
          ],
          "scatter": [
           {
            "marker": {
             "colorbar": {
              "outlinewidth": 0,
              "ticks": ""
             }
            },
            "type": "scatter"
           }
          ],
          "scatter3d": [
           {
            "line": {
             "colorbar": {
              "outlinewidth": 0,
              "ticks": ""
             }
            },
            "marker": {
             "colorbar": {
              "outlinewidth": 0,
              "ticks": ""
             }
            },
            "type": "scatter3d"
           }
          ],
          "scattercarpet": [
           {
            "marker": {
             "colorbar": {
              "outlinewidth": 0,
              "ticks": ""
             }
            },
            "type": "scattercarpet"
           }
          ],
          "scattergeo": [
           {
            "marker": {
             "colorbar": {
              "outlinewidth": 0,
              "ticks": ""
             }
            },
            "type": "scattergeo"
           }
          ],
          "scattergl": [
           {
            "marker": {
             "colorbar": {
              "outlinewidth": 0,
              "ticks": ""
             }
            },
            "type": "scattergl"
           }
          ],
          "scattermapbox": [
           {
            "marker": {
             "colorbar": {
              "outlinewidth": 0,
              "ticks": ""
             }
            },
            "type": "scattermapbox"
           }
          ],
          "scatterpolar": [
           {
            "marker": {
             "colorbar": {
              "outlinewidth": 0,
              "ticks": ""
             }
            },
            "type": "scatterpolar"
           }
          ],
          "scatterpolargl": [
           {
            "marker": {
             "colorbar": {
              "outlinewidth": 0,
              "ticks": ""
             }
            },
            "type": "scatterpolargl"
           }
          ],
          "scatterternary": [
           {
            "marker": {
             "colorbar": {
              "outlinewidth": 0,
              "ticks": ""
             }
            },
            "type": "scatterternary"
           }
          ],
          "surface": [
           {
            "colorbar": {
             "outlinewidth": 0,
             "ticks": ""
            },
            "colorscale": [
             [
              0,
              "#0d0887"
             ],
             [
              0.1111111111111111,
              "#46039f"
             ],
             [
              0.2222222222222222,
              "#7201a8"
             ],
             [
              0.3333333333333333,
              "#9c179e"
             ],
             [
              0.4444444444444444,
              "#bd3786"
             ],
             [
              0.5555555555555556,
              "#d8576b"
             ],
             [
              0.6666666666666666,
              "#ed7953"
             ],
             [
              0.7777777777777778,
              "#fb9f3a"
             ],
             [
              0.8888888888888888,
              "#fdca26"
             ],
             [
              1,
              "#f0f921"
             ]
            ],
            "type": "surface"
           }
          ],
          "table": [
           {
            "cells": {
             "fill": {
              "color": "#EBF0F8"
             },
             "line": {
              "color": "white"
             }
            },
            "header": {
             "fill": {
              "color": "#C8D4E3"
             },
             "line": {
              "color": "white"
             }
            },
            "type": "table"
           }
          ]
         },
         "layout": {
          "annotationdefaults": {
           "arrowcolor": "#2a3f5f",
           "arrowhead": 0,
           "arrowwidth": 1
          },
          "autotypenumbers": "strict",
          "coloraxis": {
           "colorbar": {
            "outlinewidth": 0,
            "ticks": ""
           }
          },
          "colorscale": {
           "diverging": [
            [
             0,
             "#8e0152"
            ],
            [
             0.1,
             "#c51b7d"
            ],
            [
             0.2,
             "#de77ae"
            ],
            [
             0.3,
             "#f1b6da"
            ],
            [
             0.4,
             "#fde0ef"
            ],
            [
             0.5,
             "#f7f7f7"
            ],
            [
             0.6,
             "#e6f5d0"
            ],
            [
             0.7,
             "#b8e186"
            ],
            [
             0.8,
             "#7fbc41"
            ],
            [
             0.9,
             "#4d9221"
            ],
            [
             1,
             "#276419"
            ]
           ],
           "sequential": [
            [
             0,
             "#0d0887"
            ],
            [
             0.1111111111111111,
             "#46039f"
            ],
            [
             0.2222222222222222,
             "#7201a8"
            ],
            [
             0.3333333333333333,
             "#9c179e"
            ],
            [
             0.4444444444444444,
             "#bd3786"
            ],
            [
             0.5555555555555556,
             "#d8576b"
            ],
            [
             0.6666666666666666,
             "#ed7953"
            ],
            [
             0.7777777777777778,
             "#fb9f3a"
            ],
            [
             0.8888888888888888,
             "#fdca26"
            ],
            [
             1,
             "#f0f921"
            ]
           ],
           "sequentialminus": [
            [
             0,
             "#0d0887"
            ],
            [
             0.1111111111111111,
             "#46039f"
            ],
            [
             0.2222222222222222,
             "#7201a8"
            ],
            [
             0.3333333333333333,
             "#9c179e"
            ],
            [
             0.4444444444444444,
             "#bd3786"
            ],
            [
             0.5555555555555556,
             "#d8576b"
            ],
            [
             0.6666666666666666,
             "#ed7953"
            ],
            [
             0.7777777777777778,
             "#fb9f3a"
            ],
            [
             0.8888888888888888,
             "#fdca26"
            ],
            [
             1,
             "#f0f921"
            ]
           ]
          },
          "colorway": [
           "#636efa",
           "#EF553B",
           "#00cc96",
           "#ab63fa",
           "#FFA15A",
           "#19d3f3",
           "#FF6692",
           "#B6E880",
           "#FF97FF",
           "#FECB52"
          ],
          "font": {
           "color": "#2a3f5f"
          },
          "geo": {
           "bgcolor": "white",
           "lakecolor": "white",
           "landcolor": "#E5ECF6",
           "showlakes": true,
           "showland": true,
           "subunitcolor": "white"
          },
          "hoverlabel": {
           "align": "left"
          },
          "hovermode": "closest",
          "mapbox": {
           "style": "light"
          },
          "paper_bgcolor": "white",
          "plot_bgcolor": "#E5ECF6",
          "polar": {
           "angularaxis": {
            "gridcolor": "white",
            "linecolor": "white",
            "ticks": ""
           },
           "bgcolor": "#E5ECF6",
           "radialaxis": {
            "gridcolor": "white",
            "linecolor": "white",
            "ticks": ""
           }
          },
          "scene": {
           "xaxis": {
            "backgroundcolor": "#E5ECF6",
            "gridcolor": "white",
            "gridwidth": 2,
            "linecolor": "white",
            "showbackground": true,
            "ticks": "",
            "zerolinecolor": "white"
           },
           "yaxis": {
            "backgroundcolor": "#E5ECF6",
            "gridcolor": "white",
            "gridwidth": 2,
            "linecolor": "white",
            "showbackground": true,
            "ticks": "",
            "zerolinecolor": "white"
           },
           "zaxis": {
            "backgroundcolor": "#E5ECF6",
            "gridcolor": "white",
            "gridwidth": 2,
            "linecolor": "white",
            "showbackground": true,
            "ticks": "",
            "zerolinecolor": "white"
           }
          },
          "shapedefaults": {
           "line": {
            "color": "#2a3f5f"
           }
          },
          "ternary": {
           "aaxis": {
            "gridcolor": "white",
            "linecolor": "white",
            "ticks": ""
           },
           "baxis": {
            "gridcolor": "white",
            "linecolor": "white",
            "ticks": ""
           },
           "bgcolor": "#E5ECF6",
           "caxis": {
            "gridcolor": "white",
            "linecolor": "white",
            "ticks": ""
           }
          },
          "title": {
           "x": 0.05
          },
          "xaxis": {
           "automargin": true,
           "gridcolor": "white",
           "linecolor": "white",
           "ticks": "",
           "title": {
            "standoff": 15
           },
           "zerolinecolor": "white",
           "zerolinewidth": 2
          },
          "yaxis": {
           "automargin": true,
           "gridcolor": "white",
           "linecolor": "white",
           "ticks": "",
           "title": {
            "standoff": 15
           },
           "zerolinecolor": "white",
           "zerolinewidth": 2
          }
         }
        },
        "title": {
         "text": "Unemployment"
        }
       }
      }
     },
     "metadata": {},
     "output_type": "display_data"
    }
   ],
   "source": [
    "import plotly.graph_objects as go\n",
    "\n",
    "# Create a new figure\n",
    "fig = go.Figure()\n",
    "\n",
    "# Add each time series as a separate trace with the 'lines' mode\n",
    "fig.add_trace(go.Scatter(x=reverse_historical_data.index, y=reverse_historical_data.values, name='Historical', mode='lines', line=dict(color='orange')))\n",
    "fig.add_trace(go.Scatter(x=reverse_predicted_data.index, y=reverse_predicted_data.values, name='Predicted', mode='lines', line=dict(color='blue')))\n",
    "fig.add_trace(go.Scatter(x=reverse_predict_lower_10.index, y=reverse_predict_lower_10.values, name='0.1', mode='lines', line=dict(color='cyan', dash='dash')))\n",
    "fig.add_trace(go.Scatter(x=reverse_predict_lower_40.index, y=reverse_predict_lower_40.values, name='0.4', mode='lines', line=dict(color='paleturquoise', dash='dash')))\n",
    "fig.add_trace(go.Scatter(x=reverse_predict_upper_10.index, y=reverse_predict_upper_10.values, name='0.1', mode='lines', line=dict(color='cyan', dash='dash')))\n",
    "fig.add_trace(go.Scatter(x=reverse_predict_upper_40.index, y=reverse_predict_upper_40.values, name='0.4', mode='lines', line=dict(color='paleturquoise', dash='dash')))\n",
    "\n",
    "names = set()\n",
    "fig.for_each_trace(\n",
    "    lambda trace:\n",
    "        trace.update(showlegend=False)\n",
    "        if (trace.name in names) else names.add(trace.name))\n",
    "\n",
    "fig.update_layout(plot_bgcolor ='white', title = VARIABLES_MAP[variable])"
   ]
  },
  {
   "cell_type": "code",
   "execution_count": null,
   "metadata": {},
   "outputs": [],
   "source": []
  }
 ],
 "metadata": {
  "kernelspec": {
   "display_name": "Python 3.7.0 ('test_env': venv)",
   "language": "python",
   "name": "python3"
  },
  "language_info": {
   "codemirror_mode": {
    "name": "ipython",
    "version": 3
   },
   "file_extension": ".py",
   "mimetype": "text/x-python",
   "name": "python",
   "nbconvert_exporter": "python",
   "pygments_lexer": "ipython3",
   "version": "3.7.0"
  },
  "orig_nbformat": 4,
  "vscode": {
   "interpreter": {
    "hash": "035b554e3549a2b2468cb30fcc59f94af0d4b55bc9ff889feec7e35d12f7b752"
   }
  }
 },
 "nbformat": 4,
 "nbformat_minor": 2
}
