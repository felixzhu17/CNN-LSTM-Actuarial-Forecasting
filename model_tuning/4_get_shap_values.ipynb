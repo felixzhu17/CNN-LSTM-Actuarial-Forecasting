{
 "cells": [
  {
   "cell_type": "code",
   "execution_count": null,
   "metadata": {},
   "outputs": [],
   "source": [
    "import pickle\n",
    "import os\n",
    "import sys\n",
    "from tqdm import tqdm\n",
    "\n",
    "project_root = os.path.abspath('..')\n",
    "sys.path.insert(0, project_root)"
   ]
  },
  {
   "cell_type": "code",
   "execution_count": null,
   "metadata": {},
   "outputs": [],
   "source": [
    "from methods.config import *\n",
    "from methods.clean_data import Data_Prep\n",
    "from methods.build_nn_model import build_model\n",
    "from methods.nn import get_NN_results\n",
    "from methods.model_results import get_model_details\n",
    "from methods.data_methods import prepare_model_data\n",
    "from methods.shap_methods import NNForecastShap, shap_file_path"
   ]
  },
  {
   "cell_type": "code",
   "execution_count": null,
   "metadata": {},
   "outputs": [],
   "source": [
    "END_YEAR = 2019\n",
    "VARIABLES = [\"CPIAUCSL\", \"GS5\", \"RPI\", \"UNRATE\"]\n",
    "OUTPUT_STEPS = 1"
   ]
  },
  {
   "cell_type": "code",
   "execution_count": null,
   "metadata": {},
   "outputs": [],
   "source": [
    "def get_shap_object(variable):\n",
    "    data_prep = Data_Prep(DATA_PATH, TRANSFORM_PATH)\n",
    "    model_details = get_model_details(END_YEAR, variable, OUTPUT_STEPS)\n",
    "    look_back_steps = int(model_details[\"look_back_years\"] * 12)\n",
    "    number_of_pca = model_details[\"number_of_pca\"]\n",
    "\n",
    "    data_prep.transform_to_supervised_learning(\n",
    "        NA_CUTOFF,\n",
    "        [variable],\n",
    "        OUTPUT_STEPS,\n",
    "        start=f\"{START_YEAR}-01-01\",\n",
    "        end=f\"{END_YEAR}-01-01\",\n",
    "    )\n",
    "    dataset = data_prep.supervised_dataset\n",
    "    full_dataset = dataset[\"transformed_data\"]\n",
    "\n",
    "    data = prepare_model_data(\n",
    "        window=full_dataset,\n",
    "        X_variables=dataset[\"X_variables\"],\n",
    "        Y_variables=dataset[\"Y_variables\"],\n",
    "        val_steps=VAL_STEPS,\n",
    "        look_back=look_back_steps,\n",
    "        test_steps=TEST_STEPS,\n",
    "        remove_outlier=REMOVE_OUTLIER,\n",
    "        number_of_pca=number_of_pca,\n",
    "        target_variables=dataset[\"target_variables\"],\n",
    "    )\n",
    "\n",
    "    data[\"train_X\"] = data[\"train_X\"][len(data[\"train_X\"]) % BATCH_SIZE :]\n",
    "    data[\"train_Y\"] = data[\"train_Y\"][len(data[\"train_Y\"]) % BATCH_SIZE :]\n",
    "\n",
    "    model = build_model(data, model_details)\n",
    "\n",
    "    NN_results = get_NN_results(\n",
    "        model,\n",
    "        data,\n",
    "        VAL_STEPS,\n",
    "        TEST_STEPS,\n",
    "        look_back_steps,\n",
    "        dataset,\n",
    "        BATCH_SIZE,\n",
    "        EPOCHS,\n",
    "        executions=1,\n",
    "    )\n",
    "    return NNForecastShap(\n",
    "        NN_results.test_models[0],\n",
    "        NN_results.data.test_X,\n",
    "        VARIABLES_MAP[dataset[\"target_variables\"][0]],\n",
    "        model_details,\n",
    "    )"
   ]
  },
  {
   "cell_type": "code",
   "execution_count": null,
   "metadata": {},
   "outputs": [],
   "source": [
    "for variable in tqdm(VARIABLES):\n",
    "    with open(shap_file_path(variable), \"wb\") as f:\n",
    "        pickle.dump(get_shap_object(variable), f)"
   ]
  }
 ],
 "metadata": {
  "kernelspec": {
   "display_name": "Python 3.7.0 ('test_env': venv)",
   "language": "python",
   "name": "python3"
  },
  "language_info": {
   "name": "python",
   "version": "3.7.0"
  },
  "orig_nbformat": 4,
  "vscode": {
   "interpreter": {
    "hash": "1e2d91fb65b96884a8286dee7101ba4df0b27527fcb842f349683bd074015729"
   }
  }
 },
 "nbformat": 4,
 "nbformat_minor": 2
}
