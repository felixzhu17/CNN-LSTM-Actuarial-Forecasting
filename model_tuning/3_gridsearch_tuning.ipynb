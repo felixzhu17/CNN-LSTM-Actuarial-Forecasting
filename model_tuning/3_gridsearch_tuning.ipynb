{
 "cells": [
  {
   "cell_type": "code",
   "execution_count": 1,
   "metadata": {},
   "outputs": [],
   "source": [
    "import json\n",
    "import pickle\n",
    "import os\n",
    "import sys\n",
    "\n",
    "project_root = os.path.abspath('..')\n",
    "sys.path.insert(0, project_root)"
   ]
  },
  {
   "cell_type": "code",
   "execution_count": 6,
   "metadata": {},
   "outputs": [],
   "source": [
    "from methods.analyse_hypertune import hypertune_best_results\n",
    "from methods.config import *"
   ]
  },
  {
   "cell_type": "code",
   "execution_count": 8,
   "metadata": {},
   "outputs": [],
   "source": [
    "results = []\n",
    "for end_year in PERIODS_MAP.values():\n",
    "    for output_steps in OUTPUT_STEPS:\n",
    "        for variable in TARGET_VARIABLES:\n",
    "            pickle_file_path = os.path.join(TUNING_RESULTS_PATH, f\"{end_year}_{output_steps}_{variable}_results.pkl\")\n",
    "            results.extend(\n",
    "                pickle.load(open(pickle_file_path, \"rb\"))\n",
    "            )"
   ]
  },
  {
   "cell_type": "code",
   "execution_count": 6,
   "metadata": {},
   "outputs": [],
   "source": [
    "best_results, best_results_detailed = hypertune_best_results(results)"
   ]
  },
  {
   "cell_type": "code",
   "execution_count": null,
   "metadata": {},
   "outputs": [],
   "source": [
    "with open(MODEL_INFO, \"w\") as f:\n",
    "    json.dump(best_results_detailed, f)"
   ]
  }
 ],
 "metadata": {
  "kernelspec": {
   "display_name": "Python 3.8.5 ('base')",
   "language": "python",
   "name": "python3"
  },
  "language_info": {
   "codemirror_mode": {
    "name": "ipython",
    "version": 3
   },
   "file_extension": ".py",
   "mimetype": "text/x-python",
   "name": "python",
   "nbconvert_exporter": "python",
   "pygments_lexer": "ipython3",
   "version": "3.8.5"
  },
  "orig_nbformat": 4,
  "vscode": {
   "interpreter": {
    "hash": "9c2396ee008e4910c299ae7134fa9bf09084771bab5830620999247b4a514b46"
   }
  }
 },
 "nbformat": 4,
 "nbformat_minor": 2
}
